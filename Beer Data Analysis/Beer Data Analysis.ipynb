{
 "cells": [
  {
   "cell_type": "markdown",
   "id": "5f6580b9-99ac-4f0f-a131-b88ca9c9ef99",
   "metadata": {
    "tags": []
   },
   "source": [
    "# Evolent Health: Beer Data Analysis"
   ]
  },
  {
   "cell_type": "markdown",
   "id": "cdfbb854-9918-4f8e-8920-c359a56172b4",
   "metadata": {},
   "source": [
    "**Leng Yang**\n",
    "\n",
    "**Last Updated: 2/3/25**"
   ]
  },
  {
   "cell_type": "markdown",
   "id": "6801ec6e-5837-4132-bb74-8b15f135609c",
   "metadata": {
    "tags": []
   },
   "source": [
    "## Assignment\n",
    "\n",
    "Project Source: https://platform.stratascratch.com/data-projects/beer-data-analysis\n",
    "\n",
    "In this assignment you will work with a beer data set. Please provide an answer to the questions below. Answer as many questions as possible:\n",
    "\n",
    "1. Rank the top 3 breweries which produce the strongest beers.\n",
    "2. Which year did beers enjoy the highest ratings?\n",
    "3. Based on the users' ratings, which factors are important among taste, aroma, appearance, and palette?\n",
    "4. If you were to recommend 3 beers to your friends based on this data, which ones would you recommend?\n",
    "5. Which beer style seems to be the favourite based on the reviews written by users? How does written reviews compare to overall review score for the beer style?"
   ]
  },
  {
   "cell_type": "markdown",
   "id": "cbe25ae6-e4a2-4cc5-87e4-0754065be96c",
   "metadata": {
    "tags": []
   },
   "source": [
    "## Data Description\n",
    "\n",
    "The provided compressed file `BeerDataScienceProject.tar.bz2` contains data about beers and their reviews. It has the following columns:\n",
    "\n",
    "* `beer_ABV` - alcohol by volume\n",
    "* `beer_beerId` - beer ID\n",
    "* `beer_brewerId` - beer brewer ID\n",
    "* `beer_name` - beer name\n",
    "* `beer_style` - beer style\n",
    "* `review_appearance` - review on the beer's appearance\n",
    "* `review_palette` - review on the beer's palette (colours)\n",
    "* `review_overall` - overall beer review\n",
    "* `review_taste` - review on the beer's taste\n",
    "* `review_profileName` - profile name of the reviewer\n",
    "* `review_aroma` - review on the beer's aroma\n",
    "* `review_text` - the full text of the review\n",
    "* `review_time` - timestamp when the review was made"
   ]
  },
  {
   "cell_type": "markdown",
   "id": "47690da7-cc05-4a97-93d4-78b0d0507894",
   "metadata": {},
   "source": [
    "<BR><BR>"
   ]
  },
  {
   "cell_type": "markdown",
   "id": "01abbde8-612c-4d82-907c-ae2b835b4fde",
   "metadata": {},
   "source": [
    "### Data Exploration"
   ]
  },
  {
   "cell_type": "code",
   "execution_count": 5,
   "id": "21f44fef-95a7-4090-993f-da258b11ae6e",
   "metadata": {
    "tags": []
   },
   "outputs": [],
   "source": [
    "#Load in necessary libraries\n",
    "import pandas as pd\n",
    "import numpy as np"
   ]
  },
  {
   "cell_type": "code",
   "execution_count": 159,
   "id": "e72b92e6-8d24-4b3a-a1bd-e501620acf13",
   "metadata": {
    "tags": []
   },
   "outputs": [
    {
     "name": "stdout",
     "output_type": "stream",
     "text": [
      "<class 'pandas.core.frame.DataFrame'>\n",
      "RangeIndex: 528870 entries, 0 to 528869\n",
      "Data columns (total 13 columns):\n",
      " #   Column              Non-Null Count   Dtype         \n",
      "---  ------              --------------   -----         \n",
      " 0   beer_ABV            508590 non-null  float64       \n",
      " 1   beer_beerId         528870 non-null  int64         \n",
      " 2   beer_brewerId       528870 non-null  int64         \n",
      " 3   beer_name           528870 non-null  object        \n",
      " 4   beer_style          528870 non-null  object        \n",
      " 5   review_appearance   528870 non-null  float64       \n",
      " 6   review_palette      528870 non-null  float64       \n",
      " 7   review_overall      528870 non-null  float64       \n",
      " 8   review_taste        528870 non-null  float64       \n",
      " 9   review_profileName  528755 non-null  object        \n",
      " 10  review_aroma        528870 non-null  float64       \n",
      " 11  review_text         528751 non-null  object        \n",
      " 12  review_time         528870 non-null  datetime64[ns]\n",
      "dtypes: datetime64[ns](1), float64(6), int64(2), object(4)\n",
      "memory usage: 52.5+ MB\n"
     ]
    }
   ],
   "source": [
    "#Load in dataset into Pandas\n",
    "df = pd.read_csv(\"./datasets/BeerDataScienceProject.tar.bz2\", compression=\"bz2\")\n",
    "\n",
    "#Convert review_time's Epoch time to an understandable datetime format\n",
    "df.review_time = pd.to_datetime(df.review_time, unit='s')\n",
    "\n",
    "#Look at dataset information for missing values and data types\n",
    "df.info()"
   ]
  },
  {
   "cell_type": "code",
   "execution_count": 161,
   "id": "30a6df76-f353-418f-a91f-d42cdc36320c",
   "metadata": {
    "tags": []
   },
   "outputs": [],
   "source": [
    "#Drop records containing missing values, which accounts for < 4% of all records\n",
    "df.dropna(inplace=True)"
   ]
  },
  {
   "cell_type": "code",
   "execution_count": 163,
   "id": "2cbf6679-1f86-43b1-8b34-58470cca15ad",
   "metadata": {
    "tags": []
   },
   "outputs": [
    {
     "name": "stdout",
     "output_type": "stream",
     "text": [
      "There are 4658 duplicate reviews.\n",
      "There are 0 duplicate reviews after dropping duplicates.\n"
     ]
    }
   ],
   "source": [
    "#Count the number of duplicate reviews by user and beer\n",
    "dupe_reviews = df.duplicated(subset=['beer_beerId','review_profileName']).sum()\n",
    "print(f'There are {dupe_reviews} duplicate reviews.')\n",
    "\n",
    "#Drop duplicate reviews, keeping only the most recent review\n",
    "df.sort_values(by='review_time', ignore_index=True, inplace=True)\n",
    "df.drop_duplicates(subset=['beer_beerId','review_profileName'], keep='last', inplace=True)\n",
    "dupe_reviews = df.duplicated(subset=['beer_beerId','review_profileName']).sum()\n",
    "print(f'There are {dupe_reviews} duplicate reviews after dropping duplicates.')"
   ]
  },
  {
   "cell_type": "code",
   "execution_count": 165,
   "id": "322d1f45-6982-4963-9f36-033d789cd634",
   "metadata": {
    "tags": []
   },
   "outputs": [
    {
     "data": {
      "text/html": [
       "<div>\n",
       "<style scoped>\n",
       "    .dataframe tbody tr th:only-of-type {\n",
       "        vertical-align: middle;\n",
       "    }\n",
       "\n",
       "    .dataframe tbody tr th {\n",
       "        vertical-align: top;\n",
       "    }\n",
       "\n",
       "    .dataframe thead th {\n",
       "        text-align: right;\n",
       "    }\n",
       "</style>\n",
       "<table border=\"1\" class=\"dataframe\">\n",
       "  <thead>\n",
       "    <tr style=\"text-align: right;\">\n",
       "      <th></th>\n",
       "      <th>beer_ABV</th>\n",
       "      <th>beer_beerId</th>\n",
       "      <th>beer_brewerId</th>\n",
       "      <th>review_appearance</th>\n",
       "      <th>review_palette</th>\n",
       "      <th>review_overall</th>\n",
       "      <th>review_taste</th>\n",
       "      <th>review_aroma</th>\n",
       "      <th>review_time</th>\n",
       "    </tr>\n",
       "  </thead>\n",
       "  <tbody>\n",
       "    <tr>\n",
       "      <th>count</th>\n",
       "      <td>503700.000000</td>\n",
       "      <td>503700.000000</td>\n",
       "      <td>503700.000000</td>\n",
       "      <td>503700.000000</td>\n",
       "      <td>503700.000000</td>\n",
       "      <td>503700.000000</td>\n",
       "      <td>503700.000000</td>\n",
       "      <td>503700.000000</td>\n",
       "      <td>503700</td>\n",
       "    </tr>\n",
       "    <tr>\n",
       "      <th>mean</th>\n",
       "      <td>7.018102</td>\n",
       "      <td>21863.592043</td>\n",
       "      <td>2536.459138</td>\n",
       "      <td>3.871974</td>\n",
       "      <td>3.767944</td>\n",
       "      <td>3.839211</td>\n",
       "      <td>3.774108</td>\n",
       "      <td>3.826070</td>\n",
       "      <td>2008-11-11 17:21:50.332676352</td>\n",
       "    </tr>\n",
       "    <tr>\n",
       "      <th>min</th>\n",
       "      <td>0.010000</td>\n",
       "      <td>5.000000</td>\n",
       "      <td>1.000000</td>\n",
       "      <td>0.000000</td>\n",
       "      <td>1.000000</td>\n",
       "      <td>0.000000</td>\n",
       "      <td>1.000000</td>\n",
       "      <td>1.000000</td>\n",
       "      <td>1998-01-10 00:00:01</td>\n",
       "    </tr>\n",
       "    <tr>\n",
       "      <th>25%</th>\n",
       "      <td>5.300000</td>\n",
       "      <td>1692.000000</td>\n",
       "      <td>132.000000</td>\n",
       "      <td>3.500000</td>\n",
       "      <td>3.500000</td>\n",
       "      <td>3.500000</td>\n",
       "      <td>3.500000</td>\n",
       "      <td>3.500000</td>\n",
       "      <td>2007-04-26 02:24:35.750000128</td>\n",
       "    </tr>\n",
       "    <tr>\n",
       "      <th>50%</th>\n",
       "      <td>6.500000</td>\n",
       "      <td>13896.000000</td>\n",
       "      <td>392.000000</td>\n",
       "      <td>4.000000</td>\n",
       "      <td>4.000000</td>\n",
       "      <td>4.000000</td>\n",
       "      <td>4.000000</td>\n",
       "      <td>4.000000</td>\n",
       "      <td>2009-05-08 05:26:42.500000</td>\n",
       "    </tr>\n",
       "    <tr>\n",
       "      <th>75%</th>\n",
       "      <td>8.500000</td>\n",
       "      <td>40434.250000</td>\n",
       "      <td>1315.000000</td>\n",
       "      <td>4.000000</td>\n",
       "      <td>4.000000</td>\n",
       "      <td>4.500000</td>\n",
       "      <td>4.000000</td>\n",
       "      <td>4.500000</td>\n",
       "      <td>2010-11-08 21:48:45.750000128</td>\n",
       "    </tr>\n",
       "    <tr>\n",
       "      <th>max</th>\n",
       "      <td>57.700000</td>\n",
       "      <td>77310.000000</td>\n",
       "      <td>27980.000000</td>\n",
       "      <td>5.000000</td>\n",
       "      <td>5.000000</td>\n",
       "      <td>5.000000</td>\n",
       "      <td>5.000000</td>\n",
       "      <td>5.000000</td>\n",
       "      <td>2012-01-11 10:10:56</td>\n",
       "    </tr>\n",
       "    <tr>\n",
       "      <th>std</th>\n",
       "      <td>2.205514</td>\n",
       "      <td>22138.508184</td>\n",
       "      <td>5240.196450</td>\n",
       "      <td>0.601706</td>\n",
       "      <td>0.682215</td>\n",
       "      <td>0.706617</td>\n",
       "      <td>0.665611</td>\n",
       "      <td>0.715294</td>\n",
       "      <td>NaN</td>\n",
       "    </tr>\n",
       "  </tbody>\n",
       "</table>\n",
       "</div>"
      ],
      "text/plain": [
       "            beer_ABV    beer_beerId  beer_brewerId  review_appearance  \\\n",
       "count  503700.000000  503700.000000  503700.000000      503700.000000   \n",
       "mean        7.018102   21863.592043    2536.459138           3.871974   \n",
       "min         0.010000       5.000000       1.000000           0.000000   \n",
       "25%         5.300000    1692.000000     132.000000           3.500000   \n",
       "50%         6.500000   13896.000000     392.000000           4.000000   \n",
       "75%         8.500000   40434.250000    1315.000000           4.000000   \n",
       "max        57.700000   77310.000000   27980.000000           5.000000   \n",
       "std         2.205514   22138.508184    5240.196450           0.601706   \n",
       "\n",
       "       review_palette  review_overall   review_taste   review_aroma  \\\n",
       "count   503700.000000   503700.000000  503700.000000  503700.000000   \n",
       "mean         3.767944        3.839211       3.774108       3.826070   \n",
       "min          1.000000        0.000000       1.000000       1.000000   \n",
       "25%          3.500000        3.500000       3.500000       3.500000   \n",
       "50%          4.000000        4.000000       4.000000       4.000000   \n",
       "75%          4.000000        4.500000       4.000000       4.500000   \n",
       "max          5.000000        5.000000       5.000000       5.000000   \n",
       "std          0.682215        0.706617       0.665611       0.715294   \n",
       "\n",
       "                         review_time  \n",
       "count                         503700  \n",
       "mean   2008-11-11 17:21:50.332676352  \n",
       "min              1998-01-10 00:00:01  \n",
       "25%    2007-04-26 02:24:35.750000128  \n",
       "50%       2009-05-08 05:26:42.500000  \n",
       "75%    2010-11-08 21:48:45.750000128  \n",
       "max              2012-01-11 10:10:56  \n",
       "std                              NaN  "
      ]
     },
     "execution_count": 165,
     "metadata": {},
     "output_type": "execute_result"
    }
   ],
   "source": [
    "#Looking at the distributions, it is noticed that there are ratings of 0\n",
    "df.describe()"
   ]
  },
  {
   "cell_type": "code",
   "execution_count": 167,
   "id": "36cba4f1-108d-4f68-bee5-6922f989bd7b",
   "metadata": {
    "tags": []
   },
   "outputs": [
    {
     "data": {
      "text/html": [
       "<div>\n",
       "<style scoped>\n",
       "    .dataframe tbody tr th:only-of-type {\n",
       "        vertical-align: middle;\n",
       "    }\n",
       "\n",
       "    .dataframe tbody tr th {\n",
       "        vertical-align: top;\n",
       "    }\n",
       "\n",
       "    .dataframe thead th {\n",
       "        text-align: right;\n",
       "    }\n",
       "</style>\n",
       "<table border=\"1\" class=\"dataframe\">\n",
       "  <thead>\n",
       "    <tr style=\"text-align: right;\">\n",
       "      <th></th>\n",
       "      <th>beer_ABV</th>\n",
       "      <th>beer_beerId</th>\n",
       "      <th>beer_brewerId</th>\n",
       "      <th>beer_name</th>\n",
       "      <th>beer_style</th>\n",
       "      <th>review_appearance</th>\n",
       "      <th>review_palette</th>\n",
       "      <th>review_overall</th>\n",
       "      <th>review_taste</th>\n",
       "      <th>review_profileName</th>\n",
       "      <th>review_aroma</th>\n",
       "      <th>review_text</th>\n",
       "      <th>review_time</th>\n",
       "    </tr>\n",
       "  </thead>\n",
       "  <tbody>\n",
       "    <tr>\n",
       "      <th>3834</th>\n",
       "      <td>4.0</td>\n",
       "      <td>3806</td>\n",
       "      <td>1413</td>\n",
       "      <td>Pub Pils</td>\n",
       "      <td>Czech Pilsener</td>\n",
       "      <td>0.0</td>\n",
       "      <td>2.0</td>\n",
       "      <td>0.0</td>\n",
       "      <td>3.0</td>\n",
       "      <td>beernut7</td>\n",
       "      <td>2.0</td>\n",
       "      <td>This is one of the most commercial tasting mic...</td>\n",
       "      <td>2002-08-24 14:01:10</td>\n",
       "    </tr>\n",
       "    <tr>\n",
       "      <th>3850</th>\n",
       "      <td>4.0</td>\n",
       "      <td>3810</td>\n",
       "      <td>1413</td>\n",
       "      <td>Utah Pale Ale</td>\n",
       "      <td>American Pale Ale (APA)</td>\n",
       "      <td>0.0</td>\n",
       "      <td>3.0</td>\n",
       "      <td>0.0</td>\n",
       "      <td>2.0</td>\n",
       "      <td>beernut7</td>\n",
       "      <td>2.0</td>\n",
       "      <td>This American pale ale has a spicy grassy hop ...</td>\n",
       "      <td>2002-08-25 09:14:49</td>\n",
       "    </tr>\n",
       "    <tr>\n",
       "      <th>3852</th>\n",
       "      <td>4.0</td>\n",
       "      <td>3804</td>\n",
       "      <td>1413</td>\n",
       "      <td>Latter Days Stout</td>\n",
       "      <td>Irish Dry Stout</td>\n",
       "      <td>0.0</td>\n",
       "      <td>4.0</td>\n",
       "      <td>0.0</td>\n",
       "      <td>2.0</td>\n",
       "      <td>beernut7</td>\n",
       "      <td>2.0</td>\n",
       "      <td>This beer presents with a heavy smoky roast ar...</td>\n",
       "      <td>2002-08-25 09:19:18</td>\n",
       "    </tr>\n",
       "  </tbody>\n",
       "</table>\n",
       "</div>"
      ],
      "text/plain": [
       "      beer_ABV  beer_beerId  beer_brewerId          beer_name  \\\n",
       "3834       4.0         3806           1413           Pub Pils   \n",
       "3850       4.0         3810           1413      Utah Pale Ale   \n",
       "3852       4.0         3804           1413  Latter Days Stout   \n",
       "\n",
       "                   beer_style  review_appearance  review_palette  \\\n",
       "3834           Czech Pilsener                0.0             2.0   \n",
       "3850  American Pale Ale (APA)                0.0             3.0   \n",
       "3852          Irish Dry Stout                0.0             4.0   \n",
       "\n",
       "      review_overall  review_taste review_profileName  review_aroma  \\\n",
       "3834             0.0           3.0           beernut7           2.0   \n",
       "3850             0.0           2.0           beernut7           2.0   \n",
       "3852             0.0           2.0           beernut7           2.0   \n",
       "\n",
       "                                            review_text         review_time  \n",
       "3834  This is one of the most commercial tasting mic... 2002-08-24 14:01:10  \n",
       "3850  This American pale ale has a spicy grassy hop ... 2002-08-25 09:14:49  \n",
       "3852  This beer presents with a heavy smoky roast ar... 2002-08-25 09:19:18  "
      ]
     },
     "execution_count": 167,
     "metadata": {},
     "output_type": "execute_result"
    }
   ],
   "source": [
    "#Further exploration indicates these ratings could be erroneous\n",
    "df.loc[(df.review_appearance == 0) | (df.review_overall == 0)]"
   ]
  },
  {
   "cell_type": "code",
   "execution_count": 173,
   "id": "41b9030f-a4c0-4bb6-97da-5421a8c5eecd",
   "metadata": {
    "tags": []
   },
   "outputs": [],
   "source": [
    "#Drop records with 0-rating\n",
    "df.drop(labels=[3834, 3850, 3852], inplace=True)"
   ]
  },
  {
   "cell_type": "code",
   "execution_count": 177,
   "id": "b83cb816-b675-4d04-8acb-ca4e57d534b2",
   "metadata": {
    "tags": []
   },
   "outputs": [
    {
     "data": {
      "text/html": [
       "<div>\n",
       "<style scoped>\n",
       "    .dataframe tbody tr th:only-of-type {\n",
       "        vertical-align: middle;\n",
       "    }\n",
       "\n",
       "    .dataframe tbody tr th {\n",
       "        vertical-align: top;\n",
       "    }\n",
       "\n",
       "    .dataframe thead th {\n",
       "        text-align: right;\n",
       "    }\n",
       "</style>\n",
       "<table border=\"1\" class=\"dataframe\">\n",
       "  <thead>\n",
       "    <tr style=\"text-align: right;\">\n",
       "      <th></th>\n",
       "      <th>beer_ABV</th>\n",
       "      <th>beer_beerId</th>\n",
       "      <th>beer_brewerId</th>\n",
       "      <th>beer_name</th>\n",
       "      <th>beer_style</th>\n",
       "      <th>review_appearance</th>\n",
       "      <th>review_palette</th>\n",
       "      <th>review_overall</th>\n",
       "      <th>review_taste</th>\n",
       "      <th>review_profileName</th>\n",
       "      <th>review_aroma</th>\n",
       "      <th>review_text</th>\n",
       "      <th>review_time</th>\n",
       "    </tr>\n",
       "  </thead>\n",
       "  <tbody>\n",
       "    <tr>\n",
       "      <th>0</th>\n",
       "      <td>17.5</td>\n",
       "      <td>111</td>\n",
       "      <td>35</td>\n",
       "      <td>Samuel Adams Triple Bock</td>\n",
       "      <td>American Strong Ale</td>\n",
       "      <td>3.0</td>\n",
       "      <td>4.0</td>\n",
       "      <td>4.0</td>\n",
       "      <td>4.5</td>\n",
       "      <td>Todd</td>\n",
       "      <td>4.5</td>\n",
       "      <td>Presentation: 8.45oz blue bottle with gold let...</td>\n",
       "      <td>1998-01-10 00:00:01</td>\n",
       "    </tr>\n",
       "    <tr>\n",
       "      <th>1</th>\n",
       "      <td>9.6</td>\n",
       "      <td>2671</td>\n",
       "      <td>140</td>\n",
       "      <td>Sierra Nevada Bigfoot Barleywine Style Ale</td>\n",
       "      <td>American Barleywine</td>\n",
       "      <td>4.0</td>\n",
       "      <td>4.0</td>\n",
       "      <td>4.5</td>\n",
       "      <td>4.0</td>\n",
       "      <td>BeerAdvocate</td>\n",
       "      <td>4.5</td>\n",
       "      <td>Presentation: 12oz short brown twist cap bottl...</td>\n",
       "      <td>1998-02-06 00:00:01</td>\n",
       "    </tr>\n",
       "    <tr>\n",
       "      <th>2</th>\n",
       "      <td>4.6</td>\n",
       "      <td>2134</td>\n",
       "      <td>115</td>\n",
       "      <td>Nutfield Auburn Ale</td>\n",
       "      <td>American Pale Ale (APA)</td>\n",
       "      <td>3.0</td>\n",
       "      <td>3.0</td>\n",
       "      <td>4.0</td>\n",
       "      <td>3.0</td>\n",
       "      <td>BeerAdvocate</td>\n",
       "      <td>3.5</td>\n",
       "      <td>Presentation: 12 oz. with the same tree scene,...</td>\n",
       "      <td>1998-03-02 00:00:01</td>\n",
       "    </tr>\n",
       "    <tr>\n",
       "      <th>3</th>\n",
       "      <td>4.8</td>\n",
       "      <td>266</td>\n",
       "      <td>91</td>\n",
       "      <td>Kingfisher Premium Lager</td>\n",
       "      <td>American Pale Lager</td>\n",
       "      <td>2.5</td>\n",
       "      <td>3.0</td>\n",
       "      <td>3.5</td>\n",
       "      <td>3.0</td>\n",
       "      <td>Todd</td>\n",
       "      <td>3.5</td>\n",
       "      <td>Presentation: 12 oz bottle, served at this Ind...</td>\n",
       "      <td>1998-03-06 00:00:01</td>\n",
       "    </tr>\n",
       "    <tr>\n",
       "      <th>4</th>\n",
       "      <td>9.0</td>\n",
       "      <td>34</td>\n",
       "      <td>22</td>\n",
       "      <td>La Fin Du Monde</td>\n",
       "      <td>Tripel</td>\n",
       "      <td>4.0</td>\n",
       "      <td>4.0</td>\n",
       "      <td>5.0</td>\n",
       "      <td>5.0</td>\n",
       "      <td>Todd</td>\n",
       "      <td>5.0</td>\n",
       "      <td>Presentation: \"La Fin Du Monde\", translates to...</td>\n",
       "      <td>1998-06-23 00:00:01</td>\n",
       "    </tr>\n",
       "  </tbody>\n",
       "</table>\n",
       "</div>"
      ],
      "text/plain": [
       "   beer_ABV  beer_beerId  beer_brewerId  \\\n",
       "0      17.5          111             35   \n",
       "1       9.6         2671            140   \n",
       "2       4.6         2134            115   \n",
       "3       4.8          266             91   \n",
       "4       9.0           34             22   \n",
       "\n",
       "                                    beer_name               beer_style  \\\n",
       "0                    Samuel Adams Triple Bock      American Strong Ale   \n",
       "1  Sierra Nevada Bigfoot Barleywine Style Ale      American Barleywine   \n",
       "2                         Nutfield Auburn Ale  American Pale Ale (APA)   \n",
       "3                    Kingfisher Premium Lager      American Pale Lager   \n",
       "4                             La Fin Du Monde                   Tripel   \n",
       "\n",
       "   review_appearance  review_palette  review_overall  review_taste  \\\n",
       "0                3.0             4.0             4.0           4.5   \n",
       "1                4.0             4.0             4.5           4.0   \n",
       "2                3.0             3.0             4.0           3.0   \n",
       "3                2.5             3.0             3.5           3.0   \n",
       "4                4.0             4.0             5.0           5.0   \n",
       "\n",
       "  review_profileName  review_aroma  \\\n",
       "0               Todd           4.5   \n",
       "1       BeerAdvocate           4.5   \n",
       "2       BeerAdvocate           3.5   \n",
       "3               Todd           3.5   \n",
       "4               Todd           5.0   \n",
       "\n",
       "                                         review_text         review_time  \n",
       "0  Presentation: 8.45oz blue bottle with gold let... 1998-01-10 00:00:01  \n",
       "1  Presentation: 12oz short brown twist cap bottl... 1998-02-06 00:00:01  \n",
       "2  Presentation: 12 oz. with the same tree scene,... 1998-03-02 00:00:01  \n",
       "3  Presentation: 12 oz bottle, served at this Ind... 1998-03-06 00:00:01  \n",
       "4  Presentation: \"La Fin Du Monde\", translates to... 1998-06-23 00:00:01  "
      ]
     },
     "execution_count": 177,
     "metadata": {},
     "output_type": "execute_result"
    }
   ],
   "source": [
    "#Preview data set\n",
    "df.head()"
   ]
  },
  {
   "cell_type": "markdown",
   "id": "8d30f46d-1e6a-4c5f-bfc1-03002f926bfb",
   "metadata": {},
   "source": [
    "<BR>"
   ]
  },
  {
   "cell_type": "markdown",
   "id": "efad30e9-57ed-462d-bbc4-7e074015f9a8",
   "metadata": {},
   "source": [
    "### 1. Rank the top 3 breweries which produce the strongest beers."
   ]
  },
  {
   "cell_type": "markdown",
   "id": "99800c93-4bcd-47e7-8d46-c7f88105eb7f",
   "metadata": {},
   "source": [
    "The top 3 breweries, with reference to the brewery IDs, are:\n",
    "1. 6513\n",
    "2. 35\n",
    "3. 16866"
   ]
  },
  {
   "cell_type": "code",
   "execution_count": 179,
   "id": "373d5fca-1438-4bbc-9c01-51f3025ae43a",
   "metadata": {
    "tags": []
   },
   "outputs": [
    {
     "data": {
      "text/plain": [
       "beer_brewerId\n",
       "6513     57.7\n",
       "35       27.0\n",
       "16866    19.5\n",
       "2958     19.5\n",
       "18796    19.2\n",
       "         ... \n",
       "20706     3.5\n",
       "16238     3.5\n",
       "22698     3.2\n",
       "21983     2.5\n",
       "24676     1.2\n",
       "Name: beer_ABV, Length: 1607, dtype: float64"
      ]
     },
     "execution_count": 179,
     "metadata": {},
     "output_type": "execute_result"
    }
   ],
   "source": [
    "#Select the highest ABV for each brewery\n",
    "df.groupby('beer_brewerId')['beer_ABV'].max().sort_values(ascending=False)"
   ]
  },
  {
   "cell_type": "markdown",
   "id": "93f75fa4-d8e5-43f1-b735-ab565040662a",
   "metadata": {},
   "source": [
    "<BR>"
   ]
  },
  {
   "cell_type": "markdown",
   "id": "2c0d79ad-d5b1-4a03-9b00-9fbbba7fcce9",
   "metadata": {},
   "source": [
    "### 2. Which year did beers enjoy the highest ratings?"
   ]
  },
  {
   "cell_type": "markdown",
   "id": "814e8508-9606-4e24-aa0e-c956f14ae304",
   "metadata": {},
   "source": [
    "Although the years 1998-2001 had higher average overall reviews the number of reviews are quite low, indicating the possibility of unstable results. Therefore, we can readily trust that `2010` enjoyed the highest rating, fully backed by the large number of reviews."
   ]
  },
  {
   "cell_type": "code",
   "execution_count": 183,
   "id": "2955cf73-8f39-4f35-8df0-d7d1e915d4af",
   "metadata": {
    "tags": []
   },
   "outputs": [],
   "source": [
    "#Create a new column containing only the year when the review was given\n",
    "df['review_year'] = df.review_time.dt.year"
   ]
  },
  {
   "cell_type": "code",
   "execution_count": 215,
   "id": "4465a975-6e92-4110-9c85-6fec6c86b8d4",
   "metadata": {
    "tags": []
   },
   "outputs": [],
   "source": [
    "#Create a dataframe containing the average overall review for each year and the number of reviews during that year\n",
    "highest_ratings = pd.DataFrame({'mean_review':df.groupby('review_year').review_overall.mean(), 'num_reviews':df.groupby('review_overall').review_year.value_counts().unstack().sum()})"
   ]
  },
  {
   "cell_type": "code",
   "execution_count": 217,
   "id": "c8147cdc-def0-4d07-bb12-9c80c3d8aad2",
   "metadata": {
    "tags": []
   },
   "outputs": [
    {
     "data": {
      "text/html": [
       "<div>\n",
       "<style scoped>\n",
       "    .dataframe tbody tr th:only-of-type {\n",
       "        vertical-align: middle;\n",
       "    }\n",
       "\n",
       "    .dataframe tbody tr th {\n",
       "        vertical-align: top;\n",
       "    }\n",
       "\n",
       "    .dataframe thead th {\n",
       "        text-align: right;\n",
       "    }\n",
       "</style>\n",
       "<table border=\"1\" class=\"dataframe\">\n",
       "  <thead>\n",
       "    <tr style=\"text-align: right;\">\n",
       "      <th></th>\n",
       "      <th>mean_review</th>\n",
       "      <th>num_reviews</th>\n",
       "    </tr>\n",
       "    <tr>\n",
       "      <th>review_year</th>\n",
       "      <th></th>\n",
       "      <th></th>\n",
       "    </tr>\n",
       "  </thead>\n",
       "  <tbody>\n",
       "    <tr>\n",
       "      <th>2000</th>\n",
       "      <td>4.241379</td>\n",
       "      <td>29.0</td>\n",
       "    </tr>\n",
       "    <tr>\n",
       "      <th>1998</th>\n",
       "      <td>4.045455</td>\n",
       "      <td>11.0</td>\n",
       "    </tr>\n",
       "    <tr>\n",
       "      <th>1999</th>\n",
       "      <td>4.000000</td>\n",
       "      <td>10.0</td>\n",
       "    </tr>\n",
       "    <tr>\n",
       "      <th>2001</th>\n",
       "      <td>3.962998</td>\n",
       "      <td>527.0</td>\n",
       "    </tr>\n",
       "    <tr>\n",
       "      <th>2010</th>\n",
       "      <td>3.867924</td>\n",
       "      <td>90535.0</td>\n",
       "    </tr>\n",
       "    <tr>\n",
       "      <th>2009</th>\n",
       "      <td>3.866941</td>\n",
       "      <td>80449.0</td>\n",
       "    </tr>\n",
       "    <tr>\n",
       "      <th>2005</th>\n",
       "      <td>3.843587</td>\n",
       "      <td>27485.0</td>\n",
       "    </tr>\n",
       "    <tr>\n",
       "      <th>2012</th>\n",
       "      <td>3.839030</td>\n",
       "      <td>3072.0</td>\n",
       "    </tr>\n",
       "    <tr>\n",
       "      <th>2008</th>\n",
       "      <td>3.838223</td>\n",
       "      <td>65850.0</td>\n",
       "    </tr>\n",
       "    <tr>\n",
       "      <th>2011</th>\n",
       "      <td>3.832719</td>\n",
       "      <td>107460.0</td>\n",
       "    </tr>\n",
       "    <tr>\n",
       "      <th>2002</th>\n",
       "      <td>3.818250</td>\n",
       "      <td>6685.0</td>\n",
       "    </tr>\n",
       "    <tr>\n",
       "      <th>2007</th>\n",
       "      <td>3.816803</td>\n",
       "      <td>43991.0</td>\n",
       "    </tr>\n",
       "    <tr>\n",
       "      <th>2006</th>\n",
       "      <td>3.807283</td>\n",
       "      <td>40313.0</td>\n",
       "    </tr>\n",
       "    <tr>\n",
       "      <th>2004</th>\n",
       "      <td>3.804082</td>\n",
       "      <td>20996.0</td>\n",
       "    </tr>\n",
       "    <tr>\n",
       "      <th>2003</th>\n",
       "      <td>3.771279</td>\n",
       "      <td>16284.0</td>\n",
       "    </tr>\n",
       "  </tbody>\n",
       "</table>\n",
       "</div>"
      ],
      "text/plain": [
       "             mean_review  num_reviews\n",
       "review_year                          \n",
       "2000            4.241379         29.0\n",
       "1998            4.045455         11.0\n",
       "1999            4.000000         10.0\n",
       "2001            3.962998        527.0\n",
       "2010            3.867924      90535.0\n",
       "2009            3.866941      80449.0\n",
       "2005            3.843587      27485.0\n",
       "2012            3.839030       3072.0\n",
       "2008            3.838223      65850.0\n",
       "2011            3.832719     107460.0\n",
       "2002            3.818250       6685.0\n",
       "2007            3.816803      43991.0\n",
       "2006            3.807283      40313.0\n",
       "2004            3.804082      20996.0\n",
       "2003            3.771279      16284.0"
      ]
     },
     "execution_count": 217,
     "metadata": {},
     "output_type": "execute_result"
    }
   ],
   "source": [
    "#Sort data by the highest average review\n",
    "highest_ratings.sort_values('mean_review', ascending=False)"
   ]
  },
  {
   "cell_type": "markdown",
   "id": "8bc9b1a7-1066-4067-865c-dc828466c9d8",
   "metadata": {},
   "source": [
    "<BR>"
   ]
  },
  {
   "cell_type": "markdown",
   "id": "b9bda345-1d7f-4538-921e-29cc22791e9b",
   "metadata": {},
   "source": [
    "### 3. Based on the users' ratings, which factors are important among taste, aroma, appearance, and palette?"
   ]
  },
  {
   "cell_type": "markdown",
   "id": "00b2fa76-20d7-4bd5-9026-d6dd416a06fa",
   "metadata": {},
   "source": [
    "The aroma had the highest correlation amongst overall reviews, indicating it as the most important factor. This is followed by taste, palette, and finally appearance."
   ]
  },
  {
   "cell_type": "code",
   "execution_count": 187,
   "id": "06d8617a-cb07-4ad6-b7fb-ecc37db7bc65",
   "metadata": {
    "tags": []
   },
   "outputs": [],
   "source": [
    "#Dataframe of the review scores\n",
    "df_factor = df[['review_appearance','review_palette','review_taste','review_aroma','review_overall']]"
   ]
  },
  {
   "cell_type": "code",
   "execution_count": 189,
   "id": "7f0582cd-468b-4ef1-bd78-244db7630e28",
   "metadata": {
    "tags": []
   },
   "outputs": [
    {
     "data": {
      "text/html": [
       "<div>\n",
       "<style scoped>\n",
       "    .dataframe tbody tr th:only-of-type {\n",
       "        vertical-align: middle;\n",
       "    }\n",
       "\n",
       "    .dataframe tbody tr th {\n",
       "        vertical-align: top;\n",
       "    }\n",
       "\n",
       "    .dataframe thead th {\n",
       "        text-align: right;\n",
       "    }\n",
       "</style>\n",
       "<table border=\"1\" class=\"dataframe\">\n",
       "  <thead>\n",
       "    <tr style=\"text-align: right;\">\n",
       "      <th></th>\n",
       "      <th>review_appearance</th>\n",
       "      <th>review_palette</th>\n",
       "      <th>review_taste</th>\n",
       "      <th>review_aroma</th>\n",
       "      <th>review_overall</th>\n",
       "    </tr>\n",
       "  </thead>\n",
       "  <tbody>\n",
       "    <tr>\n",
       "      <th>review_appearance</th>\n",
       "      <td>1.000000</td>\n",
       "      <td>0.544185</td>\n",
       "      <td>0.551376</td>\n",
       "      <td>0.530536</td>\n",
       "      <td>0.482730</td>\n",
       "    </tr>\n",
       "    <tr>\n",
       "      <th>review_palette</th>\n",
       "      <td>0.544185</td>\n",
       "      <td>1.000000</td>\n",
       "      <td>0.600302</td>\n",
       "      <td>0.703113</td>\n",
       "      <td>0.598247</td>\n",
       "    </tr>\n",
       "    <tr>\n",
       "      <th>review_taste</th>\n",
       "      <td>0.551376</td>\n",
       "      <td>0.600302</td>\n",
       "      <td>1.000000</td>\n",
       "      <td>0.722398</td>\n",
       "      <td>0.689210</td>\n",
       "    </tr>\n",
       "    <tr>\n",
       "      <th>review_aroma</th>\n",
       "      <td>0.530536</td>\n",
       "      <td>0.703113</td>\n",
       "      <td>0.722398</td>\n",
       "      <td>1.000000</td>\n",
       "      <td>0.780579</td>\n",
       "    </tr>\n",
       "    <tr>\n",
       "      <th>review_overall</th>\n",
       "      <td>0.482730</td>\n",
       "      <td>0.598247</td>\n",
       "      <td>0.689210</td>\n",
       "      <td>0.780579</td>\n",
       "      <td>1.000000</td>\n",
       "    </tr>\n",
       "  </tbody>\n",
       "</table>\n",
       "</div>"
      ],
      "text/plain": [
       "                   review_appearance  review_palette  review_taste  \\\n",
       "review_appearance           1.000000        0.544185      0.551376   \n",
       "review_palette              0.544185        1.000000      0.600302   \n",
       "review_taste                0.551376        0.600302      1.000000   \n",
       "review_aroma                0.530536        0.703113      0.722398   \n",
       "review_overall              0.482730        0.598247      0.689210   \n",
       "\n",
       "                   review_aroma  review_overall  \n",
       "review_appearance      0.530536        0.482730  \n",
       "review_palette         0.703113        0.598247  \n",
       "review_taste           0.722398        0.689210  \n",
       "review_aroma           1.000000        0.780579  \n",
       "review_overall         0.780579        1.000000  "
      ]
     },
     "execution_count": 189,
     "metadata": {},
     "output_type": "execute_result"
    }
   ],
   "source": [
    "#Higher correlation = Higher importance of factor\n",
    "df_factor.corr()"
   ]
  },
  {
   "cell_type": "markdown",
   "id": "94421fc5-afbf-4f6a-a2bf-fae2a0b7d1d5",
   "metadata": {},
   "source": [
    "<BR>"
   ]
  },
  {
   "cell_type": "markdown",
   "id": "9688c6d9-f623-40bc-b4d3-dc9ab8e8e272",
   "metadata": {},
   "source": [
    "### 4. If you were to recommend 3 beers to your friends based on this data, which ones would you recommend?"
   ]
  },
  {
   "cell_type": "code",
   "execution_count": 219,
   "id": "1daa3fa6-92be-41b7-87e3-ad7fa87af1ef",
   "metadata": {
    "tags": []
   },
   "outputs": [],
   "source": [
    "#Get average overall review and number of reviews per beer\n",
    "rec_beer = df.groupby('beer_beerId')['review_overall'].agg(['mean','count']).sort_values(by=['mean','count'], ascending=False)"
   ]
  },
  {
   "cell_type": "code",
   "execution_count": 221,
   "id": "6d833de3-70c5-49d8-9299-4201e05780ff",
   "metadata": {
    "tags": []
   },
   "outputs": [
    {
     "data": {
      "text/html": [
       "<div>\n",
       "<style scoped>\n",
       "    .dataframe tbody tr th:only-of-type {\n",
       "        vertical-align: middle;\n",
       "    }\n",
       "\n",
       "    .dataframe tbody tr th {\n",
       "        vertical-align: top;\n",
       "    }\n",
       "\n",
       "    .dataframe thead th {\n",
       "        text-align: right;\n",
       "    }\n",
       "</style>\n",
       "<table border=\"1\" class=\"dataframe\">\n",
       "  <thead>\n",
       "    <tr style=\"text-align: right;\">\n",
       "      <th></th>\n",
       "      <th>mean</th>\n",
       "      <th>count</th>\n",
       "    </tr>\n",
       "    <tr>\n",
       "      <th>beer_beerId</th>\n",
       "      <th></th>\n",
       "      <th></th>\n",
       "    </tr>\n",
       "  </thead>\n",
       "  <tbody>\n",
       "    <tr>\n",
       "      <th>19889</th>\n",
       "      <td>5.0</td>\n",
       "      <td>2</td>\n",
       "    </tr>\n",
       "    <tr>\n",
       "      <th>22423</th>\n",
       "      <td>5.0</td>\n",
       "      <td>2</td>\n",
       "    </tr>\n",
       "    <tr>\n",
       "      <th>24636</th>\n",
       "      <td>5.0</td>\n",
       "      <td>2</td>\n",
       "    </tr>\n",
       "    <tr>\n",
       "      <th>32306</th>\n",
       "      <td>5.0</td>\n",
       "      <td>2</td>\n",
       "    </tr>\n",
       "    <tr>\n",
       "      <th>36467</th>\n",
       "      <td>5.0</td>\n",
       "      <td>2</td>\n",
       "    </tr>\n",
       "  </tbody>\n",
       "</table>\n",
       "</div>"
      ],
      "text/plain": [
       "             mean  count\n",
       "beer_beerId             \n",
       "19889         5.0      2\n",
       "22423         5.0      2\n",
       "24636         5.0      2\n",
       "32306         5.0      2\n",
       "36467         5.0      2"
      ]
     },
     "execution_count": 221,
     "metadata": {},
     "output_type": "execute_result"
    }
   ],
   "source": [
    "#Highest rated beers only have a small number of reviews, making the rating unreiable/too subjective\n",
    "rec_beer.head()"
   ]
  },
  {
   "cell_type": "code",
   "execution_count": 223,
   "id": "892c4798-bc9d-475d-903d-6b1c511987bb",
   "metadata": {
    "tags": []
   },
   "outputs": [
    {
     "data": {
      "text/html": [
       "<div>\n",
       "<style scoped>\n",
       "    .dataframe tbody tr th:only-of-type {\n",
       "        vertical-align: middle;\n",
       "    }\n",
       "\n",
       "    .dataframe tbody tr th {\n",
       "        vertical-align: top;\n",
       "    }\n",
       "\n",
       "    .dataframe thead th {\n",
       "        text-align: right;\n",
       "    }\n",
       "</style>\n",
       "<table border=\"1\" class=\"dataframe\">\n",
       "  <thead>\n",
       "    <tr style=\"text-align: right;\">\n",
       "      <th></th>\n",
       "      <th>mean</th>\n",
       "      <th>count</th>\n",
       "    </tr>\n",
       "  </thead>\n",
       "  <tbody>\n",
       "    <tr>\n",
       "      <th>count</th>\n",
       "      <td>14990.000000</td>\n",
       "      <td>14990.000000</td>\n",
       "    </tr>\n",
       "    <tr>\n",
       "      <th>mean</th>\n",
       "      <td>3.650624</td>\n",
       "      <td>33.602201</td>\n",
       "    </tr>\n",
       "    <tr>\n",
       "      <th>std</th>\n",
       "      <td>0.625126</td>\n",
       "      <td>140.888150</td>\n",
       "    </tr>\n",
       "    <tr>\n",
       "      <th>min</th>\n",
       "      <td>1.000000</td>\n",
       "      <td>1.000000</td>\n",
       "    </tr>\n",
       "    <tr>\n",
       "      <th>25%</th>\n",
       "      <td>3.400000</td>\n",
       "      <td>1.000000</td>\n",
       "    </tr>\n",
       "    <tr>\n",
       "      <th>50%</th>\n",
       "      <td>3.750000</td>\n",
       "      <td>3.000000</td>\n",
       "    </tr>\n",
       "    <tr>\n",
       "      <th>75%</th>\n",
       "      <td>4.000000</td>\n",
       "      <td>10.000000</td>\n",
       "    </tr>\n",
       "    <tr>\n",
       "      <th>max</th>\n",
       "      <td>5.000000</td>\n",
       "      <td>2928.000000</td>\n",
       "    </tr>\n",
       "  </tbody>\n",
       "</table>\n",
       "</div>"
      ],
      "text/plain": [
       "               mean         count\n",
       "count  14990.000000  14990.000000\n",
       "mean       3.650624     33.602201\n",
       "std        0.625126    140.888150\n",
       "min        1.000000      1.000000\n",
       "25%        3.400000      1.000000\n",
       "50%        3.750000      3.000000\n",
       "75%        4.000000     10.000000\n",
       "max        5.000000   2928.000000"
      ]
     },
     "execution_count": 223,
     "metadata": {},
     "output_type": "execute_result"
    }
   ],
   "source": [
    "#Looking at the statistics, most beers have a small number of reviews\n",
    "rec_beer.describe()"
   ]
  },
  {
   "cell_type": "code",
   "execution_count": 229,
   "id": "1c8e610d-42f0-49e0-99ab-7456fc318884",
   "metadata": {
    "tags": []
   },
   "outputs": [
    {
     "data": {
      "image/png": "[encoded data removed]",
      "text/plain": [
       "<Figure size 640x480 with 1 Axes>"
      ]
     },
     "metadata": {},
     "output_type": "display_data"
    }
   ],
   "source": [
    "#A visual inspection indicating earlier statistical results, that most beers have a small number of reviews, over 17,500 in fact\n",
    "rec_beer.hist(column='count', bins=50);"
   ]
  },
  {
   "cell_type": "code",
   "execution_count": 231,
   "id": "24771c9b-e1e1-4e5d-8238-e69233280d80",
   "metadata": {
    "tags": []
   },
   "outputs": [
    {
     "data": {
      "image/png": "[encoded data removed]",
      "text/plain": [
       "<Figure size 640x480 with 1 Axes>"
      ]
     },
     "metadata": {},
     "output_type": "display_data"
    }
   ],
   "source": [
    "#Another look at the count/frequency of beers where there were at least 100 reviews\n",
    "rec_beer[rec_beer['count'] > 100].hist(column='count', bins=50);"
   ]
  },
  {
   "cell_type": "code",
   "execution_count": 233,
   "id": "ddcfaac3-7f71-4277-9853-ebea20bd76cc",
   "metadata": {
    "tags": []
   },
   "outputs": [
    {
     "data": {
      "text/html": [
       "<div>\n",
       "<style scoped>\n",
       "    .dataframe tbody tr th:only-of-type {\n",
       "        vertical-align: middle;\n",
       "    }\n",
       "\n",
       "    .dataframe tbody tr th {\n",
       "        vertical-align: top;\n",
       "    }\n",
       "\n",
       "    .dataframe thead th {\n",
       "        text-align: right;\n",
       "    }\n",
       "</style>\n",
       "<table border=\"1\" class=\"dataframe\">\n",
       "  <thead>\n",
       "    <tr style=\"text-align: right;\">\n",
       "      <th></th>\n",
       "      <th>mean</th>\n",
       "      <th>count</th>\n",
       "    </tr>\n",
       "    <tr>\n",
       "      <th>beer_beerId</th>\n",
       "      <th></th>\n",
       "      <th></th>\n",
       "    </tr>\n",
       "  </thead>\n",
       "  <tbody>\n",
       "    <tr>\n",
       "      <th>56082</th>\n",
       "      <td>4.626016</td>\n",
       "      <td>246</td>\n",
       "    </tr>\n",
       "    <tr>\n",
       "      <th>36316</th>\n",
       "      <td>4.625806</td>\n",
       "      <td>155</td>\n",
       "    </tr>\n",
       "    <tr>\n",
       "      <th>16814</th>\n",
       "      <td>4.617381</td>\n",
       "      <td>443</td>\n",
       "    </tr>\n",
       "    <tr>\n",
       "      <th>47658</th>\n",
       "      <td>4.590615</td>\n",
       "      <td>618</td>\n",
       "    </tr>\n",
       "    <tr>\n",
       "      <th>6368</th>\n",
       "      <td>4.483254</td>\n",
       "      <td>627</td>\n",
       "    </tr>\n",
       "    <tr>\n",
       "      <th>...</th>\n",
       "      <td>...</td>\n",
       "      <td>...</td>\n",
       "    </tr>\n",
       "    <tr>\n",
       "      <th>1341</th>\n",
       "      <td>2.583333</td>\n",
       "      <td>438</td>\n",
       "    </tr>\n",
       "    <tr>\n",
       "      <th>837</th>\n",
       "      <td>2.571745</td>\n",
       "      <td>1129</td>\n",
       "    </tr>\n",
       "    <tr>\n",
       "      <th>111</th>\n",
       "      <td>2.358444</td>\n",
       "      <td>604</td>\n",
       "    </tr>\n",
       "    <tr>\n",
       "      <th>2947</th>\n",
       "      <td>2.322464</td>\n",
       "      <td>138</td>\n",
       "    </tr>\n",
       "    <tr>\n",
       "      <th>30858</th>\n",
       "      <td>2.089286</td>\n",
       "      <td>196</td>\n",
       "    </tr>\n",
       "  </tbody>\n",
       "</table>\n",
       "<p>936 rows × 2 columns</p>\n",
       "</div>"
      ],
      "text/plain": [
       "                 mean  count\n",
       "beer_beerId                 \n",
       "56082        4.626016    246\n",
       "36316        4.625806    155\n",
       "16814        4.617381    443\n",
       "47658        4.590615    618\n",
       "6368         4.483254    627\n",
       "...               ...    ...\n",
       "1341         2.583333    438\n",
       "837          2.571745   1129\n",
       "111          2.358444    604\n",
       "2947         2.322464    138\n",
       "30858        2.089286    196\n",
       "\n",
       "[936 rows x 2 columns]"
      ]
     },
     "execution_count": 233,
     "metadata": {},
     "output_type": "execute_result"
    }
   ],
   "source": [
    "#A look at the ratings where there were at least 100 reviews\n",
    "rec_beer[rec_beer['count'] > 100]"
   ]
  },
  {
   "cell_type": "code",
   "execution_count": 235,
   "id": "01b4b8c5-06e3-4dfb-b81e-bf1648b50eb2",
   "metadata": {
    "tags": []
   },
   "outputs": [
    {
     "data": {
      "text/html": [
       "<div>\n",
       "<style scoped>\n",
       "    .dataframe tbody tr th:only-of-type {\n",
       "        vertical-align: middle;\n",
       "    }\n",
       "\n",
       "    .dataframe tbody tr th {\n",
       "        vertical-align: top;\n",
       "    }\n",
       "\n",
       "    .dataframe thead th {\n",
       "        text-align: right;\n",
       "    }\n",
       "</style>\n",
       "<table border=\"1\" class=\"dataframe\">\n",
       "  <thead>\n",
       "    <tr style=\"text-align: right;\">\n",
       "      <th></th>\n",
       "      <th>beer_beerId</th>\n",
       "      <th>beer_name</th>\n",
       "    </tr>\n",
       "  </thead>\n",
       "  <tbody>\n",
       "    <tr>\n",
       "      <th>29464</th>\n",
       "      <td>16814</td>\n",
       "      <td>Heady Topper</td>\n",
       "    </tr>\n",
       "    <tr>\n",
       "      <th>125903</th>\n",
       "      <td>36316</td>\n",
       "      <td>Cantillon Blåbær Lambik</td>\n",
       "    </tr>\n",
       "    <tr>\n",
       "      <th>322128</th>\n",
       "      <td>56082</td>\n",
       "      <td>Citra DIPA</td>\n",
       "    </tr>\n",
       "  </tbody>\n",
       "</table>\n",
       "</div>"
      ],
      "text/plain": [
       "        beer_beerId                beer_name\n",
       "29464         16814             Heady Topper\n",
       "125903        36316  Cantillon Blåbær Lambik\n",
       "322128        56082               Citra DIPA"
      ]
     },
     "execution_count": 235,
     "metadata": {},
     "output_type": "execute_result"
    }
   ],
   "source": [
    "#Get the beer names from the beer IDs determined from the top 3 highest average ratings\n",
    "df.loc[df.beer_beerId.isin([56082, 36316, 16814]), ['beer_beerId', 'beer_name']].drop_duplicates()"
   ]
  },
  {
   "cell_type": "markdown",
   "id": "764cc06f-c6e9-4e27-9af6-16b916f7dfc4",
   "metadata": {},
   "source": [
    "<BR>"
   ]
  },
  {
   "cell_type": "markdown",
   "id": "502babea-6728-4436-8f70-b3c64794fccb",
   "metadata": {
    "tags": []
   },
   "source": [
    "### 5. Which beer style seems to be the favourite based on the reviews written by users? How does written reviews compare to overall review score for the beer style?"
   ]
  },
  {
   "cell_type": "markdown",
   "id": "cb42ebc4-4f5a-4e84-856a-5763255db7c3",
   "metadata": {},
   "source": [
    "The beer style `Quadrupel (Quad)` is the favorite based on the written reviews. The correlation between written reviews and the overall review scores is not super strong. This could be the case as users could leave a high overall rating while writing a review that is deemed more neutral or less positve as determined by the NLP model."
   ]
  },
  {
   "cell_type": "code",
   "execution_count": 237,
   "id": "e4e41623-1097-44d5-a939-a0643554976a",
   "metadata": {
    "tags": []
   },
   "outputs": [],
   "source": [
    "#Import NLP sentiment anlyzer model\n",
    "from nltk.sentiment.vader import SentimentIntensityAnalyzer\n",
    "from nltk import download"
   ]
  },
  {
   "cell_type": "code",
   "execution_count": 239,
   "id": "35661e76-daa9-422a-9e91-f0ac7589c4fc",
   "metadata": {
    "tags": []
   },
   "outputs": [
    {
     "data": {
      "text/plain": [
       "True"
      ]
     },
     "execution_count": 239,
     "metadata": {},
     "output_type": "execute_result"
    }
   ],
   "source": [
    "#Load in scored list of words the analyzer uses\n",
    "download('vader_lexicon', quiet=True)"
   ]
  },
  {
   "cell_type": "code",
   "execution_count": 241,
   "id": "9a5cff82-7c4f-492e-8605-9ac5ee109974",
   "metadata": {
    "tags": []
   },
   "outputs": [],
   "source": [
    "#Instantiate analyzer\n",
    "sid = SentimentIntensityAnalyzer()"
   ]
  },
  {
   "cell_type": "code",
   "execution_count": 243,
   "id": "2c0219dd-10ce-4b94-9708-72b1cf70450f",
   "metadata": {
    "tags": []
   },
   "outputs": [],
   "source": [
    "#Sentiment analysis of text reviews\n",
    "df['review_sentiment'] = df['review_text'].apply(lambda x: sid.polarity_scores(str(x))[\"compound\"])"
   ]
  },
  {
   "cell_type": "code",
   "execution_count": 245,
   "id": "9f98019a-2df2-42d4-9701-5b64d2d0714d",
   "metadata": {
    "tags": []
   },
   "outputs": [
    {
     "data": {
      "text/plain": [
       "beer_style\n",
       "Quadrupel (Quad)             0.857239\n",
       "Dortmunder / Export Lager    0.855037\n",
       "Roggenbier                   0.850721\n",
       "Braggot                      0.850453\n",
       "Flanders Red Ale             0.850092\n",
       "                               ...   \n",
       "Happoshu                     0.533456\n",
       "American Malt Liquor         0.525800\n",
       "Japanese Rice Lager          0.516728\n",
       "Light Lager                  0.469831\n",
       "Low Alcohol Beer             0.396340\n",
       "Name: review_sentiment, Length: 104, dtype: float64"
      ]
     },
     "execution_count": 245,
     "metadata": {},
     "output_type": "execute_result"
    }
   ],
   "source": [
    "#Calculate average sentiment review score by beer style and sort values in descending order\n",
    "df.groupby('beer_style')['review_sentiment'].mean().sort_values(ascending=False)"
   ]
  },
  {
   "cell_type": "code",
   "execution_count": 247,
   "id": "72d6bb25-50f6-4849-a49a-7f9ca646ad1f",
   "metadata": {
    "tags": []
   },
   "outputs": [
    {
     "data": {
      "text/html": [
       "<div>\n",
       "<style scoped>\n",
       "    .dataframe tbody tr th:only-of-type {\n",
       "        vertical-align: middle;\n",
       "    }\n",
       "\n",
       "    .dataframe tbody tr th {\n",
       "        vertical-align: top;\n",
       "    }\n",
       "\n",
       "    .dataframe thead th {\n",
       "        text-align: right;\n",
       "    }\n",
       "</style>\n",
       "<table border=\"1\" class=\"dataframe\">\n",
       "  <thead>\n",
       "    <tr style=\"text-align: right;\">\n",
       "      <th></th>\n",
       "      <th>review_overall</th>\n",
       "      <th>review_sentiment</th>\n",
       "    </tr>\n",
       "  </thead>\n",
       "  <tbody>\n",
       "    <tr>\n",
       "      <th>review_overall</th>\n",
       "      <td>1.0000</td>\n",
       "      <td>0.2594</td>\n",
       "    </tr>\n",
       "    <tr>\n",
       "      <th>review_sentiment</th>\n",
       "      <td>0.2594</td>\n",
       "      <td>1.0000</td>\n",
       "    </tr>\n",
       "  </tbody>\n",
       "</table>\n",
       "</div>"
      ],
      "text/plain": [
       "                  review_overall  review_sentiment\n",
       "review_overall            1.0000            0.2594\n",
       "review_sentiment          0.2594            1.0000"
      ]
     },
     "execution_count": 247,
     "metadata": {},
     "output_type": "execute_result"
    }
   ],
   "source": [
    "#Correlation between text review and overall review score is not as strong\n",
    "df.loc[df.beer_style == 'Quadrupel (Quad)', ['review_overall', 'review_sentiment']].corr()"
   ]
  }
 ],
 "metadata": {
  "kernelspec": {
   "display_name": "Python 3 (ipykernel)",
   "language": "python",
   "name": "python3"
  },
  "language_info": {
   "codemirror_mode": {
    "name": "ipython",
    "version": 3
   },
   "file_extension": ".py",
   "mimetype": "text/x-python",
   "name": "python",
   "nbconvert_exporter": "python",
   "pygments_lexer": "ipython3",
   "version": "3.11.9"
  }
 },
 "nbformat": 4,
 "nbformat_minor": 5
}
