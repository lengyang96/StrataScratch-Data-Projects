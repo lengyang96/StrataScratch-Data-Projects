{
 "cells": [
  {
   "cell_type": "markdown",
   "id": "5f6580b9-99ac-4f0f-a131-b88ca9c9ef99",
   "metadata": {
    "tags": []
   },
   "source": [
    "# Uber: Insights from City Supply and Demand Data"
   ]
  },
  {
   "cell_type": "markdown",
   "id": "cdfbb854-9918-4f8e-8920-c359a56172b4",
   "metadata": {},
   "source": [
    "**Leng Yang**\n",
    "\n",
    "**Last Updated: 1/28/25**"
   ]
  },
  {
   "cell_type": "markdown",
   "id": "6801ec6e-5837-4132-bb74-8b15f135609c",
   "metadata": {
    "tags": []
   },
   "source": [
    "## Assignment\n",
    "\n",
    "Project Source: https://platform.stratascratch.com/data-projects/insights-city-supply-and-demand-data\n",
    "\n",
    "Using the provided dataset, answer the following questions:\n",
    "\n",
    "1. Which date had the most completed trips during the two week period?\n",
    "2. What was the highest number of completed trips within a 24 hour period?\n",
    "3. Which hour of the day had the most requests during the two week period?\n",
    "4. What percentages of all zeroes during the two week period occurred on weekend (Friday at 5 pm to Sunday at 3 am)? Tip: The local time value is the start of the hour (e.g. 15 is the hour from 3:00pm - 4:00pm)\n",
    "5. What is the weighted average ratio of completed trips per driver during the two week period? Tip: \"Weighted average\" means your answer should account for the total trip volume in each hour to determine the most accurate number in whole period.\n",
    "6. In drafting a driver schedule in terms of 8 hours shifts, when are the busiest 8 consecutive hours over the two week period in terms of unique requests? A new shift starts in every 8 hours. Assume that a driver will work same shift each day.\n",
    "7. True or False: Driver supply always increases when demand increases during the two week period. Tip: Visualize the data to confirm your answer if needed.\n",
    "8. In which 72 hour period is the ratio of Zeroes to Eyeballs the highest?\n",
    "9. If you could add 5 drivers to any single hour of every day during the two week period, which hour should you add them to? Hint: Consider both rider eyeballs and driver supply when choosing\n",
    "10. True or False: There is exactly two weeks of data in this analysis\n",
    "11. Looking at the data from all two weeks, which time might make the most sense to consider a true \"end day\" instead of midnight? (i.e when are supply and demand at both their natural minimums) Tip: Visualize the data to confirm your answer if needed."
   ]
  },
  {
   "cell_type": "markdown",
   "id": "cbe25ae6-e4a2-4cc5-87e4-0754065be96c",
   "metadata": {
    "tags": []
   },
   "source": [
    "## Data Description\n",
    "\n",
    "To answer the question, use the dataset from the file `dataset_1.csv`.\n",
    "* Date: date of transaction\n",
    "* Time (Local): 24-hr time format, 1-hour time blocks\n",
    "* Eyeballs: # of users who opened the app\n",
    "* Zeroes: # of users who did not see any available cars/drivers\n",
    "* Completed Trips: # of completed trips based on the Requests\n",
    "* Requests: # of requests\n",
    "* Unique Drivers: # of unique drivers logged in"
   ]
  },
  {
   "cell_type": "markdown",
   "id": "47690da7-cc05-4a97-93d4-78b0d0507894",
   "metadata": {},
   "source": [
    "<BR><BR>"
   ]
  },
  {
   "cell_type": "code",
   "execution_count": 6,
   "id": "21f44fef-95a7-4090-993f-da258b11ae6e",
   "metadata": {
    "tags": []
   },
   "outputs": [],
   "source": [
    "#Load in necessary libraries\n",
    "import pandas as pd\n",
    "import numpy as np\n",
    "import matplotlib.pyplot as plt"
   ]
  },
  {
   "cell_type": "code",
   "execution_count": 7,
   "id": "e72b92e6-8d24-4b3a-a1bd-e501620acf13",
   "metadata": {
    "tags": []
   },
   "outputs": [],
   "source": [
    "#Load in dataset into Pandas and fill in dates\n",
    "df = pd.read_csv('./datasets/dataset_1.csv').ffill()\n",
    "#Rename columns\n",
    "df.columns = df.columns.str.lower().str.replace('(','').str.replace(')','').str.strip().str.replace(' ','_')\n",
    "#Format date column\n",
    "df.date = pd.to_datetime(df.date, format='%d-%b-%y')"
   ]
  },
  {
   "cell_type": "code",
   "execution_count": 8,
   "id": "ac761c30-1244-4902-86da-0b2689d71e77",
   "metadata": {
    "tags": []
   },
   "outputs": [
    {
     "name": "stdout",
     "output_type": "stream",
     "text": [
      "<class 'pandas.core.frame.DataFrame'>\n",
      "RangeIndex: 336 entries, 0 to 335\n",
      "Data columns (total 7 columns):\n",
      " #   Column           Non-Null Count  Dtype         \n",
      "---  ------           --------------  -----         \n",
      " 0   date             336 non-null    datetime64[ns]\n",
      " 1   time_local       336 non-null    int64         \n",
      " 2   eyeballs         336 non-null    int64         \n",
      " 3   zeroes           336 non-null    int64         \n",
      " 4   completed_trips  336 non-null    int64         \n",
      " 5   requests         336 non-null    int64         \n",
      " 6   unique_drivers   336 non-null    int64         \n",
      "dtypes: datetime64[ns](1), int64(6)\n",
      "memory usage: 18.5 KB\n"
     ]
    }
   ],
   "source": [
    "#Look at info of dataframe\n",
    "df.info()"
   ]
  },
  {
   "cell_type": "code",
   "execution_count": 9,
   "id": "fcedc583-f94c-4eec-9233-4be987fa199c",
   "metadata": {
    "tags": []
   },
   "outputs": [
    {
     "data": {
      "text/html": [
       "<div>\n",
       "<style scoped>\n",
       "    .dataframe tbody tr th:only-of-type {\n",
       "        vertical-align: middle;\n",
       "    }\n",
       "\n",
       "    .dataframe tbody tr th {\n",
       "        vertical-align: top;\n",
       "    }\n",
       "\n",
       "    .dataframe thead th {\n",
       "        text-align: right;\n",
       "    }\n",
       "</style>\n",
       "<table border=\"1\" class=\"dataframe\">\n",
       "  <thead>\n",
       "    <tr style=\"text-align: right;\">\n",
       "      <th></th>\n",
       "      <th>date</th>\n",
       "      <th>time_local</th>\n",
       "      <th>eyeballs</th>\n",
       "      <th>zeroes</th>\n",
       "      <th>completed_trips</th>\n",
       "      <th>requests</th>\n",
       "      <th>unique_drivers</th>\n",
       "    </tr>\n",
       "  </thead>\n",
       "  <tbody>\n",
       "    <tr>\n",
       "      <th>0</th>\n",
       "      <td>2012-09-10</td>\n",
       "      <td>7</td>\n",
       "      <td>5</td>\n",
       "      <td>0</td>\n",
       "      <td>2</td>\n",
       "      <td>2</td>\n",
       "      <td>9</td>\n",
       "    </tr>\n",
       "    <tr>\n",
       "      <th>1</th>\n",
       "      <td>2012-09-10</td>\n",
       "      <td>8</td>\n",
       "      <td>6</td>\n",
       "      <td>0</td>\n",
       "      <td>2</td>\n",
       "      <td>2</td>\n",
       "      <td>14</td>\n",
       "    </tr>\n",
       "    <tr>\n",
       "      <th>2</th>\n",
       "      <td>2012-09-10</td>\n",
       "      <td>9</td>\n",
       "      <td>8</td>\n",
       "      <td>3</td>\n",
       "      <td>0</td>\n",
       "      <td>0</td>\n",
       "      <td>14</td>\n",
       "    </tr>\n",
       "    <tr>\n",
       "      <th>3</th>\n",
       "      <td>2012-09-10</td>\n",
       "      <td>10</td>\n",
       "      <td>9</td>\n",
       "      <td>2</td>\n",
       "      <td>0</td>\n",
       "      <td>1</td>\n",
       "      <td>14</td>\n",
       "    </tr>\n",
       "    <tr>\n",
       "      <th>4</th>\n",
       "      <td>2012-09-10</td>\n",
       "      <td>11</td>\n",
       "      <td>11</td>\n",
       "      <td>1</td>\n",
       "      <td>4</td>\n",
       "      <td>4</td>\n",
       "      <td>11</td>\n",
       "    </tr>\n",
       "  </tbody>\n",
       "</table>\n",
       "</div>"
      ],
      "text/plain": [
       "        date  time_local  eyeballs  zeroes  completed_trips  requests  \\\n",
       "0 2012-09-10           7         5       0                2         2   \n",
       "1 2012-09-10           8         6       0                2         2   \n",
       "2 2012-09-10           9         8       3                0         0   \n",
       "3 2012-09-10          10         9       2                0         1   \n",
       "4 2012-09-10          11        11       1                4         4   \n",
       "\n",
       "   unique_drivers  \n",
       "0               9  \n",
       "1              14  \n",
       "2              14  \n",
       "3              14  \n",
       "4              11  "
      ]
     },
     "execution_count": 9,
     "metadata": {},
     "output_type": "execute_result"
    }
   ],
   "source": [
    "#Preview first 5 records\n",
    "df.head()"
   ]
  },
  {
   "cell_type": "markdown",
   "id": "efad30e9-57ed-462d-bbc4-7e074015f9a8",
   "metadata": {},
   "source": [
    "### 1. Which date had the most completed trips during the two week period?"
   ]
  },
  {
   "cell_type": "markdown",
   "id": "c3ea05c6-9fbd-4966-97ca-41df0c898977",
   "metadata": {},
   "source": [
    "9/22/2012 had the most comnpleted trips."
   ]
  },
  {
   "cell_type": "code",
   "execution_count": 12,
   "id": "3c02a53d-054e-4eac-b45c-05fb8153cbda",
   "metadata": {
    "tags": []
   },
   "outputs": [
    {
     "data": {
      "text/plain": [
       "date\n",
       "2012-09-22    248\n",
       "2012-09-15    199\n",
       "2012-09-21    190\n",
       "2012-09-23    111\n",
       "2012-09-14    108\n",
       "2012-09-16     93\n",
       "2012-09-12     91\n",
       "2012-09-20     70\n",
       "2012-09-17     57\n",
       "2012-09-13     45\n",
       "2012-09-18     42\n",
       "2012-09-19     41\n",
       "2012-09-11     40\n",
       "2012-09-10     26\n",
       "2012-09-24      4\n",
       "Name: completed_trips, dtype: int64"
      ]
     },
     "execution_count": 12,
     "metadata": {},
     "output_type": "execute_result"
    }
   ],
   "source": [
    "df.groupby('date')['completed_trips'].sum().sort_values(ascending=False)"
   ]
  },
  {
   "cell_type": "markdown",
   "id": "93f75fa4-d8e5-43f1-b735-ab565040662a",
   "metadata": {},
   "source": [
    "<BR>"
   ]
  },
  {
   "cell_type": "markdown",
   "id": "2c0d79ad-d5b1-4a03-9b00-9fbbba7fcce9",
   "metadata": {},
   "source": [
    "### 2. What was the highest number of completed trips within a 24 hour period?"
   ]
  },
  {
   "cell_type": "markdown",
   "id": "5c156f97-408f-4ecf-9b94-7424daad2f0c",
   "metadata": {},
   "source": [
    "The highest was 278 completed trips over a 24-hr time period."
   ]
  },
  {
   "cell_type": "code",
   "execution_count": 16,
   "id": "ce220df6-69b8-4c34-8c79-79c4c30d43bd",
   "metadata": {
    "tags": []
   },
   "outputs": [
    {
     "data": {
      "text/plain": [
       "297    278.0\n",
       "296    274.0\n",
       "300    261.0\n",
       "312    260.0\n",
       "298    260.0\n",
       "       ...  \n",
       "18       NaN\n",
       "19       NaN\n",
       "20       NaN\n",
       "21       NaN\n",
       "22       NaN\n",
       "Name: completed_trips, Length: 336, dtype: float64"
      ]
     },
     "execution_count": 16,
     "metadata": {},
     "output_type": "execute_result"
    }
   ],
   "source": [
    "#Compute sum of completed trips over a rolling 24-hr window\n",
    "df.completed_trips.rolling(24).sum().sort_values(ascending=False)"
   ]
  },
  {
   "cell_type": "markdown",
   "id": "8bc9b1a7-1066-4067-865c-dc828466c9d8",
   "metadata": {},
   "source": [
    "<BR>"
   ]
  },
  {
   "cell_type": "markdown",
   "id": "b9bda345-1d7f-4538-921e-29cc22791e9b",
   "metadata": {},
   "source": [
    "### 3. Which hour of the day had the most requests during the two week period?"
   ]
  },
  {
   "cell_type": "markdown",
   "id": "c08040b5-61f2-4496-b9d6-a54913ea7b8c",
   "metadata": {
    "tags": []
   },
   "source": [
    "11 PM had the most requests."
   ]
  },
  {
   "cell_type": "code",
   "execution_count": 20,
   "id": "66c82017-3011-46d9-9415-0165ea55f397",
   "metadata": {
    "tags": []
   },
   "outputs": [
    {
     "data": {
      "text/plain": [
       "time_local\n",
       "23    184\n",
       "22    174\n",
       "19    156\n",
       "0     142\n",
       "18    119\n",
       "21    112\n",
       "20    107\n",
       "2     100\n",
       "17     98\n",
       "1      96\n",
       "16     82\n",
       "14     71\n",
       "15     71\n",
       "13     55\n",
       "12     53\n",
       "11     47\n",
       "3      35\n",
       "8      29\n",
       "10     28\n",
       "6      28\n",
       "9      26\n",
       "7      22\n",
       "5      14\n",
       "4       9\n",
       "Name: requests, dtype: int64"
      ]
     },
     "execution_count": 20,
     "metadata": {},
     "output_type": "execute_result"
    }
   ],
   "source": [
    "df.groupby('time_local')['requests'].sum().sort_values(ascending=False)"
   ]
  },
  {
   "cell_type": "markdown",
   "id": "94421fc5-afbf-4f6a-a2bf-fae2a0b7d1d5",
   "metadata": {},
   "source": [
    "<BR>"
   ]
  },
  {
   "cell_type": "markdown",
   "id": "9688c6d9-f623-40bc-b4d3-dc9ab8e8e272",
   "metadata": {},
   "source": [
    "### 4. What percentages of all zeroes during the two week period occurred on weekend (Friday at 5 pm to Sunday at 3 am)?\n",
    "Tip: The local time value is the start of the hour (e.g. 15 is the hour from 3:00pm - 4:00pm)"
   ]
  },
  {
   "cell_type": "markdown",
   "id": "c6922edc-256a-4046-bba4-ef52005ee689",
   "metadata": {},
   "source": [
    "About 44.86% of zeroes occur during the weekend."
   ]
  },
  {
   "cell_type": "code",
   "execution_count": 24,
   "id": "65dbd6dc-ba87-4188-8320-d6d0c9c2aef1",
   "metadata": {
    "tags": []
   },
   "outputs": [],
   "source": [
    "#Get day of week from date\n",
    "df['day_of_week'] = df.date.dt.day_name()"
   ]
  },
  {
   "cell_type": "code",
   "execution_count": 25,
   "id": "a6a65844-a598-4496-9c0d-19dc707f42af",
   "metadata": {
    "tags": []
   },
   "outputs": [
    {
     "data": {
      "text/plain": [
       "44.856543037088876"
      ]
     },
     "execution_count": 25,
     "metadata": {},
     "output_type": "execute_result"
    }
   ],
   "source": [
    "#Select all zeroes during a weekend timeframe and calculate the sum during this time period\n",
    "z_wknd = df.loc[(df.day_of_week == 'Saturday') | ((df.day_of_week == 'Friday') & (df.time_local >= 17)) | ((df.day_of_week == 'Sunday') & (df.time_local <= 2)), 'zeroes'].sum()\n",
    "#Calculate sum of zeroes over the entire period\n",
    "z_all = df.zeroes.sum()\n",
    "#Calculate the requested percentage\n",
    "z_wknd / z_all * 100"
   ]
  },
  {
   "cell_type": "markdown",
   "id": "764cc06f-c6e9-4e27-9af6-16b916f7dfc4",
   "metadata": {},
   "source": [
    "<BR>"
   ]
  },
  {
   "cell_type": "markdown",
   "id": "502babea-6728-4436-8f70-b3c64794fccb",
   "metadata": {
    "tags": []
   },
   "source": [
    "### 5. What is the weighted average ratio of completed trips per driver during the two week period?\n",
    "Tip: \"Weighted average\" means your answer should account for the total trip volume in each hour to determine the most accurate number in whole period."
   ]
  },
  {
   "cell_type": "code",
   "execution_count": 28,
   "id": "ce138eed-ea0c-4fb5-bae4-69003f390f9b",
   "metadata": {
    "tags": []
   },
   "outputs": [],
   "source": [
    "#Calculate ratio\n",
    "df['completed_trips_per_driver_ratio'] = df.completed_trips / df.unique_drivers"
   ]
  },
  {
   "cell_type": "code",
   "execution_count": 29,
   "id": "ebaab64c-791e-4210-89dc-18990f886878",
   "metadata": {
    "tags": []
   },
   "outputs": [
    {
     "data": {
      "text/plain": [
       "0.8282775715092395"
      ]
     },
     "execution_count": 29,
     "metadata": {},
     "output_type": "execute_result"
    }
   ],
   "source": [
    "#Drop rows without unique drivers to prevent miscalculations (nan and inf)\n",
    "df_ratio = df[df.unique_drivers > 0]\n",
    "#Calculate weighted average using number of completed trips every hour as weights\n",
    "np.average(df_ratio.completed_trips_per_driver_ratio, weights=df_ratio.completed_trips)"
   ]
  },
  {
   "cell_type": "markdown",
   "id": "89ef57e2-57c5-49b7-b2eb-555f299f492c",
   "metadata": {},
   "source": [
    "<BR>"
   ]
  },
  {
   "cell_type": "markdown",
   "id": "6eaaeb85-5f3a-49b7-9911-b3ea2821b7da",
   "metadata": {
    "tags": []
   },
   "source": [
    "### 6. In drafting a driver schedule in terms of 8 hours shifts, when are the busiest 8 consecutive hours over the two week period in terms of unique requests?\n",
    "A new shift starts in every 8 hours. Assume that a driver will work same shift each day."
   ]
  },
  {
   "cell_type": "markdown",
   "id": "b9cf923e-6362-4b2d-9ec2-2fb27634967f",
   "metadata": {},
   "source": [
    "The busiest 8-hr schedule, based on the number of requests, began on 9/21 at 5 PM and ended on 9/22 at 1 AM."
   ]
  },
  {
   "cell_type": "code",
   "execution_count": 33,
   "id": "f4d8d93c-aa01-46b9-9701-e9560eb4e68a",
   "metadata": {
    "tags": []
   },
   "outputs": [],
   "source": [
    "#Create column containing rolling sum over 8-hr periods based on the number of requests, shifting values to the beginning of the shift\n",
    "df['eight_hr_shift'] = df.requests.rolling(8, min_periods=1).sum().shift(-7)"
   ]
  },
  {
   "cell_type": "code",
   "execution_count": 34,
   "id": "d129c083-4a09-44db-8f86-4285472a1f4b",
   "metadata": {
    "tags": []
   },
   "outputs": [
    {
     "data": {
      "text/plain": [
       "274"
      ]
     },
     "execution_count": 34,
     "metadata": {},
     "output_type": "execute_result"
    }
   ],
   "source": [
    "#Determine the index containing the end of the window with the highest requests\n",
    "df.eight_hr_shift.idxmax()"
   ]
  },
  {
   "cell_type": "code",
   "execution_count": 35,
   "id": "8c57e6f6-3696-4fa9-b92c-fa4f2ddb3aa9",
   "metadata": {
    "tags": []
   },
   "outputs": [
    {
     "data": {
      "text/html": [
       "<div>\n",
       "<style scoped>\n",
       "    .dataframe tbody tr th:only-of-type {\n",
       "        vertical-align: middle;\n",
       "    }\n",
       "\n",
       "    .dataframe tbody tr th {\n",
       "        vertical-align: top;\n",
       "    }\n",
       "\n",
       "    .dataframe thead th {\n",
       "        text-align: right;\n",
       "    }\n",
       "</style>\n",
       "<table border=\"1\" class=\"dataframe\">\n",
       "  <thead>\n",
       "    <tr style=\"text-align: right;\">\n",
       "      <th></th>\n",
       "      <th>date</th>\n",
       "      <th>time_local</th>\n",
       "      <th>eyeballs</th>\n",
       "      <th>zeroes</th>\n",
       "      <th>completed_trips</th>\n",
       "      <th>requests</th>\n",
       "      <th>unique_drivers</th>\n",
       "      <th>day_of_week</th>\n",
       "      <th>completed_trips_per_driver_ratio</th>\n",
       "      <th>eight_hr_shift</th>\n",
       "    </tr>\n",
       "  </thead>\n",
       "  <tbody>\n",
       "    <tr>\n",
       "      <th>274</th>\n",
       "      <td>2012-09-21</td>\n",
       "      <td>17</td>\n",
       "      <td>68</td>\n",
       "      <td>25</td>\n",
       "      <td>26</td>\n",
       "      <td>26</td>\n",
       "      <td>20</td>\n",
       "      <td>Friday</td>\n",
       "      <td>1.300000</td>\n",
       "      <td>207.0</td>\n",
       "    </tr>\n",
       "    <tr>\n",
       "      <th>275</th>\n",
       "      <td>2012-09-21</td>\n",
       "      <td>18</td>\n",
       "      <td>62</td>\n",
       "      <td>6</td>\n",
       "      <td>15</td>\n",
       "      <td>22</td>\n",
       "      <td>26</td>\n",
       "      <td>Friday</td>\n",
       "      <td>0.576923</td>\n",
       "      <td>205.0</td>\n",
       "    </tr>\n",
       "    <tr>\n",
       "      <th>276</th>\n",
       "      <td>2012-09-21</td>\n",
       "      <td>19</td>\n",
       "      <td>47</td>\n",
       "      <td>3</td>\n",
       "      <td>16</td>\n",
       "      <td>19</td>\n",
       "      <td>30</td>\n",
       "      <td>Friday</td>\n",
       "      <td>0.533333</td>\n",
       "      <td>201.0</td>\n",
       "    </tr>\n",
       "    <tr>\n",
       "      <th>277</th>\n",
       "      <td>2012-09-21</td>\n",
       "      <td>20</td>\n",
       "      <td>63</td>\n",
       "      <td>8</td>\n",
       "      <td>14</td>\n",
       "      <td>21</td>\n",
       "      <td>28</td>\n",
       "      <td>Friday</td>\n",
       "      <td>0.500000</td>\n",
       "      <td>185.0</td>\n",
       "    </tr>\n",
       "    <tr>\n",
       "      <th>278</th>\n",
       "      <td>2012-09-21</td>\n",
       "      <td>21</td>\n",
       "      <td>59</td>\n",
       "      <td>8</td>\n",
       "      <td>12</td>\n",
       "      <td>17</td>\n",
       "      <td>27</td>\n",
       "      <td>Friday</td>\n",
       "      <td>0.444444</td>\n",
       "      <td>167.0</td>\n",
       "    </tr>\n",
       "    <tr>\n",
       "      <th>279</th>\n",
       "      <td>2012-09-21</td>\n",
       "      <td>22</td>\n",
       "      <td>73</td>\n",
       "      <td>4</td>\n",
       "      <td>23</td>\n",
       "      <td>29</td>\n",
       "      <td>26</td>\n",
       "      <td>Friday</td>\n",
       "      <td>0.884615</td>\n",
       "      <td>152.0</td>\n",
       "    </tr>\n",
       "    <tr>\n",
       "      <th>280</th>\n",
       "      <td>2012-09-21</td>\n",
       "      <td>23</td>\n",
       "      <td>94</td>\n",
       "      <td>30</td>\n",
       "      <td>36</td>\n",
       "      <td>46</td>\n",
       "      <td>26</td>\n",
       "      <td>Friday</td>\n",
       "      <td>1.384615</td>\n",
       "      <td>124.0</td>\n",
       "    </tr>\n",
       "    <tr>\n",
       "      <th>281</th>\n",
       "      <td>2012-09-22</td>\n",
       "      <td>0</td>\n",
       "      <td>62</td>\n",
       "      <td>4</td>\n",
       "      <td>19</td>\n",
       "      <td>27</td>\n",
       "      <td>27</td>\n",
       "      <td>Saturday</td>\n",
       "      <td>0.703704</td>\n",
       "      <td>78.0</td>\n",
       "    </tr>\n",
       "  </tbody>\n",
       "</table>\n",
       "</div>"
      ],
      "text/plain": [
       "          date  time_local  eyeballs  zeroes  completed_trips  requests  \\\n",
       "274 2012-09-21          17        68      25               26        26   \n",
       "275 2012-09-21          18        62       6               15        22   \n",
       "276 2012-09-21          19        47       3               16        19   \n",
       "277 2012-09-21          20        63       8               14        21   \n",
       "278 2012-09-21          21        59       8               12        17   \n",
       "279 2012-09-21          22        73       4               23        29   \n",
       "280 2012-09-21          23        94      30               36        46   \n",
       "281 2012-09-22           0        62       4               19        27   \n",
       "\n",
       "     unique_drivers day_of_week  completed_trips_per_driver_ratio  \\\n",
       "274              20      Friday                          1.300000   \n",
       "275              26      Friday                          0.576923   \n",
       "276              30      Friday                          0.533333   \n",
       "277              28      Friday                          0.500000   \n",
       "278              27      Friday                          0.444444   \n",
       "279              26      Friday                          0.884615   \n",
       "280              26      Friday                          1.384615   \n",
       "281              27    Saturday                          0.703704   \n",
       "\n",
       "     eight_hr_shift  \n",
       "274           207.0  \n",
       "275           205.0  \n",
       "276           201.0  \n",
       "277           185.0  \n",
       "278           167.0  \n",
       "279           152.0  \n",
       "280           124.0  \n",
       "281            78.0  "
      ]
     },
     "execution_count": 35,
     "metadata": {},
     "output_type": "execute_result"
    }
   ],
   "source": [
    "#Look at 8-hr window\n",
    "df.loc[274:281]"
   ]
  },
  {
   "cell_type": "markdown",
   "id": "c37c378b-4dd9-406f-9b2c-e980a713db8e",
   "metadata": {},
   "source": [
    "<BR>"
   ]
  },
  {
   "cell_type": "markdown",
   "id": "895a9dc2-a003-439b-bb48-d6eb882be69c",
   "metadata": {},
   "source": [
    "### 7. True or False: Driver supply always increases when demand increases during the two week period.\n",
    "Tip: Visualize the data to confirm your answer if needed."
   ]
  },
  {
   "cell_type": "markdown",
   "id": "9024b3d5-719f-4662-8a1e-d675568d93cf",
   "metadata": {},
   "source": [
    "The number of drivers typically increases as the number of requests increases. Hence, it is true that supply increases as demand increases."
   ]
  },
  {
   "cell_type": "code",
   "execution_count": 39,
   "id": "6f690ebd-76c5-43ed-a38e-f3cec7ca929e",
   "metadata": {},
   "outputs": [],
   "source": [
    "#Combine date and time columns into a timestamp column\n",
    "df['timestamp'] = df.date + pd.to_timedelta(df.time_local, unit='h')"
   ]
  },
  {
   "cell_type": "code",
   "execution_count": 40,
   "id": "58d009d9-4851-4931-b7ce-49181a92d4ae",
   "metadata": {
    "tags": []
   },
   "outputs": [
    {
     "data": {
      "image/png": "[encoded data removed]",
      "text/plain": [
       "<Figure size 1600x900 with 1 Axes>"
      ]
     },
     "metadata": {},
     "output_type": "display_data"
    }
   ],
   "source": [
    "plt.figure(figsize=[16,9])\n",
    "plt.plot(df.timestamp, df.requests, label='requests')\n",
    "plt.plot(df.timestamp, df.unique_drivers, '--', label='drivers')\n",
    "plt.legend(loc='upper left');"
   ]
  },
  {
   "cell_type": "markdown",
   "id": "f24a3588-2cdd-4503-b21f-c11eae3d6353",
   "metadata": {},
   "source": [
    "<BR>"
   ]
  },
  {
   "cell_type": "markdown",
   "id": "1b1a6ca9-0b4c-4eca-8a99-9083bdc92ba6",
   "metadata": {},
   "source": [
    "### 8. In which 72 hour period is the ratio of Zeroes to Eyeballs the highest?"
   ]
  },
  {
   "cell_type": "markdown",
   "id": "b9d2467d-69cf-47bd-83ab-33b6ecf4c614",
   "metadata": {},
   "source": [
    "The period from 9/15 5 AM to 9/18 5 AM had the highest ratio at 0.29."
   ]
  },
  {
   "cell_type": "code",
   "execution_count": 44,
   "id": "052e1651-2eb6-48c2-8de9-adb26179a3ad",
   "metadata": {
    "tags": []
   },
   "outputs": [],
   "source": [
    "#drop unnecessary columns, set timestamp as index, calculate rolling window for 3 days/72 hours, and shift results up 71 rows to get a forward rolling window calculation\n",
    "df_three_day = df.drop(columns=['date','day_of_week']).set_index(\"timestamp\").rolling(window=72, min_periods=1).sum().shift(-71).reset_index().dropna()"
   ]
  },
  {
   "cell_type": "code",
   "execution_count": 45,
   "id": "e1845273-709b-4933-908e-3e44315026ad",
   "metadata": {
    "tags": []
   },
   "outputs": [
    {
     "data": {
      "text/plain": [
       "timestamp                           2012-09-15 05:00:00\n",
       "time_local                                        828.0\n",
       "eyeballs                                         1495.0\n",
       "zeroes                                            438.0\n",
       "completed_trips                                   292.0\n",
       "requests                                          431.0\n",
       "unique_drivers                                    454.0\n",
       "completed_trips_per_driver_ratio              37.088176\n",
       "eight_hr_shift                                   3439.0\n",
       "zeroes_to_eyeballs_ratio                       0.292977\n",
       "Name: 118, dtype: object"
      ]
     },
     "execution_count": 45,
     "metadata": {},
     "output_type": "execute_result"
    }
   ],
   "source": [
    "df_three_day['zeroes_to_eyeballs_ratio'] = df_three_day.zeroes / df_three_day.eyeballs\n",
    "df_three_day.loc[df_three_day.zeroes_to_eyeballs_ratio.idxmax()]"
   ]
  },
  {
   "cell_type": "markdown",
   "id": "31485682-2d6d-4157-872c-987ad0bfe9a8",
   "metadata": {},
   "source": [
    "<BR>"
   ]
  },
  {
   "cell_type": "markdown",
   "id": "37bb374b-f001-4252-a3e2-62a21beb50f3",
   "metadata": {},
   "source": [
    "### 9. If you could add 5 drivers to any single hour of every day during the two week period, which hour should you add them to?\n",
    "Hint: Consider both rider eyeballs and driver supply when choosing"
   ]
  },
  {
   "cell_type": "markdown",
   "id": "243af7dd-4aae-4656-b141-d3fef13addf5",
   "metadata": {},
   "source": [
    "Adding drivers where there is a high ratio of users to the number of currently active drivers makes the most sense. The highest ratio occurs at 11 PM, where more drivers should be added."
   ]
  },
  {
   "cell_type": "code",
   "execution_count": 49,
   "id": "1ac33341-d853-48f7-8882-e16aba941cd6",
   "metadata": {
    "tags": []
   },
   "outputs": [],
   "source": [
    "#Aggregate results by hour and calculate ratio\n",
    "df_hr = df.groupby('time_local')[['eyeballs','unique_drivers']].sum()\n",
    "df_hr['eyeball_driver_ratio'] = df_hr.eyeballs / df_hr.unique_drivers"
   ]
  },
  {
   "cell_type": "code",
   "execution_count": 50,
   "id": "010f4ae9-6cdf-4de2-bead-fc02d987f4b1",
   "metadata": {
    "tags": []
   },
   "outputs": [
    {
     "data": {
      "text/html": [
       "<div>\n",
       "<style scoped>\n",
       "    .dataframe tbody tr th:only-of-type {\n",
       "        vertical-align: middle;\n",
       "    }\n",
       "\n",
       "    .dataframe tbody tr th {\n",
       "        vertical-align: top;\n",
       "    }\n",
       "\n",
       "    .dataframe thead th {\n",
       "        text-align: right;\n",
       "    }\n",
       "</style>\n",
       "<table border=\"1\" class=\"dataframe\">\n",
       "  <thead>\n",
       "    <tr style=\"text-align: right;\">\n",
       "      <th></th>\n",
       "      <th>eyeballs</th>\n",
       "      <th>unique_drivers</th>\n",
       "      <th>eyeball_driver_ratio</th>\n",
       "    </tr>\n",
       "    <tr>\n",
       "      <th>time_local</th>\n",
       "      <th></th>\n",
       "      <th></th>\n",
       "      <th></th>\n",
       "    </tr>\n",
       "  </thead>\n",
       "  <tbody>\n",
       "    <tr>\n",
       "      <th>23</th>\n",
       "      <td>488</td>\n",
       "      <td>119</td>\n",
       "      <td>4.10084</td>\n",
       "    </tr>\n",
       "  </tbody>\n",
       "</table>\n",
       "</div>"
      ],
      "text/plain": [
       "            eyeballs  unique_drivers  eyeball_driver_ratio\n",
       "time_local                                                \n",
       "23               488             119               4.10084"
      ]
     },
     "execution_count": 50,
     "metadata": {},
     "output_type": "execute_result"
    }
   ],
   "source": [
    "df_hr[df_hr.index == df_hr.eyeball_driver_ratio.idxmax()]"
   ]
  },
  {
   "cell_type": "markdown",
   "id": "dbaa96c2-a2b5-42c7-8f26-f37aed66cf8e",
   "metadata": {},
   "source": [
    "<BR>"
   ]
  },
  {
   "cell_type": "markdown",
   "id": "81f9e6de-7c4e-4253-873b-2b6b005c5c9f",
   "metadata": {},
   "source": [
    "### 10. True or False: There is exactly two weeks of data in this analysis"
   ]
  },
  {
   "cell_type": "markdown",
   "id": "b50e1344-be06-4166-9331-b1ba2ec79328",
   "metadata": {},
   "source": [
    "The time for the data began on 9/10 at 7 AM and ends on 9/24 at 6 AM (which indicates a 6 AM - 7 AM timeblock). This suggests a complete two weeks of data."
   ]
  },
  {
   "cell_type": "code",
   "execution_count": 54,
   "id": "246b4745-bd11-4075-b461-9092f704c977",
   "metadata": {
    "tags": []
   },
   "outputs": [
    {
     "data": {
      "text/html": [
       "<div>\n",
       "<style scoped>\n",
       "    .dataframe tbody tr th:only-of-type {\n",
       "        vertical-align: middle;\n",
       "    }\n",
       "\n",
       "    .dataframe tbody tr th {\n",
       "        vertical-align: top;\n",
       "    }\n",
       "\n",
       "    .dataframe thead th {\n",
       "        text-align: right;\n",
       "    }\n",
       "</style>\n",
       "<table border=\"1\" class=\"dataframe\">\n",
       "  <thead>\n",
       "    <tr style=\"text-align: right;\">\n",
       "      <th></th>\n",
       "      <th>date</th>\n",
       "      <th>time_local</th>\n",
       "      <th>eyeballs</th>\n",
       "      <th>zeroes</th>\n",
       "      <th>completed_trips</th>\n",
       "      <th>requests</th>\n",
       "      <th>unique_drivers</th>\n",
       "      <th>day_of_week</th>\n",
       "      <th>completed_trips_per_driver_ratio</th>\n",
       "      <th>eight_hr_shift</th>\n",
       "      <th>timestamp</th>\n",
       "    </tr>\n",
       "  </thead>\n",
       "  <tbody>\n",
       "    <tr>\n",
       "      <th>0</th>\n",
       "      <td>2012-09-10</td>\n",
       "      <td>7</td>\n",
       "      <td>5</td>\n",
       "      <td>0</td>\n",
       "      <td>2</td>\n",
       "      <td>2</td>\n",
       "      <td>9</td>\n",
       "      <td>Monday</td>\n",
       "      <td>0.222222</td>\n",
       "      <td>11.0</td>\n",
       "      <td>2012-09-10 07:00:00</td>\n",
       "    </tr>\n",
       "  </tbody>\n",
       "</table>\n",
       "</div>"
      ],
      "text/plain": [
       "        date  time_local  eyeballs  zeroes  completed_trips  requests  \\\n",
       "0 2012-09-10           7         5       0                2         2   \n",
       "\n",
       "   unique_drivers day_of_week  completed_trips_per_driver_ratio  \\\n",
       "0               9      Monday                          0.222222   \n",
       "\n",
       "   eight_hr_shift           timestamp  \n",
       "0            11.0 2012-09-10 07:00:00  "
      ]
     },
     "execution_count": 54,
     "metadata": {},
     "output_type": "execute_result"
    }
   ],
   "source": [
    "df.head(1)"
   ]
  },
  {
   "cell_type": "code",
   "execution_count": 55,
   "id": "44a54b28-e9fa-4679-a7ea-1287955afd31",
   "metadata": {
    "tags": []
   },
   "outputs": [
    {
     "data": {
      "text/html": [
       "<div>\n",
       "<style scoped>\n",
       "    .dataframe tbody tr th:only-of-type {\n",
       "        vertical-align: middle;\n",
       "    }\n",
       "\n",
       "    .dataframe tbody tr th {\n",
       "        vertical-align: top;\n",
       "    }\n",
       "\n",
       "    .dataframe thead th {\n",
       "        text-align: right;\n",
       "    }\n",
       "</style>\n",
       "<table border=\"1\" class=\"dataframe\">\n",
       "  <thead>\n",
       "    <tr style=\"text-align: right;\">\n",
       "      <th></th>\n",
       "      <th>date</th>\n",
       "      <th>time_local</th>\n",
       "      <th>eyeballs</th>\n",
       "      <th>zeroes</th>\n",
       "      <th>completed_trips</th>\n",
       "      <th>requests</th>\n",
       "      <th>unique_drivers</th>\n",
       "      <th>day_of_week</th>\n",
       "      <th>completed_trips_per_driver_ratio</th>\n",
       "      <th>eight_hr_shift</th>\n",
       "      <th>timestamp</th>\n",
       "    </tr>\n",
       "  </thead>\n",
       "  <tbody>\n",
       "    <tr>\n",
       "      <th>335</th>\n",
       "      <td>2012-09-24</td>\n",
       "      <td>6</td>\n",
       "      <td>9</td>\n",
       "      <td>1</td>\n",
       "      <td>2</td>\n",
       "      <td>2</td>\n",
       "      <td>7</td>\n",
       "      <td>Monday</td>\n",
       "      <td>0.285714</td>\n",
       "      <td>NaN</td>\n",
       "      <td>2012-09-24 06:00:00</td>\n",
       "    </tr>\n",
       "  </tbody>\n",
       "</table>\n",
       "</div>"
      ],
      "text/plain": [
       "          date  time_local  eyeballs  zeroes  completed_trips  requests  \\\n",
       "335 2012-09-24           6         9       1                2         2   \n",
       "\n",
       "     unique_drivers day_of_week  completed_trips_per_driver_ratio  \\\n",
       "335               7      Monday                          0.285714   \n",
       "\n",
       "     eight_hr_shift           timestamp  \n",
       "335             NaN 2012-09-24 06:00:00  "
      ]
     },
     "execution_count": 55,
     "metadata": {},
     "output_type": "execute_result"
    }
   ],
   "source": [
    "df.tail(1)"
   ]
  },
  {
   "cell_type": "markdown",
   "id": "eeb5d12f-a21a-4e0d-ba70-332a90a69815",
   "metadata": {},
   "source": [
    "<BR>"
   ]
  },
  {
   "cell_type": "markdown",
   "id": "513790a4-ba01-496a-bb51-a8d21d0db9bd",
   "metadata": {},
   "source": [
    "### 11. Looking at the data from all two weeks, which time might make the most sense to consider a true \"end day\" instead of midnight? (i.e when are supply and demand at both their natural minimums)\n",
    "Tip: Visualize the data to confirm your answer if needed."
   ]
  },
  {
   "cell_type": "markdown",
   "id": "fbc6020f-f543-408c-9aa3-bc9536ab89b0",
   "metadata": {},
   "source": [
    "By the looks of the table and visualization, the true \"end day\" would be at 4 AM, where both the number of requests and drivers are that their lowest."
   ]
  },
  {
   "cell_type": "code",
   "execution_count": 59,
   "id": "9c45a142-1d8c-42e6-a327-b35625c18a73",
   "metadata": {
    "tags": []
   },
   "outputs": [],
   "source": [
    "#Aggregate number of requests and drivers by the hour of the day\n",
    "df_hr_sd = df.groupby('time_local')[['requests','unique_drivers']].sum()"
   ]
  },
  {
   "cell_type": "code",
   "execution_count": 60,
   "id": "019b812c-fa4e-4ae7-b049-a0f5016b6a0e",
   "metadata": {
    "tags": []
   },
   "outputs": [
    {
     "data": {
      "text/html": [
       "<div>\n",
       "<style scoped>\n",
       "    .dataframe tbody tr th:only-of-type {\n",
       "        vertical-align: middle;\n",
       "    }\n",
       "\n",
       "    .dataframe tbody tr th {\n",
       "        vertical-align: top;\n",
       "    }\n",
       "\n",
       "    .dataframe thead th {\n",
       "        text-align: right;\n",
       "    }\n",
       "</style>\n",
       "<table border=\"1\" class=\"dataframe\">\n",
       "  <thead>\n",
       "    <tr style=\"text-align: right;\">\n",
       "      <th></th>\n",
       "      <th>requests</th>\n",
       "      <th>unique_drivers</th>\n",
       "    </tr>\n",
       "    <tr>\n",
       "      <th>time_local</th>\n",
       "      <th></th>\n",
       "      <th></th>\n",
       "    </tr>\n",
       "  </thead>\n",
       "  <tbody>\n",
       "    <tr>\n",
       "      <th>0</th>\n",
       "      <td>142</td>\n",
       "      <td>111</td>\n",
       "    </tr>\n",
       "    <tr>\n",
       "      <th>1</th>\n",
       "      <td>96</td>\n",
       "      <td>94</td>\n",
       "    </tr>\n",
       "    <tr>\n",
       "      <th>2</th>\n",
       "      <td>100</td>\n",
       "      <td>62</td>\n",
       "    </tr>\n",
       "    <tr>\n",
       "      <th>3</th>\n",
       "      <td>35</td>\n",
       "      <td>40</td>\n",
       "    </tr>\n",
       "    <tr>\n",
       "      <th>4</th>\n",
       "      <td>9</td>\n",
       "      <td>9</td>\n",
       "    </tr>\n",
       "    <tr>\n",
       "      <th>5</th>\n",
       "      <td>14</td>\n",
       "      <td>11</td>\n",
       "    </tr>\n",
       "    <tr>\n",
       "      <th>6</th>\n",
       "      <td>28</td>\n",
       "      <td>37</td>\n",
       "    </tr>\n",
       "    <tr>\n",
       "      <th>7</th>\n",
       "      <td>22</td>\n",
       "      <td>60</td>\n",
       "    </tr>\n",
       "    <tr>\n",
       "      <th>8</th>\n",
       "      <td>29</td>\n",
       "      <td>95</td>\n",
       "    </tr>\n",
       "    <tr>\n",
       "      <th>9</th>\n",
       "      <td>26</td>\n",
       "      <td>110</td>\n",
       "    </tr>\n",
       "    <tr>\n",
       "      <th>10</th>\n",
       "      <td>28</td>\n",
       "      <td>129</td>\n",
       "    </tr>\n",
       "    <tr>\n",
       "      <th>11</th>\n",
       "      <td>47</td>\n",
       "      <td>133</td>\n",
       "    </tr>\n",
       "    <tr>\n",
       "      <th>12</th>\n",
       "      <td>53</td>\n",
       "      <td>132</td>\n",
       "    </tr>\n",
       "    <tr>\n",
       "      <th>13</th>\n",
       "      <td>55</td>\n",
       "      <td>122</td>\n",
       "    </tr>\n",
       "    <tr>\n",
       "      <th>14</th>\n",
       "      <td>71</td>\n",
       "      <td>125</td>\n",
       "    </tr>\n",
       "    <tr>\n",
       "      <th>15</th>\n",
       "      <td>71</td>\n",
       "      <td>139</td>\n",
       "    </tr>\n",
       "    <tr>\n",
       "      <th>16</th>\n",
       "      <td>82</td>\n",
       "      <td>144</td>\n",
       "    </tr>\n",
       "    <tr>\n",
       "      <th>17</th>\n",
       "      <td>98</td>\n",
       "      <td>165</td>\n",
       "    </tr>\n",
       "    <tr>\n",
       "      <th>18</th>\n",
       "      <td>119</td>\n",
       "      <td>174</td>\n",
       "    </tr>\n",
       "    <tr>\n",
       "      <th>19</th>\n",
       "      <td>156</td>\n",
       "      <td>180</td>\n",
       "    </tr>\n",
       "    <tr>\n",
       "      <th>20</th>\n",
       "      <td>107</td>\n",
       "      <td>163</td>\n",
       "    </tr>\n",
       "    <tr>\n",
       "      <th>21</th>\n",
       "      <td>112</td>\n",
       "      <td>155</td>\n",
       "    </tr>\n",
       "    <tr>\n",
       "      <th>22</th>\n",
       "      <td>174</td>\n",
       "      <td>144</td>\n",
       "    </tr>\n",
       "    <tr>\n",
       "      <th>23</th>\n",
       "      <td>184</td>\n",
       "      <td>119</td>\n",
       "    </tr>\n",
       "  </tbody>\n",
       "</table>\n",
       "</div>"
      ],
      "text/plain": [
       "            requests  unique_drivers\n",
       "time_local                          \n",
       "0                142             111\n",
       "1                 96              94\n",
       "2                100              62\n",
       "3                 35              40\n",
       "4                  9               9\n",
       "5                 14              11\n",
       "6                 28              37\n",
       "7                 22              60\n",
       "8                 29              95\n",
       "9                 26             110\n",
       "10                28             129\n",
       "11                47             133\n",
       "12                53             132\n",
       "13                55             122\n",
       "14                71             125\n",
       "15                71             139\n",
       "16                82             144\n",
       "17                98             165\n",
       "18               119             174\n",
       "19               156             180\n",
       "20               107             163\n",
       "21               112             155\n",
       "22               174             144\n",
       "23               184             119"
      ]
     },
     "execution_count": 60,
     "metadata": {},
     "output_type": "execute_result"
    }
   ],
   "source": [
    "#Table of aggregated values\n",
    "df_hr_sd"
   ]
  },
  {
   "cell_type": "code",
   "execution_count": 61,
   "id": "90a962f8-8435-42b8-8013-0324e19bb78f",
   "metadata": {
    "tags": []
   },
   "outputs": [
    {
     "data": {
      "image/png": "[encoded data removed]",
      "text/plain": [
       "<Figure size 1200x600 with 1 Axes>"
      ]
     },
     "metadata": {},
     "output_type": "display_data"
    }
   ],
   "source": [
    "#Visual plot of supply and demand by the hour of the day\n",
    "plt.figure(figsize=[12,6])\n",
    "plt.plot(df_hr_sd.index, df_hr_sd.unique_drivers, label='drivers')\n",
    "plt.plot(df_hr_sd.index, df_hr_sd.requests, label='requests')\n",
    "plt.legend(loc='upper left');"
   ]
  },
  {
   "cell_type": "markdown",
   "id": "8eb7015c-fa4c-4fbb-aa7b-47ecb5233124",
   "metadata": {},
   "source": [
    "<BR>"
   ]
  }
 ],
 "metadata": {
  "kernelspec": {
   "display_name": "Python 3 (ipykernel)",
   "language": "python",
   "name": "python3"
  },
  "language_info": {
   "codemirror_mode": {
    "name": "ipython",
    "version": 3
   },
   "file_extension": ".py",
   "mimetype": "text/x-python",
   "name": "python",
   "nbconvert_exporter": "python",
   "pygments_lexer": "ipython3",
   "version": "3.11.9"
  }
 },
 "nbformat": 4,
 "nbformat_minor": 5
}
