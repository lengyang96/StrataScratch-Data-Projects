{
 "cells": [
  {
   "cell_type": "markdown",
   "id": "5f6580b9-99ac-4f0f-a131-b88ca9c9ef99",
   "metadata": {
    "tags": []
   },
   "source": [
    "# Uber: Partner Business Modeling"
   ]
  },
  {
   "cell_type": "markdown",
   "id": "cdfbb854-9918-4f8e-8920-c359a56172b4",
   "metadata": {},
   "source": [
    "**Leng Yang**\n",
    "\n",
    "**Last Updated: 1/29/25**"
   ]
  },
  {
   "cell_type": "markdown",
   "id": "6801ec6e-5837-4132-bb74-8b15f135609c",
   "metadata": {
    "tags": []
   },
   "source": [
    "## Assignment\n",
    "\n",
    "Project Source: https://platform.stratascratch.com/data-projects/partner-business-modeling\n",
    "\n",
    "__Scenario 1__: It is going to be a huge Saturday and there will need to be many more cars on the road than last week. In order to get drivers to go online, we're assessing the following two bonus options in terms of cost:\n",
    "\n",
    "* Option 1: $50 for each driver that is online at least 8 hours, accepts 90% of requests, completes 10 trips, and has a rating of 4.7 or better during the time frame;\n",
    "\n",
    "* Option 2: $4/trip for all drivers who complete 12 trips, and have a 4.7 or better rating.\n",
    "\n",
    "Using the dataset provided and given Scenario 1, provide answers to the questions below:\n",
    "\n",
    "1. How much would the total bonus payout be with Option 1?\n",
    "2. How much would the total bonus payout be with Option 2?\n",
    "3. How many drivers would qualify for a bonus under Option 1 but not under Option 2?\n",
    "4. What percentages of drivers online completed less than 10 trips, had an acceptance rate of less than 90%, and had a rating of 4.7 or higher?\n",
    "\n",
    "__Scenario 2__: A taxi driver currently generates $200 per day in fares (before expenses), works six days a week, takes three weeks off, and has the following expenses:\n",
    "\n",
    "* Gas: $200 per week\n",
    "\n",
    "* Insurance: $400 per month\n",
    "\n",
    "* Vehicle rent (by the week): $500\n",
    "\n",
    "The driver doesn't pay gas and rent expenses on off weeks.\n",
    "\n",
    "Now, let's assume that the same driver would buy a Town Car and partner with Uber. If he does, his gas expenses would go up by 5%, his insurance expense would decrease by 20%, and he would no longer be renting a vehicle. However, he would need to buy a car. The driver would still take three weeks off per year.\n",
    "\n",
    "Given Scenario 2, provide answers to the questions below:\n",
    "\n",
    "5. How much money (after expenses) does the taxi driver make per year without partnering with Uber?\n",
    "6. You are convincing the same driver above to buy a Town Car and partner with Uber. Assuming the new car is 40,000 USD, how much would the driver's gross fares need to increase per week to fully pay for the car in year 1 and maintain the same yearly profit margin as before?"
   ]
  },
  {
   "cell_type": "markdown",
   "id": "cbe25ae6-e4a2-4cc5-87e4-0754065be96c",
   "metadata": {
    "tags": []
   },
   "source": [
    "## Data Description\n",
    "\n",
    "The dataset is given in the file `dataset_2.csv`. The data come from rides on a busy Saturday and are aggregated on a driver level. The dataset provides information on the total number of completed trips, the driver's acceptance rate, the total number of hours on duty, and the average rating.\n",
    "\n",
    "Only use this dataset to answer questions 1-4. There is no dataset provided for questions 5 and 6 as these are solely based on a given scenario."
   ]
  },
  {
   "cell_type": "markdown",
   "id": "47690da7-cc05-4a97-93d4-78b0d0507894",
   "metadata": {},
   "source": [
    "<BR><BR>"
   ]
  },
  {
   "cell_type": "code",
   "execution_count": 112,
   "id": "21f44fef-95a7-4090-993f-da258b11ae6e",
   "metadata": {
    "tags": []
   },
   "outputs": [],
   "source": [
    "#Load in necessary libraries\n",
    "import pandas as pd\n",
    "import numpy as np"
   ]
  },
  {
   "cell_type": "code",
   "execution_count": 30,
   "id": "e72b92e6-8d24-4b3a-a1bd-e501620acf13",
   "metadata": {
    "tags": []
   },
   "outputs": [],
   "source": [
    "#Load in dataset into Pandas and fill in dates\n",
    "df = pd.read_csv('./datasets/dataset_2.csv')\n",
    "#Rename columns\n",
    "df.columns = df.columns.str.lower().str.strip().str.replace(' ','_')"
   ]
  },
  {
   "cell_type": "code",
   "execution_count": 32,
   "id": "ac761c30-1244-4902-86da-0b2689d71e77",
   "metadata": {
    "tags": []
   },
   "outputs": [
    {
     "name": "stdout",
     "output_type": "stream",
     "text": [
      "<class 'pandas.core.frame.DataFrame'>\n",
      "RangeIndex: 119 entries, 0 to 118\n",
      "Data columns (total 5 columns):\n",
      " #   Column           Non-Null Count  Dtype  \n",
      "---  ------           --------------  -----  \n",
      " 0   name             119 non-null    object \n",
      " 1   trips_completed  119 non-null    int64  \n",
      " 2   accept_rate      119 non-null    object \n",
      " 3   supply_hours     119 non-null    int64  \n",
      " 4   rating           119 non-null    float64\n",
      "dtypes: float64(1), int64(2), object(2)\n",
      "memory usage: 4.8+ KB\n"
     ]
    }
   ],
   "source": [
    "#Look at info of dataframe\n",
    "df.info()"
   ]
  },
  {
   "cell_type": "code",
   "execution_count": 34,
   "id": "fcedc583-f94c-4eec-9233-4be987fa199c",
   "metadata": {
    "tags": []
   },
   "outputs": [
    {
     "data": {
      "text/html": [
       "<div>\n",
       "<style scoped>\n",
       "    .dataframe tbody tr th:only-of-type {\n",
       "        vertical-align: middle;\n",
       "    }\n",
       "\n",
       "    .dataframe tbody tr th {\n",
       "        vertical-align: top;\n",
       "    }\n",
       "\n",
       "    .dataframe thead th {\n",
       "        text-align: right;\n",
       "    }\n",
       "</style>\n",
       "<table border=\"1\" class=\"dataframe\">\n",
       "  <thead>\n",
       "    <tr style=\"text-align: right;\">\n",
       "      <th></th>\n",
       "      <th>name</th>\n",
       "      <th>trips_completed</th>\n",
       "      <th>accept_rate</th>\n",
       "      <th>supply_hours</th>\n",
       "      <th>rating</th>\n",
       "    </tr>\n",
       "  </thead>\n",
       "  <tbody>\n",
       "    <tr>\n",
       "      <th>0</th>\n",
       "      <td>Abdul</td>\n",
       "      <td>1</td>\n",
       "      <td>100%</td>\n",
       "      <td>3</td>\n",
       "      <td>4.8</td>\n",
       "    </tr>\n",
       "    <tr>\n",
       "      <th>1</th>\n",
       "      <td>Abraham</td>\n",
       "      <td>12</td>\n",
       "      <td>83%</td>\n",
       "      <td>5</td>\n",
       "      <td>4.7</td>\n",
       "    </tr>\n",
       "    <tr>\n",
       "      <th>2</th>\n",
       "      <td>Adelina</td>\n",
       "      <td>1</td>\n",
       "      <td>100%</td>\n",
       "      <td>2</td>\n",
       "      <td>4.7</td>\n",
       "    </tr>\n",
       "    <tr>\n",
       "      <th>3</th>\n",
       "      <td>Akilah</td>\n",
       "      <td>1</td>\n",
       "      <td>100%</td>\n",
       "      <td>2</td>\n",
       "      <td>4.9</td>\n",
       "    </tr>\n",
       "    <tr>\n",
       "      <th>4</th>\n",
       "      <td>Alec</td>\n",
       "      <td>21</td>\n",
       "      <td>76%</td>\n",
       "      <td>11</td>\n",
       "      <td>5.0</td>\n",
       "    </tr>\n",
       "  </tbody>\n",
       "</table>\n",
       "</div>"
      ],
      "text/plain": [
       "      name  trips_completed accept_rate  supply_hours  rating\n",
       "0    Abdul                1        100%             3     4.8\n",
       "1  Abraham               12         83%             5     4.7\n",
       "2  Adelina                1        100%             2     4.7\n",
       "3   Akilah                1        100%             2     4.9\n",
       "4     Alec               21         76%            11     5.0"
      ]
     },
     "execution_count": 34,
     "metadata": {},
     "output_type": "execute_result"
    }
   ],
   "source": [
    "#Preview first 5 records\n",
    "df.head()"
   ]
  },
  {
   "cell_type": "markdown",
   "id": "efad30e9-57ed-462d-bbc4-7e074015f9a8",
   "metadata": {},
   "source": [
    "### 1. How much would the total bonus payout be with Option 1?\n",
    "Option 1: $50 for each driver that is online at least 8 hours, accepts 90% of requests, completes 10 trips, and has a rating of 4.7 or better during the time frame."
   ]
  },
  {
   "cell_type": "code",
   "execution_count": 47,
   "id": "2b3ab674-3622-4496-8737-f379d16e3e76",
   "metadata": {
    "tags": []
   },
   "outputs": [],
   "source": [
    "#Convert accept_rate column to numeric so values can be operated on\n",
    "df.accept_rate = df.accept_rate.str.replace('%','').astype('int')"
   ]
  },
  {
   "cell_type": "code",
   "execution_count": 64,
   "id": "c19e8a25-8e39-46c2-9bfc-1278db3060b5",
   "metadata": {
    "tags": []
   },
   "outputs": [
    {
     "data": {
      "text/plain": [
       "1050"
      ]
     },
     "execution_count": 64,
     "metadata": {},
     "output_type": "execute_result"
    }
   ],
   "source": [
    "#Count the number of drivers who match the criteria and multiply by the given amount\n",
    "len(df.loc[(df.supply_hours >= 8) & (df.accept_rate >= 90) & (df.trips_completed >= 10) & (df.rating >= 4.7), :]) * 50"
   ]
  },
  {
   "cell_type": "markdown",
   "id": "93f75fa4-d8e5-43f1-b735-ab565040662a",
   "metadata": {},
   "source": [
    "<BR>"
   ]
  },
  {
   "cell_type": "markdown",
   "id": "2c0d79ad-d5b1-4a03-9b00-9fbbba7fcce9",
   "metadata": {},
   "source": [
    "### 2. How much would the total bonus payout be with Option 2?\n",
    "Option 2: $4/trip for all drivers who complete 12 trips, and have a 4.7 or better rating."
   ]
  },
  {
   "cell_type": "code",
   "execution_count": 74,
   "id": "e77316a7-71aa-4874-8b23-53b898e06188",
   "metadata": {
    "tags": []
   },
   "outputs": [
    {
     "data": {
      "text/plain": [
       "2976"
      ]
     },
     "execution_count": 74,
     "metadata": {},
     "output_type": "execute_result"
    }
   ],
   "source": [
    "#Select drivers who meet the criteria, and multiply the number of trips by 4, then get the total cost across all drivers\n",
    "np.sum(df.loc[(df.trips_completed >= 12) & (df.rating >= 4.7), 'trips_completed'] * 4)"
   ]
  },
  {
   "cell_type": "markdown",
   "id": "8bc9b1a7-1066-4067-865c-dc828466c9d8",
   "metadata": {},
   "source": [
    "<BR>"
   ]
  },
  {
   "cell_type": "markdown",
   "id": "b9bda345-1d7f-4538-921e-29cc22791e9b",
   "metadata": {},
   "source": [
    "### 3. How many drivers would qualify for a bonus under Option 1 but not under Option 2?"
   ]
  },
  {
   "cell_type": "code",
   "execution_count": 98,
   "id": "fff79a29-d985-4322-907d-a916ec5ec658",
   "metadata": {
    "tags": []
   },
   "outputs": [
    {
     "data": {
      "text/plain": [
       "2"
      ]
     },
     "execution_count": 98,
     "metadata": {},
     "output_type": "execute_result"
    }
   ],
   "source": [
    "#Count of all drivers who fit Option 1, but not Option 2 using AND NOT operators\n",
    "len(df.loc[(df.supply_hours >= 8) & (df.accept_rate >= 90) & (df.trips_completed >= 10) & (df.rating >= 4.7) & ~((df.trips_completed >= 12) & (df.rating >= 4.7)), :])"
   ]
  },
  {
   "cell_type": "code",
   "execution_count": 104,
   "id": "29d5c738-b7c2-4c87-ba5f-4af1b598e86a",
   "metadata": {
    "tags": []
   },
   "outputs": [
    {
     "data": {
      "text/html": [
       "<div>\n",
       "<style scoped>\n",
       "    .dataframe tbody tr th:only-of-type {\n",
       "        vertical-align: middle;\n",
       "    }\n",
       "\n",
       "    .dataframe tbody tr th {\n",
       "        vertical-align: top;\n",
       "    }\n",
       "\n",
       "    .dataframe thead th {\n",
       "        text-align: right;\n",
       "    }\n",
       "</style>\n",
       "<table border=\"1\" class=\"dataframe\">\n",
       "  <thead>\n",
       "    <tr style=\"text-align: right;\">\n",
       "      <th></th>\n",
       "      <th>name</th>\n",
       "      <th>trips_completed</th>\n",
       "      <th>accept_rate</th>\n",
       "      <th>supply_hours</th>\n",
       "      <th>rating</th>\n",
       "    </tr>\n",
       "  </thead>\n",
       "  <tbody>\n",
       "    <tr>\n",
       "      <th>88</th>\n",
       "      <td>Oren</td>\n",
       "      <td>11</td>\n",
       "      <td>91</td>\n",
       "      <td>9</td>\n",
       "      <td>4.8</td>\n",
       "    </tr>\n",
       "    <tr>\n",
       "      <th>92</th>\n",
       "      <td>Phyllis</td>\n",
       "      <td>10</td>\n",
       "      <td>90</td>\n",
       "      <td>8</td>\n",
       "      <td>4.8</td>\n",
       "    </tr>\n",
       "  </tbody>\n",
       "</table>\n",
       "</div>"
      ],
      "text/plain": [
       "       name  trips_completed  accept_rate  supply_hours  rating\n",
       "88     Oren               11           91             9     4.8\n",
       "92  Phyllis               10           90             8     4.8"
      ]
     },
     "execution_count": 104,
     "metadata": {},
     "output_type": "execute_result"
    }
   ],
   "source": [
    "#Drivers who only fit Option 1\n",
    "df.loc[(df.supply_hours >= 8) & (df.accept_rate >= 90) & (df.trips_completed >= 10) & (df.rating >= 4.7) & ~((df.trips_completed >= 12) & (df.rating >= 4.7)), :]"
   ]
  },
  {
   "cell_type": "markdown",
   "id": "94421fc5-afbf-4f6a-a2bf-fae2a0b7d1d5",
   "metadata": {},
   "source": [
    "<BR>"
   ]
  },
  {
   "cell_type": "markdown",
   "id": "9688c6d9-f623-40bc-b4d3-dc9ab8e8e272",
   "metadata": {},
   "source": [
    "### 4. What percentages of drivers online completed less than 10 trips, had an acceptance rate of less than 90%, and had a rating of 4.7 or higher?"
   ]
  },
  {
   "cell_type": "code",
   "execution_count": 110,
   "id": "7326fc35-62d8-47a5-a95c-a39906636e1b",
   "metadata": {
    "tags": []
   },
   "outputs": [
    {
     "data": {
      "text/plain": [
       "10.92436974789916"
      ]
     },
     "execution_count": 110,
     "metadata": {},
     "output_type": "execute_result"
    }
   ],
   "source": [
    "#Divide nmber of drivers who fit the criteria over all drivers\n",
    "df.loc[(df.accept_rate < 90) & (df.trips_completed < 10) & (df.rating >= 4.7), :].shape[0] / df.shape[0] * 100"
   ]
  },
  {
   "cell_type": "markdown",
   "id": "764cc06f-c6e9-4e27-9af6-16b916f7dfc4",
   "metadata": {},
   "source": [
    "<BR>"
   ]
  },
  {
   "cell_type": "markdown",
   "id": "502babea-6728-4436-8f70-b3c64794fccb",
   "metadata": {
    "tags": []
   },
   "source": [
    "### 5. How much money (after expenses) does the taxi driver make per year without partnering with Uber?"
   ]
  },
  {
   "cell_type": "code",
   "execution_count": 159,
   "id": "1f742718-d751-4320-9b78-ff15af0cd49c",
   "metadata": {
    "tags": []
   },
   "outputs": [
    {
     "data": {
      "text/plain": [
       "19700"
      ]
     },
     "execution_count": 159,
     "metadata": {},
     "output_type": "execute_result"
    }
   ],
   "source": [
    "#Assign variables\n",
    "pay_day = 200\n",
    "days_wk = 6\n",
    "gas_wk = 200\n",
    "ins_mth = 400\n",
    "vh_rent_wk = 500\n",
    "\n",
    "#Calculate yearly expenses\n",
    "yearly_expense = ((gas_wk + vh_rent_wk) * 49) + (ins_mth * 12)\n",
    "#Calculate yearly salary\n",
    "yearly_pay = (pay_day * days_wk * 49)\n",
    "#Calculate profit\n",
    "yearly_pay - yearly_expense"
   ]
  },
  {
   "cell_type": "markdown",
   "id": "89ef57e2-57c5-49b7-b2eb-555f299f492c",
   "metadata": {},
   "source": [
    "<BR>"
   ]
  },
  {
   "cell_type": "markdown",
   "id": "6eaaeb85-5f3a-49b7-9911-b3ea2821b7da",
   "metadata": {
    "tags": []
   },
   "source": [
    "### 6. You are convincing the same driver above to buy a Town Car and partner with Uber. Assuming the new car is 40,000 USD, how much would the driver's gross fares need to increase per week to fully pay for the car in year 1 and maintain the same yearly profit margin as before?"
   ]
  },
  {
   "cell_type": "code",
   "execution_count": 182,
   "id": "58e8bf94-880e-4f2c-a208-f7a5e48d7a0b",
   "metadata": {
    "tags": []
   },
   "outputs": [],
   "source": [
    "#Car price\n",
    "car = 40000\n",
    "\n",
    "#Calculate new yearly expenses\n",
    "new_yearly_expense = (gas_wk * 1.05 * 49) + (ins_mth * 0.8 * 12) + car"
   ]
  },
  {
   "cell_type": "markdown",
   "id": "dffcb31c-78b1-4191-8f94-87b3cf13bc13",
   "metadata": {},
   "source": [
    "Equation to maintain the same yearly pay:\n",
    "\n",
    "49 * 6x - new_yearly_expense = 19700"
   ]
  },
  {
   "cell_type": "code",
   "execution_count": 193,
   "id": "420c5c61-c270-4d2e-9426-b979b84f1d10",
   "metadata": {
    "tags": []
   },
   "outputs": [],
   "source": [
    "#Solve for x (daily revenue)\n",
    "new_pay_day = (19700 + new_yearly_expense) / (6 * 49)"
   ]
  },
  {
   "cell_type": "code",
   "execution_count": 195,
   "id": "2fb3fb3d-9164-41b0-bc6c-2efb4097d93a",
   "metadata": {
    "tags": []
   },
   "outputs": [
    {
     "data": {
      "text/plain": [
       "19700.0"
      ]
     },
     "execution_count": 195,
     "metadata": {},
     "output_type": "execute_result"
    }
   ],
   "source": [
    "#Double check the math to ensure the yearly profit is the same\n",
    "new_pay_day * 6 * 49 - new_yearly_expense"
   ]
  },
  {
   "cell_type": "code",
   "execution_count": 201,
   "id": "2901dd0f-7f9a-4d76-aec5-0dd7cfedb0c8",
   "metadata": {
    "tags": []
   },
   "outputs": [
    {
     "data": {
      "text/plain": [
       "306.73"
      ]
     },
     "execution_count": 201,
     "metadata": {},
     "output_type": "execute_result"
    }
   ],
   "source": [
    "#Determine the necessary increase in gross fares per week\n",
    "round((new_pay_day - pay_day) * days_wk, 2)"
   ]
  }
 ],
 "metadata": {
  "kernelspec": {
   "display_name": "Python 3 (ipykernel)",
   "language": "python",
   "name": "python3"
  },
  "language_info": {
   "codemirror_mode": {
    "name": "ipython",
    "version": 3
   },
   "file_extension": ".py",
   "mimetype": "text/x-python",
   "name": "python",
   "nbconvert_exporter": "python",
   "pygments_lexer": "ipython3",
   "version": "3.11.9"
  }
 },
 "nbformat": 4,
 "nbformat_minor": 5
}
