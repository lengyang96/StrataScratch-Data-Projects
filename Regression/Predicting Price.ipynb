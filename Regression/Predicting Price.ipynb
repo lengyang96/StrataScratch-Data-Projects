{
 "cells": [
  {
   "cell_type": "markdown",
   "id": "e7743952-a212-4899-a35c-a3af8fac2623",
   "metadata": {
    "tags": []
   },
   "source": [
    "# Haensel AMS: Predicting Price"
   ]
  },
  {
   "cell_type": "markdown",
   "id": "cdfbb854-9918-4f8e-8920-c359a56172b4",
   "metadata": {},
   "source": [
    "**Leng Yang**\n",
    "\n",
    "**Last Updated: 2/12/25**"
   ]
  },
  {
   "cell_type": "markdown",
   "id": "f6d24015-b88b-46f4-9461-99ea5b19c14b",
   "metadata": {
    "tags": []
   },
   "source": [
    "## Assignment\n",
    "\n",
    "Project Source: https://platform.stratascratch.com/data-projects/predicting-price\n",
    "\n",
    "The target variable is `price`. You have 7 attributes and obviously we want you to build some initial ML model which predicts the prices.\n",
    "\n",
    "1. Make some initial data analysis, which will hint to some stuctures in the data and how attributes are connected.\n",
    "2. Fit some ML model(s) and explain briefly your choices.\n",
    "3. Show with some X-validation the power of your model and comment the results.\n",
    "4. Present us the results and the steps you have taken and also with some critical thinking and next steps."
   ]
  },
  {
   "cell_type": "markdown",
   "id": "679b9563-f7b5-4150-b2ef-a4ae367207c7",
   "metadata": {
    "tags": []
   },
   "source": [
    "## Data Description\n",
    "\n",
    "The data are provided in the `sample.csv` file."
   ]
  },
  {
   "cell_type": "markdown",
   "id": "47690da7-cc05-4a97-93d4-78b0d0507894",
   "metadata": {},
   "source": [
    "<BR><BR>"
   ]
  },
  {
   "cell_type": "markdown",
   "id": "01abbde8-612c-4d82-907c-ae2b835b4fde",
   "metadata": {},
   "source": [
    "### Data Exploration"
   ]
  },
  {
   "cell_type": "code",
   "execution_count": 7,
   "id": "21f44fef-95a7-4090-993f-da258b11ae6e",
   "metadata": {
    "tags": []
   },
   "outputs": [],
   "source": [
    "#Load in necessary libraries\n",
    "import pandas as pd\n",
    "import numpy as np\n",
    "import matplotlib.pyplot as plt\n",
    "import seaborn as sns\n",
    "\n",
    "#Import machine learning packages\n",
    "from sklearn.preprocessing import StandardScaler\n",
    "from sklearn.model_selection import train_test_split, GridSearchCV\n",
    "from sklearn.feature_selection import RFECV\n",
    "from sklearn.linear_model import LinearRegression, Ridge\n",
    "from sklearn.ensemble import RandomForestRegressor\n",
    "from sklearn.tree import DecisionTreeRegressor\n",
    "from sklearn.metrics import mean_squared_error, r2_score\n",
    "from sklearn.pipeline import make_pipeline"
   ]
  },
  {
   "cell_type": "code",
   "execution_count": 8,
   "id": "0edaa2c8-bee3-4e76-a8d4-c0d7e0b5c6cd",
   "metadata": {
    "tags": []
   },
   "outputs": [],
   "source": [
    "#Load in data\n",
    "df = pd.read_csv('./datasets/sample.csv')"
   ]
  },
  {
   "cell_type": "code",
   "execution_count": 9,
   "id": "1593907f-4c4f-425d-920c-1ec024122a96",
   "metadata": {
    "tags": []
   },
   "outputs": [
    {
     "name": "stdout",
     "output_type": "stream",
     "text": [
      "<class 'pandas.core.frame.DataFrame'>\n",
      "RangeIndex: 10000 entries, 0 to 9999\n",
      "Data columns (total 8 columns):\n",
      " #   Column  Non-Null Count  Dtype  \n",
      "---  ------  --------------  -----  \n",
      " 0   loc1    10000 non-null  object \n",
      " 1   loc2    10000 non-null  object \n",
      " 2   para1   10000 non-null  int64  \n",
      " 3   dow     10000 non-null  object \n",
      " 4   para2   10000 non-null  int64  \n",
      " 5   para3   10000 non-null  float64\n",
      " 6   para4   10000 non-null  float64\n",
      " 7   price   10000 non-null  float64\n",
      "dtypes: float64(3), int64(2), object(3)\n",
      "memory usage: 625.1+ KB\n"
     ]
    }
   ],
   "source": [
    "#Dataframe info\n",
    "df.info()"
   ]
  },
  {
   "cell_type": "code",
   "execution_count": 10,
   "id": "073d5e5e-3c78-4da9-ad98-a0a467355485",
   "metadata": {
    "tags": []
   },
   "outputs": [
    {
     "data": {
      "text/html": [
       "<div>\n",
       "<style scoped>\n",
       "    .dataframe tbody tr th:only-of-type {\n",
       "        vertical-align: middle;\n",
       "    }\n",
       "\n",
       "    .dataframe tbody tr th {\n",
       "        vertical-align: top;\n",
       "    }\n",
       "\n",
       "    .dataframe thead th {\n",
       "        text-align: right;\n",
       "    }\n",
       "</style>\n",
       "<table border=\"1\" class=\"dataframe\">\n",
       "  <thead>\n",
       "    <tr style=\"text-align: right;\">\n",
       "      <th></th>\n",
       "      <th>loc1</th>\n",
       "      <th>loc2</th>\n",
       "      <th>para1</th>\n",
       "      <th>dow</th>\n",
       "      <th>para2</th>\n",
       "      <th>para3</th>\n",
       "      <th>para4</th>\n",
       "      <th>price</th>\n",
       "    </tr>\n",
       "  </thead>\n",
       "  <tbody>\n",
       "    <tr>\n",
       "      <th>0</th>\n",
       "      <td>0</td>\n",
       "      <td>01</td>\n",
       "      <td>1</td>\n",
       "      <td>Mon</td>\n",
       "      <td>662</td>\n",
       "      <td>3000.0</td>\n",
       "      <td>3.8</td>\n",
       "      <td>73.49</td>\n",
       "    </tr>\n",
       "    <tr>\n",
       "      <th>1</th>\n",
       "      <td>9</td>\n",
       "      <td>99</td>\n",
       "      <td>1</td>\n",
       "      <td>Thu</td>\n",
       "      <td>340</td>\n",
       "      <td>2760.0</td>\n",
       "      <td>9.2</td>\n",
       "      <td>300.00</td>\n",
       "    </tr>\n",
       "    <tr>\n",
       "      <th>2</th>\n",
       "      <td>0</td>\n",
       "      <td>04</td>\n",
       "      <td>0</td>\n",
       "      <td>Mon</td>\n",
       "      <td>16</td>\n",
       "      <td>2700.0</td>\n",
       "      <td>3.0</td>\n",
       "      <td>130.00</td>\n",
       "    </tr>\n",
       "    <tr>\n",
       "      <th>3</th>\n",
       "      <td>4</td>\n",
       "      <td>40</td>\n",
       "      <td>1</td>\n",
       "      <td>Mon</td>\n",
       "      <td>17</td>\n",
       "      <td>12320.0</td>\n",
       "      <td>6.4</td>\n",
       "      <td>365.00</td>\n",
       "    </tr>\n",
       "    <tr>\n",
       "      <th>4</th>\n",
       "      <td>5</td>\n",
       "      <td>50</td>\n",
       "      <td>1</td>\n",
       "      <td>Thu</td>\n",
       "      <td>610</td>\n",
       "      <td>2117.0</td>\n",
       "      <td>10.8</td>\n",
       "      <td>357.50</td>\n",
       "    </tr>\n",
       "  </tbody>\n",
       "</table>\n",
       "</div>"
      ],
      "text/plain": [
       "  loc1 loc2  para1  dow  para2    para3  para4   price\n",
       "0    0   01      1  Mon    662   3000.0    3.8   73.49\n",
       "1    9   99      1  Thu    340   2760.0    9.2  300.00\n",
       "2    0   04      0  Mon     16   2700.0    3.0  130.00\n",
       "3    4   40      1  Mon     17  12320.0    6.4  365.00\n",
       "4    5   50      1  Thu    610   2117.0   10.8  357.50"
      ]
     },
     "execution_count": 10,
     "metadata": {},
     "output_type": "execute_result"
    }
   ],
   "source": [
    "#All columns contain numeric values except for 'dow' column\n",
    "df.head()"
   ]
  },
  {
   "cell_type": "code",
   "execution_count": 11,
   "id": "16c7bbf3-26f8-4eee-94e3-e06295b76f3f",
   "metadata": {
    "tags": []
   },
   "outputs": [
    {
     "data": {
      "text/plain": [
       "loc1\n",
       "2    1607\n",
       "0    1486\n",
       "1    1223\n",
       "7    1081\n",
       "3     945\n",
       "5     846\n",
       "4     773\n",
       "8     727\n",
       "9     690\n",
       "6     620\n",
       "S       1\n",
       "T       1\n",
       "Name: count, dtype: int64"
      ]
     },
     "execution_count": 11,
     "metadata": {},
     "output_type": "execute_result"
    }
   ],
   "source": [
    "#Column loaded in as ojbect - check values for possible errors\n",
    "df.loc1.value_counts()"
   ]
  },
  {
   "cell_type": "code",
   "execution_count": 12,
   "id": "c7afc3c2-47f5-4822-997f-82d2d94316d8",
   "metadata": {
    "tags": []
   },
   "outputs": [
    {
     "data": {
      "text/plain": [
       "loc2\n",
       "00      1\n",
       "01    241\n",
       "02     63\n",
       "03    100\n",
       "04    180\n",
       "     ... \n",
       "97     88\n",
       "98     25\n",
       "99    133\n",
       "S6      1\n",
       "TS      1\n",
       "Name: count, Length: 107, dtype: int64"
      ]
     },
     "execution_count": 12,
     "metadata": {},
     "output_type": "execute_result"
    }
   ],
   "source": [
    "#Column loaded in as ojbect - check values for possible errors\n",
    "df.loc2.value_counts().sort_index()"
   ]
  },
  {
   "cell_type": "code",
   "execution_count": 13,
   "id": "4371358c-37c1-4453-878e-53ca333a1858",
   "metadata": {
    "tags": []
   },
   "outputs": [
    {
     "data": {
      "text/plain": [
       "dow\n",
       "Wed    2233\n",
       "Tue    1997\n",
       "Fri    1931\n",
       "Mon    1918\n",
       "Thu    1908\n",
       "Sat      10\n",
       "Sun       3\n",
       "Name: count, dtype: int64"
      ]
     },
     "execution_count": 13,
     "metadata": {},
     "output_type": "execute_result"
    }
   ],
   "source": [
    "#Check column to ensure values align with days of the week\n",
    "df.dow.value_counts()"
   ]
  },
  {
   "cell_type": "code",
   "execution_count": 14,
   "id": "1dd515a0-6caf-44ad-b831-faefa6830eb7",
   "metadata": {
    "tags": []
   },
   "outputs": [
    {
     "data": {
      "text/html": [
       "<div>\n",
       "<style scoped>\n",
       "    .dataframe tbody tr th:only-of-type {\n",
       "        vertical-align: middle;\n",
       "    }\n",
       "\n",
       "    .dataframe tbody tr th {\n",
       "        vertical-align: top;\n",
       "    }\n",
       "\n",
       "    .dataframe thead th {\n",
       "        text-align: right;\n",
       "    }\n",
       "</style>\n",
       "<table border=\"1\" class=\"dataframe\">\n",
       "  <thead>\n",
       "    <tr style=\"text-align: right;\">\n",
       "      <th></th>\n",
       "      <th>loc1</th>\n",
       "      <th>loc2</th>\n",
       "      <th>para1</th>\n",
       "      <th>dow</th>\n",
       "      <th>para2</th>\n",
       "      <th>para3</th>\n",
       "      <th>para4</th>\n",
       "      <th>price</th>\n",
       "    </tr>\n",
       "  </thead>\n",
       "  <tbody>\n",
       "    <tr>\n",
       "      <th>2887</th>\n",
       "      <td>0</td>\n",
       "      <td>0B</td>\n",
       "      <td>2</td>\n",
       "      <td>Mon</td>\n",
       "      <td>801</td>\n",
       "      <td>1091.0</td>\n",
       "      <td>9.0</td>\n",
       "      <td>1350.0</td>\n",
       "    </tr>\n",
       "    <tr>\n",
       "      <th>3026</th>\n",
       "      <td>S</td>\n",
       "      <td>S6</td>\n",
       "      <td>3</td>\n",
       "      <td>Fri</td>\n",
       "      <td>1289</td>\n",
       "      <td>24000.0</td>\n",
       "      <td>13.6</td>\n",
       "      <td>850.0</td>\n",
       "    </tr>\n",
       "    <tr>\n",
       "      <th>4850</th>\n",
       "      <td>0</td>\n",
       "      <td>0T</td>\n",
       "      <td>2</td>\n",
       "      <td>Mon</td>\n",
       "      <td>1473</td>\n",
       "      <td>4000.0</td>\n",
       "      <td>2.0</td>\n",
       "      <td>1890.0</td>\n",
       "    </tr>\n",
       "    <tr>\n",
       "      <th>5510</th>\n",
       "      <td>T</td>\n",
       "      <td>TS</td>\n",
       "      <td>3</td>\n",
       "      <td>Fri</td>\n",
       "      <td>1472</td>\n",
       "      <td>1600.0</td>\n",
       "      <td>2.0</td>\n",
       "      <td>440.0</td>\n",
       "    </tr>\n",
       "    <tr>\n",
       "      <th>5647</th>\n",
       "      <td>0</td>\n",
       "      <td>0L</td>\n",
       "      <td>2</td>\n",
       "      <td>Wed</td>\n",
       "      <td>1127</td>\n",
       "      <td>10000.0</td>\n",
       "      <td>13.6</td>\n",
       "      <td>750.0</td>\n",
       "    </tr>\n",
       "    <tr>\n",
       "      <th>7751</th>\n",
       "      <td>0</td>\n",
       "      <td>0C</td>\n",
       "      <td>3</td>\n",
       "      <td>Fri</td>\n",
       "      <td>623</td>\n",
       "      <td>1500.0</td>\n",
       "      <td>6.0</td>\n",
       "      <td>400.0</td>\n",
       "    </tr>\n",
       "    <tr>\n",
       "      <th>8466</th>\n",
       "      <td>0</td>\n",
       "      <td>0N</td>\n",
       "      <td>3</td>\n",
       "      <td>Fri</td>\n",
       "      <td>1298</td>\n",
       "      <td>3500.0</td>\n",
       "      <td>2.1</td>\n",
       "      <td>1500.0</td>\n",
       "    </tr>\n",
       "  </tbody>\n",
       "</table>\n",
       "</div>"
      ],
      "text/plain": [
       "     loc1 loc2  para1  dow  para2    para3  para4   price\n",
       "2887    0   0B      2  Mon    801   1091.0    9.0  1350.0\n",
       "3026    S   S6      3  Fri   1289  24000.0   13.6   850.0\n",
       "4850    0   0T      2  Mon   1473   4000.0    2.0  1890.0\n",
       "5510    T   TS      3  Fri   1472   1600.0    2.0   440.0\n",
       "5647    0   0L      2  Wed   1127  10000.0   13.6   750.0\n",
       "7751    0   0C      3  Fri    623   1500.0    6.0   400.0\n",
       "8466    0   0N      3  Fri   1298   3500.0    2.1  1500.0"
      ]
     },
     "execution_count": 14,
     "metadata": {},
     "output_type": "execute_result"
    }
   ],
   "source": [
    "#Review rows containing invalid values in loc1 and loc2\n",
    "df[(df.loc1.str.contains('[a-z]', case=False)) | (df.loc2.str.contains('[a-z]', case=False))]"
   ]
  },
  {
   "cell_type": "code",
   "execution_count": 15,
   "id": "eff70655-e48e-4d12-a2eb-c303c0e59ceb",
   "metadata": {
    "tags": []
   },
   "outputs": [],
   "source": [
    "#Drop rows containing invalid values\n",
    "df.drop(df[(df.loc1.str.contains('[a-z]', case=False)) | (df.loc2.str.contains('[a-z]', case=False))].index, inplace=True)"
   ]
  },
  {
   "cell_type": "code",
   "execution_count": 16,
   "id": "45bb475f-1fb5-4100-8fcf-b34bd9870fb2",
   "metadata": {
    "tags": []
   },
   "outputs": [],
   "source": [
    "#Convert loc1 and loc2 to numeric\n",
    "df.loc1 = df.loc1.astype('int')\n",
    "df.loc2 = df.loc2.astype('int')"
   ]
  },
  {
   "cell_type": "code",
   "execution_count": 17,
   "id": "9af340bc-f435-4ea9-b0d3-885971531339",
   "metadata": {
    "tags": []
   },
   "outputs": [
    {
     "data": {
      "text/html": [
       "<div>\n",
       "<style scoped>\n",
       "    .dataframe tbody tr th:only-of-type {\n",
       "        vertical-align: middle;\n",
       "    }\n",
       "\n",
       "    .dataframe tbody tr th {\n",
       "        vertical-align: top;\n",
       "    }\n",
       "\n",
       "    .dataframe thead th {\n",
       "        text-align: right;\n",
       "    }\n",
       "</style>\n",
       "<table border=\"1\" class=\"dataframe\">\n",
       "  <thead>\n",
       "    <tr style=\"text-align: right;\">\n",
       "      <th></th>\n",
       "      <th>loc1</th>\n",
       "      <th>loc2</th>\n",
       "      <th>para1</th>\n",
       "      <th>para2</th>\n",
       "      <th>para3</th>\n",
       "      <th>para4</th>\n",
       "      <th>price</th>\n",
       "    </tr>\n",
       "  </thead>\n",
       "  <tbody>\n",
       "    <tr>\n",
       "      <th>count</th>\n",
       "      <td>9993.000000</td>\n",
       "      <td>9993.000000</td>\n",
       "      <td>9993.000000</td>\n",
       "      <td>9993.000000</td>\n",
       "      <td>9993.000000</td>\n",
       "      <td>9993.000000</td>\n",
       "      <td>9993.000000</td>\n",
       "    </tr>\n",
       "    <tr>\n",
       "      <th>mean</th>\n",
       "      <td>3.793355</td>\n",
       "      <td>42.468028</td>\n",
       "      <td>1.379966</td>\n",
       "      <td>446.888522</td>\n",
       "      <td>9550.105894</td>\n",
       "      <td>8.460614</td>\n",
       "      <td>433.318379</td>\n",
       "    </tr>\n",
       "    <tr>\n",
       "      <th>std</th>\n",
       "      <td>2.892286</td>\n",
       "      <td>29.350079</td>\n",
       "      <td>3.501891</td>\n",
       "      <td>220.141080</td>\n",
       "      <td>8022.655794</td>\n",
       "      <td>4.613156</td>\n",
       "      <td>276.743453</td>\n",
       "    </tr>\n",
       "    <tr>\n",
       "      <th>min</th>\n",
       "      <td>0.000000</td>\n",
       "      <td>0.000000</td>\n",
       "      <td>0.000000</td>\n",
       "      <td>16.000000</td>\n",
       "      <td>200.000000</td>\n",
       "      <td>1.000000</td>\n",
       "      <td>50.730000</td>\n",
       "    </tr>\n",
       "    <tr>\n",
       "      <th>25%</th>\n",
       "      <td>1.000000</td>\n",
       "      <td>16.000000</td>\n",
       "      <td>1.000000</td>\n",
       "      <td>301.000000</td>\n",
       "      <td>2900.000000</td>\n",
       "      <td>4.000000</td>\n",
       "      <td>250.000000</td>\n",
       "    </tr>\n",
       "    <tr>\n",
       "      <th>50%</th>\n",
       "      <td>3.000000</td>\n",
       "      <td>37.000000</td>\n",
       "      <td>1.000000</td>\n",
       "      <td>434.000000</td>\n",
       "      <td>6448.000000</td>\n",
       "      <td>7.200000</td>\n",
       "      <td>370.000000</td>\n",
       "    </tr>\n",
       "    <tr>\n",
       "      <th>75%</th>\n",
       "      <td>6.000000</td>\n",
       "      <td>69.000000</td>\n",
       "      <td>1.000000</td>\n",
       "      <td>582.000000</td>\n",
       "      <td>15000.000000</td>\n",
       "      <td>13.600000</td>\n",
       "      <td>550.000000</td>\n",
       "    </tr>\n",
       "    <tr>\n",
       "      <th>max</th>\n",
       "      <td>9.000000</td>\n",
       "      <td>99.000000</td>\n",
       "      <td>337.000000</td>\n",
       "      <td>2554.000000</td>\n",
       "      <td>34782.000000</td>\n",
       "      <td>27.200000</td>\n",
       "      <td>5700.000000</td>\n",
       "    </tr>\n",
       "  </tbody>\n",
       "</table>\n",
       "</div>"
      ],
      "text/plain": [
       "              loc1         loc2        para1        para2         para3  \\\n",
       "count  9993.000000  9993.000000  9993.000000  9993.000000   9993.000000   \n",
       "mean      3.793355    42.468028     1.379966   446.888522   9550.105894   \n",
       "std       2.892286    29.350079     3.501891   220.141080   8022.655794   \n",
       "min       0.000000     0.000000     0.000000    16.000000    200.000000   \n",
       "25%       1.000000    16.000000     1.000000   301.000000   2900.000000   \n",
       "50%       3.000000    37.000000     1.000000   434.000000   6448.000000   \n",
       "75%       6.000000    69.000000     1.000000   582.000000  15000.000000   \n",
       "max       9.000000    99.000000   337.000000  2554.000000  34782.000000   \n",
       "\n",
       "             para4        price  \n",
       "count  9993.000000  9993.000000  \n",
       "mean      8.460614   433.318379  \n",
       "std       4.613156   276.743453  \n",
       "min       1.000000    50.730000  \n",
       "25%       4.000000   250.000000  \n",
       "50%       7.200000   370.000000  \n",
       "75%      13.600000   550.000000  \n",
       "max      27.200000  5700.000000  "
      ]
     },
     "execution_count": 17,
     "metadata": {},
     "output_type": "execute_result"
    }
   ],
   "source": [
    "#Descriptive statistics\n",
    "df.describe()"
   ]
  },
  {
   "cell_type": "code",
   "execution_count": 18,
   "id": "f7c3329d-b100-4816-9514-175deae6959d",
   "metadata": {
    "tags": []
   },
   "outputs": [
    {
     "data": {
      "image/png": "[encoded data removed]",
      "text/plain": [
       "<Figure size 640x480 with 1 Axes>"
      ]
     },
     "metadata": {},
     "output_type": "display_data"
    }
   ],
   "source": [
    "#Days of the week value counts\n",
    "df.dow.value_counts().plot(kind='bar');"
   ]
  },
  {
   "cell_type": "code",
   "execution_count": 19,
   "id": "b5f4583c-1b82-47c4-ade5-100e104de068",
   "metadata": {
    "tags": []
   },
   "outputs": [
    {
     "data": {
      "image/png": "[encoded data removed]",
      "text/plain": [
       "<Figure size 1500x1500 with 7 Axes>"
      ]
     },
     "metadata": {},
     "output_type": "display_data"
    }
   ],
   "source": [
    "#Histograms\n",
    "fig, axes = plt.subplots(nrows=4, ncols=2, figsize=[15, 15])\n",
    "num_par = df.select_dtypes(include='number').columns\n",
    "x = 0\n",
    "for i in range(4):\n",
    "    for j in range(2):\n",
    "        df[num_par[x]].hist(ax=axes[i,j])\n",
    "        axes[i,j].set_title(num_par[x])\n",
    "        x += 1\n",
    "        if x >= len(num_par):\n",
    "            break\n",
    "fig.delaxes(axes[3,1])"
   ]
  },
  {
   "cell_type": "code",
   "execution_count": 20,
   "id": "6421b379-4b7b-4f03-b11f-720be758189d",
   "metadata": {
    "tags": []
   },
   "outputs": [
    {
     "data": {
      "image/png": "[encoded data removed]",
      "text/plain": [
       "<Figure size 1500x1500 with 7 Axes>"
      ]
     },
     "metadata": {},
     "output_type": "display_data"
    }
   ],
   "source": [
    "fig, axes = plt.subplots(nrows=4, ncols=2, figsize=[15, 15])\n",
    "num_par = df.select_dtypes(include='number').columns\n",
    "x = 0\n",
    "for i in range(4):\n",
    "    for j in range(2):\n",
    "        df[num_par[x]].plot.box(ax=axes[i,j])\n",
    "        axes[i,j].set_title(num_par[x])\n",
    "        x += 1\n",
    "        if x >= len(num_par):\n",
    "            break\n",
    "fig.delaxes(axes[3,1])"
   ]
  },
  {
   "cell_type": "markdown",
   "id": "f36d1ab8-2709-413d-b9ec-1903e84497d6",
   "metadata": {},
   "source": [
    "### Data Cleaning"
   ]
  },
  {
   "cell_type": "code",
   "execution_count": 22,
   "id": "6b651add-fe14-4f55-8d80-af69c90d38cb",
   "metadata": {
    "tags": []
   },
   "outputs": [
    {
     "data": {
      "text/plain": [
       "para1\n",
       "0       836\n",
       "1      7052\n",
       "2       265\n",
       "3      1609\n",
       "4       164\n",
       "5        51\n",
       "6         6\n",
       "7         3\n",
       "8         1\n",
       "9         2\n",
       "13        2\n",
       "24        1\n",
       "337       1\n",
       "Name: count, dtype: int64"
      ]
     },
     "execution_count": 22,
     "metadata": {},
     "output_type": "execute_result"
    }
   ],
   "source": [
    "#Check values against boxplots to determine clear outliers and cutoff points\n",
    "df.para1.value_counts().sort_index()"
   ]
  },
  {
   "cell_type": "code",
   "execution_count": 23,
   "id": "65fbfbbb-465c-4f1c-a1f8-c1330bda45fa",
   "metadata": {
    "tags": []
   },
   "outputs": [
    {
     "data": {
      "text/plain": [
       "para3\n",
       "200.0      8\n",
       "202.0      1\n",
       "203.0      1\n",
       "209.0      1\n",
       "210.0      2\n",
       "          ..\n",
       "26099.0    1\n",
       "26201.0    1\n",
       "26225.0    1\n",
       "28000.0    1\n",
       "34782.0    1\n",
       "Name: count, Length: 4359, dtype: int64"
      ]
     },
     "execution_count": 23,
     "metadata": {},
     "output_type": "execute_result"
    }
   ],
   "source": [
    "df.para3.value_counts().sort_index()"
   ]
  },
  {
   "cell_type": "code",
   "execution_count": 24,
   "id": "1005370a-ad1b-4c87-adaf-f7cd0bbed5ea",
   "metadata": {
    "tags": []
   },
   "outputs": [],
   "source": [
    "#Drop outlier values\n",
    "\n",
    "#para2 upper-bound using IQR\n",
    "upper_bound = 1.5 * (df.para2.quantile(0.75) - df.para2.quantile(0.25)) + df.para2.quantile(0.75)\n",
    "\n",
    "df.drop(df[(df.para1 > 10) | (df.para2 > upper_bound) | (df.para3 > 34000)].index, inplace=True)"
   ]
  },
  {
   "cell_type": "code",
   "execution_count": 25,
   "id": "890a1369-e808-49e5-9154-17f8688ea27c",
   "metadata": {
    "tags": []
   },
   "outputs": [
    {
     "data": {
      "text/html": [
       "<div>\n",
       "<style scoped>\n",
       "    .dataframe tbody tr th:only-of-type {\n",
       "        vertical-align: middle;\n",
       "    }\n",
       "\n",
       "    .dataframe tbody tr th {\n",
       "        vertical-align: top;\n",
       "    }\n",
       "\n",
       "    .dataframe thead th {\n",
       "        text-align: right;\n",
       "    }\n",
       "</style>\n",
       "<table border=\"1\" class=\"dataframe\">\n",
       "  <thead>\n",
       "    <tr style=\"text-align: right;\">\n",
       "      <th></th>\n",
       "      <th>loc1</th>\n",
       "      <th>loc2</th>\n",
       "      <th>para1</th>\n",
       "      <th>para2</th>\n",
       "      <th>para3</th>\n",
       "      <th>para4</th>\n",
       "      <th>price</th>\n",
       "    </tr>\n",
       "  </thead>\n",
       "  <tbody>\n",
       "    <tr>\n",
       "      <th>loc1</th>\n",
       "      <td>1.000000</td>\n",
       "      <td>0.995070</td>\n",
       "      <td>0.027582</td>\n",
       "      <td>0.096890</td>\n",
       "      <td>-0.123890</td>\n",
       "      <td>-0.125879</td>\n",
       "      <td>-0.032039</td>\n",
       "    </tr>\n",
       "    <tr>\n",
       "      <th>loc2</th>\n",
       "      <td>0.995070</td>\n",
       "      <td>1.000000</td>\n",
       "      <td>0.030597</td>\n",
       "      <td>0.094918</td>\n",
       "      <td>-0.117768</td>\n",
       "      <td>-0.122915</td>\n",
       "      <td>-0.032170</td>\n",
       "    </tr>\n",
       "    <tr>\n",
       "      <th>para1</th>\n",
       "      <td>0.027582</td>\n",
       "      <td>0.030597</td>\n",
       "      <td>1.000000</td>\n",
       "      <td>0.200850</td>\n",
       "      <td>-0.033229</td>\n",
       "      <td>-0.044341</td>\n",
       "      <td>0.113636</td>\n",
       "    </tr>\n",
       "    <tr>\n",
       "      <th>para2</th>\n",
       "      <td>0.096890</td>\n",
       "      <td>0.094918</td>\n",
       "      <td>0.200850</td>\n",
       "      <td>1.000000</td>\n",
       "      <td>-0.016252</td>\n",
       "      <td>-0.001390</td>\n",
       "      <td>0.429542</td>\n",
       "    </tr>\n",
       "    <tr>\n",
       "      <th>para3</th>\n",
       "      <td>-0.123890</td>\n",
       "      <td>-0.117768</td>\n",
       "      <td>-0.033229</td>\n",
       "      <td>-0.016252</td>\n",
       "      <td>1.000000</td>\n",
       "      <td>0.691696</td>\n",
       "      <td>0.398840</td>\n",
       "    </tr>\n",
       "    <tr>\n",
       "      <th>para4</th>\n",
       "      <td>-0.125879</td>\n",
       "      <td>-0.122915</td>\n",
       "      <td>-0.044341</td>\n",
       "      <td>-0.001390</td>\n",
       "      <td>0.691696</td>\n",
       "      <td>1.000000</td>\n",
       "      <td>0.581740</td>\n",
       "    </tr>\n",
       "    <tr>\n",
       "      <th>price</th>\n",
       "      <td>-0.032039</td>\n",
       "      <td>-0.032170</td>\n",
       "      <td>0.113636</td>\n",
       "      <td>0.429542</td>\n",
       "      <td>0.398840</td>\n",
       "      <td>0.581740</td>\n",
       "      <td>1.000000</td>\n",
       "    </tr>\n",
       "  </tbody>\n",
       "</table>\n",
       "</div>"
      ],
      "text/plain": [
       "           loc1      loc2     para1     para2     para3     para4     price\n",
       "loc1   1.000000  0.995070  0.027582  0.096890 -0.123890 -0.125879 -0.032039\n",
       "loc2   0.995070  1.000000  0.030597  0.094918 -0.117768 -0.122915 -0.032170\n",
       "para1  0.027582  0.030597  1.000000  0.200850 -0.033229 -0.044341  0.113636\n",
       "para2  0.096890  0.094918  0.200850  1.000000 -0.016252 -0.001390  0.429542\n",
       "para3 -0.123890 -0.117768 -0.033229 -0.016252  1.000000  0.691696  0.398840\n",
       "para4 -0.125879 -0.122915 -0.044341 -0.001390  0.691696  1.000000  0.581740\n",
       "price -0.032039 -0.032170  0.113636  0.429542  0.398840  0.581740  1.000000"
      ]
     },
     "execution_count": 25,
     "metadata": {},
     "output_type": "execute_result"
    }
   ],
   "source": [
    "#Correlation of numeric features\n",
    "df.select_dtypes(include='number').corr()"
   ]
  },
  {
   "cell_type": "markdown",
   "id": "d959b993-eb89-4b9a-89ab-65a23b688b24",
   "metadata": {},
   "source": [
    "### Data Processing"
   ]
  },
  {
   "cell_type": "code",
   "execution_count": 27,
   "id": "0bf52191-fb8e-41b2-bcd0-c6a4b50693b0",
   "metadata": {
    "tags": []
   },
   "outputs": [],
   "source": [
    "#Convert 'dow' to numeric values\n",
    "dow_map = {'Sun':0, 'Mon':1, 'Tue':2, 'Wed':3, 'Thu':4, 'Fri':5, 'Sat':6}\n",
    "\n",
    "df.dow = df.dow.map(dow_map)"
   ]
  },
  {
   "cell_type": "code",
   "execution_count": 28,
   "id": "26daf4af-2919-4fdb-a30f-b72ec321afb6",
   "metadata": {
    "tags": []
   },
   "outputs": [
    {
     "data": {
      "text/html": [
       "<div>\n",
       "<style scoped>\n",
       "    .dataframe tbody tr th:only-of-type {\n",
       "        vertical-align: middle;\n",
       "    }\n",
       "\n",
       "    .dataframe tbody tr th {\n",
       "        vertical-align: top;\n",
       "    }\n",
       "\n",
       "    .dataframe thead th {\n",
       "        text-align: right;\n",
       "    }\n",
       "</style>\n",
       "<table border=\"1\" class=\"dataframe\">\n",
       "  <thead>\n",
       "    <tr style=\"text-align: right;\">\n",
       "      <th></th>\n",
       "      <th>loc1</th>\n",
       "      <th>loc2</th>\n",
       "      <th>para1</th>\n",
       "      <th>dow</th>\n",
       "      <th>para2</th>\n",
       "      <th>para3</th>\n",
       "      <th>para4</th>\n",
       "      <th>price</th>\n",
       "    </tr>\n",
       "  </thead>\n",
       "  <tbody>\n",
       "    <tr>\n",
       "      <th>0</th>\n",
       "      <td>0</td>\n",
       "      <td>1</td>\n",
       "      <td>1</td>\n",
       "      <td>1</td>\n",
       "      <td>662</td>\n",
       "      <td>3000.0</td>\n",
       "      <td>3.8</td>\n",
       "      <td>73.49</td>\n",
       "    </tr>\n",
       "    <tr>\n",
       "      <th>1</th>\n",
       "      <td>9</td>\n",
       "      <td>99</td>\n",
       "      <td>1</td>\n",
       "      <td>4</td>\n",
       "      <td>340</td>\n",
       "      <td>2760.0</td>\n",
       "      <td>9.2</td>\n",
       "      <td>300.00</td>\n",
       "    </tr>\n",
       "    <tr>\n",
       "      <th>2</th>\n",
       "      <td>0</td>\n",
       "      <td>4</td>\n",
       "      <td>0</td>\n",
       "      <td>1</td>\n",
       "      <td>16</td>\n",
       "      <td>2700.0</td>\n",
       "      <td>3.0</td>\n",
       "      <td>130.00</td>\n",
       "    </tr>\n",
       "    <tr>\n",
       "      <th>3</th>\n",
       "      <td>4</td>\n",
       "      <td>40</td>\n",
       "      <td>1</td>\n",
       "      <td>1</td>\n",
       "      <td>17</td>\n",
       "      <td>12320.0</td>\n",
       "      <td>6.4</td>\n",
       "      <td>365.00</td>\n",
       "    </tr>\n",
       "    <tr>\n",
       "      <th>4</th>\n",
       "      <td>5</td>\n",
       "      <td>50</td>\n",
       "      <td>1</td>\n",
       "      <td>4</td>\n",
       "      <td>610</td>\n",
       "      <td>2117.0</td>\n",
       "      <td>10.8</td>\n",
       "      <td>357.50</td>\n",
       "    </tr>\n",
       "  </tbody>\n",
       "</table>\n",
       "</div>"
      ],
      "text/plain": [
       "   loc1  loc2  para1  dow  para2    para3  para4   price\n",
       "0     0     1      1    1    662   3000.0    3.8   73.49\n",
       "1     9    99      1    4    340   2760.0    9.2  300.00\n",
       "2     0     4      0    1     16   2700.0    3.0  130.00\n",
       "3     4    40      1    1     17  12320.0    6.4  365.00\n",
       "4     5    50      1    4    610   2117.0   10.8  357.50"
      ]
     },
     "execution_count": 28,
     "metadata": {},
     "output_type": "execute_result"
    }
   ],
   "source": [
    "df.head()"
   ]
  },
  {
   "cell_type": "markdown",
   "id": "a9eab207-8fb6-45da-aa87-15023a93c9b0",
   "metadata": {},
   "source": [
    "### Model Training"
   ]
  },
  {
   "cell_type": "code",
   "execution_count": 30,
   "id": "de21d168-2bed-421d-a965-cc3d3856fe26",
   "metadata": {
    "tags": []
   },
   "outputs": [],
   "source": [
    "#Select for X and y matrices\n",
    "X = df.drop('price', axis=1)\n",
    "y = df.price\n",
    "\n",
    "#Split Data into training and testing sets\n",
    "X_train, X_test, y_train, y_test = train_test_split(X, y, test_size=0.2, random_state=1)"
   ]
  },
  {
   "cell_type": "markdown",
   "id": "024fe5b3-5c98-4290-b410-7d3526fe165f",
   "metadata": {},
   "source": [
    "* **Multiple Linear Regression**"
   ]
  },
  {
   "cell_type": "code",
   "execution_count": 32,
   "id": "2a2bb2d8-6cc6-4c23-be24-fbc50438483b",
   "metadata": {
    "tags": []
   },
   "outputs": [
    {
     "name": "stdout",
     "output_type": "stream",
     "text": [
      "Model Selected Parameters: Index(['loc1', 'loc2', 'para1', 'dow', 'para2', 'para4'], dtype='object')\n",
      "Model R-squared: 0.5233277002774862\n",
      "Training Error: 26310.097493126515\n",
      "Testing Error: 21313.96074882139\n"
     ]
    }
   ],
   "source": [
    "#Make pipeline\n",
    "pipe = make_pipeline(StandardScaler(), RFECV(LinearRegression(), scoring='neg_mean_squared_error'), LinearRegression())\n",
    "\n",
    "#Fit model using pipeline and calculate MSE score for testing data\n",
    "pipe.fit(X_train, y_train)\n",
    "print('Model Selected Parameters:', X_train.columns[pipe['rfecv'].support_])\n",
    "print('Model R-squared:', r2_score(y_train, pipe.predict(X_train)))\n",
    "print('Training Error:', mean_squared_error(y_train, pipe.predict(X_train)))\n",
    "print('Testing Error:', mean_squared_error(y_test, pipe.predict(X_test)))"
   ]
  },
  {
   "cell_type": "markdown",
   "id": "e92786af-2478-4597-ae8c-b20d12ad60a0",
   "metadata": {},
   "source": [
    "* **Ridge Regression**"
   ]
  },
  {
   "cell_type": "code",
   "execution_count": 34,
   "id": "a24e233f-85b6-4433-be8c-1c5ef1d449d9",
   "metadata": {
    "tags": []
   },
   "outputs": [
    {
     "name": "stdout",
     "output_type": "stream",
     "text": [
      "Model Selected Parameters: Index(['loc1', 'loc2', 'para1', 'dow', 'para2', 'para4'], dtype='object')\n",
      "Model R-squared: 0.5233276709182468\n",
      "Training Error: 26310.0991136202\n",
      "Testing Error: 21314.083731787316\n"
     ]
    }
   ],
   "source": [
    "pipe = make_pipeline(StandardScaler(), RFECV(Ridge(), scoring='neg_mean_squared_error'), Ridge(random_state=1))\n",
    "pipe.fit(X_train, y_train)\n",
    "print('Model Selected Parameters:', X_train.columns[pipe['rfecv'].support_])\n",
    "print('Model R-squared:', r2_score(y_train, pipe.predict(X_train)))\n",
    "print('Training Error:', mean_squared_error(y_train, pipe.predict(X_train)))\n",
    "print('Testing Error:', mean_squared_error(y_test, pipe.predict(X_test)))"
   ]
  },
  {
   "cell_type": "markdown",
   "id": "e61e0e95-fb78-4def-a8b7-f44662a1e982",
   "metadata": {},
   "source": [
    "* **Decision Tree**"
   ]
  },
  {
   "cell_type": "code",
   "execution_count": 36,
   "id": "5a837bcd-05c5-4727-8e9d-56fef23e1226",
   "metadata": {
    "tags": []
   },
   "outputs": [
    {
     "name": "stdout",
     "output_type": "stream",
     "text": [
      "Model Selected Parameters: Index(['para2', 'para4'], dtype='object')\n",
      "Model R-squared: 0.8782576262775379\n",
      "Training Error: 6719.613712706241\n",
      "Testing Error: 30059.943709988558\n"
     ]
    }
   ],
   "source": [
    "pipe = make_pipeline(StandardScaler(), RFECV(DecisionTreeRegressor(random_state=1), scoring='neg_mean_squared_error'), DecisionTreeRegressor(random_state=1))\n",
    "pipe.fit(X_train, y_train)\n",
    "print('Model Selected Parameters:', X_train.columns[pipe['rfecv'].support_])\n",
    "print('Model R-squared:', r2_score(y_train, pipe.predict(X_train)))\n",
    "print('Training Error:', mean_squared_error(y_train, pipe.predict(X_train)))\n",
    "print('Testing Error:', mean_squared_error(y_test, pipe.predict(X_test)))"
   ]
  },
  {
   "cell_type": "markdown",
   "id": "8c6f8e39-5bd0-4443-ba4f-144db01a151e",
   "metadata": {},
   "source": [
    "* **Random Forest**"
   ]
  },
  {
   "cell_type": "code",
   "execution_count": 38,
   "id": "bab309e1-0ab2-4955-b827-751dbfb7e9d8",
   "metadata": {
    "tags": []
   },
   "outputs": [
    {
     "name": "stdout",
     "output_type": "stream",
     "text": [
      "Model Selected Parameters: Index(['loc2', 'para1', 'dow', 'para2', 'para3', 'para4'], dtype='object')\n",
      "Model R-squared: 0.949075955897229\n",
      "Training Error: 2810.7707661387703\n",
      "Testing Error: 16096.952253286121\n"
     ]
    }
   ],
   "source": [
    "pipe = make_pipeline(StandardScaler(), RFECV(RandomForestRegressor(random_state=1), scoring='neg_mean_squared_error'), RandomForestRegressor(random_state=1))\n",
    "pipe.fit(X_train, y_train)\n",
    "print('Model Selected Parameters:', X_train.columns[pipe['rfecv'].support_])\n",
    "print('Model R-squared:', r2_score(y_train, pipe.predict(X_train)))\n",
    "print('Training Error:', mean_squared_error(y_train, pipe.predict(X_train)))\n",
    "print('Testing Error:', mean_squared_error(y_test, pipe.predict(X_test)))"
   ]
  },
  {
   "cell_type": "markdown",
   "id": "611bcc02-a1ff-4abe-bdb7-064ca8837f5b",
   "metadata": {},
   "source": [
    "* **Random Forest Hyperparameter Tuning**"
   ]
  },
  {
   "cell_type": "code",
   "execution_count": 43,
   "id": "5569d9aa-d0f0-4e8a-8ef1-e56d91bf8928",
   "metadata": {
    "tags": []
   },
   "outputs": [
    {
     "data": {
      "text/html": [
       "<style>#sk-container-id-1 {\n",
       "  /* Definition of color scheme common for light and dark mode */\n",
       "  --sklearn-color-text: black;\n",
       "  --sklearn-color-line: gray;\n",
       "  /* Definition of color scheme for unfitted estimators */\n",
       "  --sklearn-color-unfitted-level-0: #fff5e6;\n",
       "  --sklearn-color-unfitted-level-1: #f6e4d2;\n",
       "  --sklearn-color-unfitted-level-2: #ffe0b3;\n",
       "  --sklearn-color-unfitted-level-3: chocolate;\n",
       "  /* Definition of color scheme for fitted estimators */\n",
       "  --sklearn-color-fitted-level-0: #f0f8ff;\n",
       "  --sklearn-color-fitted-level-1: #d4ebff;\n",
       "  --sklearn-color-fitted-level-2: #b3dbfd;\n",
       "  --sklearn-color-fitted-level-3: cornflowerblue;\n",
       "\n",
       "  /* Specific color for light theme */\n",
       "  --sklearn-color-text-on-default-background: var(--sg-text-color, var(--theme-code-foreground, var(--jp-content-font-color1, black)));\n",
       "  --sklearn-color-background: var(--sg-background-color, var(--theme-background, var(--jp-layout-color0, white)));\n",
       "  --sklearn-color-border-box: var(--sg-text-color, var(--theme-code-foreground, var(--jp-content-font-color1, black)));\n",
       "  --sklearn-color-icon: #696969;\n",
       "\n",
       "  @media (prefers-color-scheme: dark) {\n",
       "    /* Redefinition of color scheme for dark theme */\n",
       "    --sklearn-color-text-on-default-background: var(--sg-text-color, var(--theme-code-foreground, var(--jp-content-font-color1, white)));\n",
       "    --sklearn-color-background: var(--sg-background-color, var(--theme-background, var(--jp-layout-color0, #111)));\n",
       "    --sklearn-color-border-box: var(--sg-text-color, var(--theme-code-foreground, var(--jp-content-font-color1, white)));\n",
       "    --sklearn-color-icon: #878787;\n",
       "  }\n",
       "}\n",
       "\n",
       "#sk-container-id-1 {\n",
       "  color: var(--sklearn-color-text);\n",
       "}\n",
       "\n",
       "#sk-container-id-1 pre {\n",
       "  padding: 0;\n",
       "}\n",
       "\n",
       "#sk-container-id-1 input.sk-hidden--visually {\n",
       "  border: 0;\n",
       "  clip: rect(1px 1px 1px 1px);\n",
       "  clip: rect(1px, 1px, 1px, 1px);\n",
       "  height: 1px;\n",
       "  margin: -1px;\n",
       "  overflow: hidden;\n",
       "  padding: 0;\n",
       "  position: absolute;\n",
       "  width: 1px;\n",
       "}\n",
       "\n",
       "#sk-container-id-1 div.sk-dashed-wrapped {\n",
       "  border: 1px dashed var(--sklearn-color-line);\n",
       "  margin: 0 0.4em 0.5em 0.4em;\n",
       "  box-sizing: border-box;\n",
       "  padding-bottom: 0.4em;\n",
       "  background-color: var(--sklearn-color-background);\n",
       "}\n",
       "\n",
       "#sk-container-id-1 div.sk-container {\n",
       "  /* jupyter's `normalize.less` sets `[hidden] { display: none; }`\n",
       "     but bootstrap.min.css set `[hidden] { display: none !important; }`\n",
       "     so we also need the `!important` here to be able to override the\n",
       "     default hidden behavior on the sphinx rendered scikit-learn.org.\n",
       "     See: https://github.com/scikit-learn/scikit-learn/issues/21755 */\n",
       "  display: inline-block !important;\n",
       "  position: relative;\n",
       "}\n",
       "\n",
       "#sk-container-id-1 div.sk-text-repr-fallback {\n",
       "  display: none;\n",
       "}\n",
       "\n",
       "div.sk-parallel-item,\n",
       "div.sk-serial,\n",
       "div.sk-item {\n",
       "  /* draw centered vertical line to link estimators */\n",
       "  background-image: linear-gradient(var(--sklearn-color-text-on-default-background), var(--sklearn-color-text-on-default-background));\n",
       "  background-size: 2px 100%;\n",
       "  background-repeat: no-repeat;\n",
       "  background-position: center center;\n",
       "}\n",
       "\n",
       "/* Parallel-specific style estimator block */\n",
       "\n",
       "#sk-container-id-1 div.sk-parallel-item::after {\n",
       "  content: \"\";\n",
       "  width: 100%;\n",
       "  border-bottom: 2px solid var(--sklearn-color-text-on-default-background);\n",
       "  flex-grow: 1;\n",
       "}\n",
       "\n",
       "#sk-container-id-1 div.sk-parallel {\n",
       "  display: flex;\n",
       "  align-items: stretch;\n",
       "  justify-content: center;\n",
       "  background-color: var(--sklearn-color-background);\n",
       "  position: relative;\n",
       "}\n",
       "\n",
       "#sk-container-id-1 div.sk-parallel-item {\n",
       "  display: flex;\n",
       "  flex-direction: column;\n",
       "}\n",
       "\n",
       "#sk-container-id-1 div.sk-parallel-item:first-child::after {\n",
       "  align-self: flex-end;\n",
       "  width: 50%;\n",
       "}\n",
       "\n",
       "#sk-container-id-1 div.sk-parallel-item:last-child::after {\n",
       "  align-self: flex-start;\n",
       "  width: 50%;\n",
       "}\n",
       "\n",
       "#sk-container-id-1 div.sk-parallel-item:only-child::after {\n",
       "  width: 0;\n",
       "}\n",
       "\n",
       "/* Serial-specific style estimator block */\n",
       "\n",
       "#sk-container-id-1 div.sk-serial {\n",
       "  display: flex;\n",
       "  flex-direction: column;\n",
       "  align-items: center;\n",
       "  background-color: var(--sklearn-color-background);\n",
       "  padding-right: 1em;\n",
       "  padding-left: 1em;\n",
       "}\n",
       "\n",
       "\n",
       "/* Toggleable style: style used for estimator/Pipeline/ColumnTransformer box that is\n",
       "clickable and can be expanded/collapsed.\n",
       "- Pipeline and ColumnTransformer use this feature and define the default style\n",
       "- Estimators will overwrite some part of the style using the `sk-estimator` class\n",
       "*/\n",
       "\n",
       "/* Pipeline and ColumnTransformer style (default) */\n",
       "\n",
       "#sk-container-id-1 div.sk-toggleable {\n",
       "  /* Default theme specific background. It is overwritten whether we have a\n",
       "  specific estimator or a Pipeline/ColumnTransformer */\n",
       "  background-color: var(--sklearn-color-background);\n",
       "}\n",
       "\n",
       "/* Toggleable label */\n",
       "#sk-container-id-1 label.sk-toggleable__label {\n",
       "  cursor: pointer;\n",
       "  display: block;\n",
       "  width: 100%;\n",
       "  margin-bottom: 0;\n",
       "  padding: 0.5em;\n",
       "  box-sizing: border-box;\n",
       "  text-align: center;\n",
       "}\n",
       "\n",
       "#sk-container-id-1 label.sk-toggleable__label-arrow:before {\n",
       "  /* Arrow on the left of the label */\n",
       "  content: \"▸\";\n",
       "  float: left;\n",
       "  margin-right: 0.25em;\n",
       "  color: var(--sklearn-color-icon);\n",
       "}\n",
       "\n",
       "#sk-container-id-1 label.sk-toggleable__label-arrow:hover:before {\n",
       "  color: var(--sklearn-color-text);\n",
       "}\n",
       "\n",
       "/* Toggleable content - dropdown */\n",
       "\n",
       "#sk-container-id-1 div.sk-toggleable__content {\n",
       "  max-height: 0;\n",
       "  max-width: 0;\n",
       "  overflow: hidden;\n",
       "  text-align: left;\n",
       "  /* unfitted */\n",
       "  background-color: var(--sklearn-color-unfitted-level-0);\n",
       "}\n",
       "\n",
       "#sk-container-id-1 div.sk-toggleable__content.fitted {\n",
       "  /* fitted */\n",
       "  background-color: var(--sklearn-color-fitted-level-0);\n",
       "}\n",
       "\n",
       "#sk-container-id-1 div.sk-toggleable__content pre {\n",
       "  margin: 0.2em;\n",
       "  border-radius: 0.25em;\n",
       "  color: var(--sklearn-color-text);\n",
       "  /* unfitted */\n",
       "  background-color: var(--sklearn-color-unfitted-level-0);\n",
       "}\n",
       "\n",
       "#sk-container-id-1 div.sk-toggleable__content.fitted pre {\n",
       "  /* unfitted */\n",
       "  background-color: var(--sklearn-color-fitted-level-0);\n",
       "}\n",
       "\n",
       "#sk-container-id-1 input.sk-toggleable__control:checked~div.sk-toggleable__content {\n",
       "  /* Expand drop-down */\n",
       "  max-height: 200px;\n",
       "  max-width: 100%;\n",
       "  overflow: auto;\n",
       "}\n",
       "\n",
       "#sk-container-id-1 input.sk-toggleable__control:checked~label.sk-toggleable__label-arrow:before {\n",
       "  content: \"▾\";\n",
       "}\n",
       "\n",
       "/* Pipeline/ColumnTransformer-specific style */\n",
       "\n",
       "#sk-container-id-1 div.sk-label input.sk-toggleable__control:checked~label.sk-toggleable__label {\n",
       "  color: var(--sklearn-color-text);\n",
       "  background-color: var(--sklearn-color-unfitted-level-2);\n",
       "}\n",
       "\n",
       "#sk-container-id-1 div.sk-label.fitted input.sk-toggleable__control:checked~label.sk-toggleable__label {\n",
       "  background-color: var(--sklearn-color-fitted-level-2);\n",
       "}\n",
       "\n",
       "/* Estimator-specific style */\n",
       "\n",
       "/* Colorize estimator box */\n",
       "#sk-container-id-1 div.sk-estimator input.sk-toggleable__control:checked~label.sk-toggleable__label {\n",
       "  /* unfitted */\n",
       "  background-color: var(--sklearn-color-unfitted-level-2);\n",
       "}\n",
       "\n",
       "#sk-container-id-1 div.sk-estimator.fitted input.sk-toggleable__control:checked~label.sk-toggleable__label {\n",
       "  /* fitted */\n",
       "  background-color: var(--sklearn-color-fitted-level-2);\n",
       "}\n",
       "\n",
       "#sk-container-id-1 div.sk-label label.sk-toggleable__label,\n",
       "#sk-container-id-1 div.sk-label label {\n",
       "  /* The background is the default theme color */\n",
       "  color: var(--sklearn-color-text-on-default-background);\n",
       "}\n",
       "\n",
       "/* On hover, darken the color of the background */\n",
       "#sk-container-id-1 div.sk-label:hover label.sk-toggleable__label {\n",
       "  color: var(--sklearn-color-text);\n",
       "  background-color: var(--sklearn-color-unfitted-level-2);\n",
       "}\n",
       "\n",
       "/* Label box, darken color on hover, fitted */\n",
       "#sk-container-id-1 div.sk-label.fitted:hover label.sk-toggleable__label.fitted {\n",
       "  color: var(--sklearn-color-text);\n",
       "  background-color: var(--sklearn-color-fitted-level-2);\n",
       "}\n",
       "\n",
       "/* Estimator label */\n",
       "\n",
       "#sk-container-id-1 div.sk-label label {\n",
       "  font-family: monospace;\n",
       "  font-weight: bold;\n",
       "  display: inline-block;\n",
       "  line-height: 1.2em;\n",
       "}\n",
       "\n",
       "#sk-container-id-1 div.sk-label-container {\n",
       "  text-align: center;\n",
       "}\n",
       "\n",
       "/* Estimator-specific */\n",
       "#sk-container-id-1 div.sk-estimator {\n",
       "  font-family: monospace;\n",
       "  border: 1px dotted var(--sklearn-color-border-box);\n",
       "  border-radius: 0.25em;\n",
       "  box-sizing: border-box;\n",
       "  margin-bottom: 0.5em;\n",
       "  /* unfitted */\n",
       "  background-color: var(--sklearn-color-unfitted-level-0);\n",
       "}\n",
       "\n",
       "#sk-container-id-1 div.sk-estimator.fitted {\n",
       "  /* fitted */\n",
       "  background-color: var(--sklearn-color-fitted-level-0);\n",
       "}\n",
       "\n",
       "/* on hover */\n",
       "#sk-container-id-1 div.sk-estimator:hover {\n",
       "  /* unfitted */\n",
       "  background-color: var(--sklearn-color-unfitted-level-2);\n",
       "}\n",
       "\n",
       "#sk-container-id-1 div.sk-estimator.fitted:hover {\n",
       "  /* fitted */\n",
       "  background-color: var(--sklearn-color-fitted-level-2);\n",
       "}\n",
       "\n",
       "/* Specification for estimator info (e.g. \"i\" and \"?\") */\n",
       "\n",
       "/* Common style for \"i\" and \"?\" */\n",
       "\n",
       ".sk-estimator-doc-link,\n",
       "a:link.sk-estimator-doc-link,\n",
       "a:visited.sk-estimator-doc-link {\n",
       "  float: right;\n",
       "  font-size: smaller;\n",
       "  line-height: 1em;\n",
       "  font-family: monospace;\n",
       "  background-color: var(--sklearn-color-background);\n",
       "  border-radius: 1em;\n",
       "  height: 1em;\n",
       "  width: 1em;\n",
       "  text-decoration: none !important;\n",
       "  margin-left: 1ex;\n",
       "  /* unfitted */\n",
       "  border: var(--sklearn-color-unfitted-level-1) 1pt solid;\n",
       "  color: var(--sklearn-color-unfitted-level-1);\n",
       "}\n",
       "\n",
       ".sk-estimator-doc-link.fitted,\n",
       "a:link.sk-estimator-doc-link.fitted,\n",
       "a:visited.sk-estimator-doc-link.fitted {\n",
       "  /* fitted */\n",
       "  border: var(--sklearn-color-fitted-level-1) 1pt solid;\n",
       "  color: var(--sklearn-color-fitted-level-1);\n",
       "}\n",
       "\n",
       "/* On hover */\n",
       "div.sk-estimator:hover .sk-estimator-doc-link:hover,\n",
       ".sk-estimator-doc-link:hover,\n",
       "div.sk-label-container:hover .sk-estimator-doc-link:hover,\n",
       ".sk-estimator-doc-link:hover {\n",
       "  /* unfitted */\n",
       "  background-color: var(--sklearn-color-unfitted-level-3);\n",
       "  color: var(--sklearn-color-background);\n",
       "  text-decoration: none;\n",
       "}\n",
       "\n",
       "div.sk-estimator.fitted:hover .sk-estimator-doc-link.fitted:hover,\n",
       ".sk-estimator-doc-link.fitted:hover,\n",
       "div.sk-label-container:hover .sk-estimator-doc-link.fitted:hover,\n",
       ".sk-estimator-doc-link.fitted:hover {\n",
       "  /* fitted */\n",
       "  background-color: var(--sklearn-color-fitted-level-3);\n",
       "  color: var(--sklearn-color-background);\n",
       "  text-decoration: none;\n",
       "}\n",
       "\n",
       "/* Span, style for the box shown on hovering the info icon */\n",
       ".sk-estimator-doc-link span {\n",
       "  display: none;\n",
       "  z-index: 9999;\n",
       "  position: relative;\n",
       "  font-weight: normal;\n",
       "  right: .2ex;\n",
       "  padding: .5ex;\n",
       "  margin: .5ex;\n",
       "  width: min-content;\n",
       "  min-width: 20ex;\n",
       "  max-width: 50ex;\n",
       "  color: var(--sklearn-color-text);\n",
       "  box-shadow: 2pt 2pt 4pt #999;\n",
       "  /* unfitted */\n",
       "  background: var(--sklearn-color-unfitted-level-0);\n",
       "  border: .5pt solid var(--sklearn-color-unfitted-level-3);\n",
       "}\n",
       "\n",
       ".sk-estimator-doc-link.fitted span {\n",
       "  /* fitted */\n",
       "  background: var(--sklearn-color-fitted-level-0);\n",
       "  border: var(--sklearn-color-fitted-level-3);\n",
       "}\n",
       "\n",
       ".sk-estimator-doc-link:hover span {\n",
       "  display: block;\n",
       "}\n",
       "\n",
       "/* \"?\"-specific style due to the `<a>` HTML tag */\n",
       "\n",
       "#sk-container-id-1 a.estimator_doc_link {\n",
       "  float: right;\n",
       "  font-size: 1rem;\n",
       "  line-height: 1em;\n",
       "  font-family: monospace;\n",
       "  background-color: var(--sklearn-color-background);\n",
       "  border-radius: 1rem;\n",
       "  height: 1rem;\n",
       "  width: 1rem;\n",
       "  text-decoration: none;\n",
       "  /* unfitted */\n",
       "  color: var(--sklearn-color-unfitted-level-1);\n",
       "  border: var(--sklearn-color-unfitted-level-1) 1pt solid;\n",
       "}\n",
       "\n",
       "#sk-container-id-1 a.estimator_doc_link.fitted {\n",
       "  /* fitted */\n",
       "  border: var(--sklearn-color-fitted-level-1) 1pt solid;\n",
       "  color: var(--sklearn-color-fitted-level-1);\n",
       "}\n",
       "\n",
       "/* On hover */\n",
       "#sk-container-id-1 a.estimator_doc_link:hover {\n",
       "  /* unfitted */\n",
       "  background-color: var(--sklearn-color-unfitted-level-3);\n",
       "  color: var(--sklearn-color-background);\n",
       "  text-decoration: none;\n",
       "}\n",
       "\n",
       "#sk-container-id-1 a.estimator_doc_link.fitted:hover {\n",
       "  /* fitted */\n",
       "  background-color: var(--sklearn-color-fitted-level-3);\n",
       "}\n",
       "</style><div id=\"sk-container-id-1\" class=\"sk-top-container\"><div class=\"sk-text-repr-fallback\"><pre>GridSearchCV(estimator=Pipeline(steps=[(&#x27;standardscaler&#x27;, StandardScaler()),\n",
       "                                       (&#x27;randomforestregressor&#x27;,\n",
       "                                        RandomForestRegressor(random_state=1))]),\n",
       "             param_grid={&#x27;randomforestregressor__max_depth&#x27;: [None, 1, 2, 5,\n",
       "                                                              10],\n",
       "                         &#x27;randomforestregressor__max_features&#x27;: [None, &#x27;sqrt&#x27;],\n",
       "                         &#x27;randomforestregressor__min_samples_leaf&#x27;: [1, 2, 5,\n",
       "                                                                     10]},\n",
       "             scoring=&#x27;neg_mean_squared_error&#x27;)</pre><b>In a Jupyter environment, please rerun this cell to show the HTML representation or trust the notebook. <br />On GitHub, the HTML representation is unable to render, please try loading this page with nbviewer.org.</b></div><div class=\"sk-container\" hidden><div class=\"sk-item sk-dashed-wrapped\"><div class=\"sk-label-container\"><div class=\"sk-label fitted sk-toggleable\"><input class=\"sk-toggleable__control sk-hidden--visually\" id=\"sk-estimator-id-1\" type=\"checkbox\" ><label for=\"sk-estimator-id-1\" class=\"sk-toggleable__label fitted sk-toggleable__label-arrow fitted\">&nbsp;&nbsp;GridSearchCV<a class=\"sk-estimator-doc-link fitted\" rel=\"noreferrer\" target=\"_blank\" href=\"https://scikit-learn.org/1.5/modules/generated/sklearn.model_selection.GridSearchCV.html\">?<span>Documentation for GridSearchCV</span></a><span class=\"sk-estimator-doc-link fitted\">i<span>Fitted</span></span></label><div class=\"sk-toggleable__content fitted\"><pre>GridSearchCV(estimator=Pipeline(steps=[(&#x27;standardscaler&#x27;, StandardScaler()),\n",
       "                                       (&#x27;randomforestregressor&#x27;,\n",
       "                                        RandomForestRegressor(random_state=1))]),\n",
       "             param_grid={&#x27;randomforestregressor__max_depth&#x27;: [None, 1, 2, 5,\n",
       "                                                              10],\n",
       "                         &#x27;randomforestregressor__max_features&#x27;: [None, &#x27;sqrt&#x27;],\n",
       "                         &#x27;randomforestregressor__min_samples_leaf&#x27;: [1, 2, 5,\n",
       "                                                                     10]},\n",
       "             scoring=&#x27;neg_mean_squared_error&#x27;)</pre></div> </div></div><div class=\"sk-parallel\"><div class=\"sk-parallel-item\"><div class=\"sk-item\"><div class=\"sk-label-container\"><div class=\"sk-label fitted sk-toggleable\"><input class=\"sk-toggleable__control sk-hidden--visually\" id=\"sk-estimator-id-2\" type=\"checkbox\" ><label for=\"sk-estimator-id-2\" class=\"sk-toggleable__label fitted sk-toggleable__label-arrow fitted\">best_estimator_: Pipeline</label><div class=\"sk-toggleable__content fitted\"><pre>Pipeline(steps=[(&#x27;standardscaler&#x27;, StandardScaler()),\n",
       "                (&#x27;randomforestregressor&#x27;,\n",
       "                 RandomForestRegressor(max_features=&#x27;sqrt&#x27;, random_state=1))])</pre></div> </div></div><div class=\"sk-serial\"><div class=\"sk-item\"><div class=\"sk-serial\"><div class=\"sk-item\"><div class=\"sk-estimator fitted sk-toggleable\"><input class=\"sk-toggleable__control sk-hidden--visually\" id=\"sk-estimator-id-3\" type=\"checkbox\" ><label for=\"sk-estimator-id-3\" class=\"sk-toggleable__label fitted sk-toggleable__label-arrow fitted\">&nbsp;StandardScaler<a class=\"sk-estimator-doc-link fitted\" rel=\"noreferrer\" target=\"_blank\" href=\"https://scikit-learn.org/1.5/modules/generated/sklearn.preprocessing.StandardScaler.html\">?<span>Documentation for StandardScaler</span></a></label><div class=\"sk-toggleable__content fitted\"><pre>StandardScaler()</pre></div> </div></div><div class=\"sk-item\"><div class=\"sk-estimator fitted sk-toggleable\"><input class=\"sk-toggleable__control sk-hidden--visually\" id=\"sk-estimator-id-4\" type=\"checkbox\" ><label for=\"sk-estimator-id-4\" class=\"sk-toggleable__label fitted sk-toggleable__label-arrow fitted\">&nbsp;RandomForestRegressor<a class=\"sk-estimator-doc-link fitted\" rel=\"noreferrer\" target=\"_blank\" href=\"https://scikit-learn.org/1.5/modules/generated/sklearn.ensemble.RandomForestRegressor.html\">?<span>Documentation for RandomForestRegressor</span></a></label><div class=\"sk-toggleable__content fitted\"><pre>RandomForestRegressor(max_features=&#x27;sqrt&#x27;, random_state=1)</pre></div> </div></div></div></div></div></div></div></div></div></div></div>"
      ],
      "text/plain": [
       "GridSearchCV(estimator=Pipeline(steps=[('standardscaler', StandardScaler()),\n",
       "                                       ('randomforestregressor',\n",
       "                                        RandomForestRegressor(random_state=1))]),\n",
       "             param_grid={'randomforestregressor__max_depth': [None, 1, 2, 5,\n",
       "                                                              10],\n",
       "                         'randomforestregressor__max_features': [None, 'sqrt'],\n",
       "                         'randomforestregressor__min_samples_leaf': [1, 2, 5,\n",
       "                                                                     10]},\n",
       "             scoring='neg_mean_squared_error')"
      ]
     },
     "execution_count": 43,
     "metadata": {},
     "output_type": "execute_result"
    }
   ],
   "source": [
    "#Hyperparameter Tuning using all features from previous model selection testing\n",
    "grid = {'randomforestregressor__max_depth': [None, 1, 2 , 5, 10],\n",
    "        'randomforestregressor__max_features': [None, 'sqrt'],\n",
    "        'randomforestregressor__min_samples_leaf': [1, 2, 5, 10]}\n",
    "\n",
    "pipe = make_pipeline(StandardScaler(), RandomForestRegressor(random_state=1))\n",
    "rfr = GridSearchCV(pipe, param_grid=grid, scoring='neg_mean_squared_error')\n",
    "\n",
    "rfr.fit(X_train, y_train)"
   ]
  },
  {
   "cell_type": "code",
   "execution_count": 47,
   "id": "3ff71e24-2a37-48d8-8ef2-8e028f7d314f",
   "metadata": {
    "tags": []
   },
   "outputs": [
    {
     "data": {
      "text/plain": [
       "{'randomforestregressor__max_depth': None,\n",
       " 'randomforestregressor__max_features': 'sqrt',\n",
       " 'randomforestregressor__min_samples_leaf': 1}"
      ]
     },
     "execution_count": 47,
     "metadata": {},
     "output_type": "execute_result"
    }
   ],
   "source": [
    "#List out the best parameters\n",
    "rfr.best_params_"
   ]
  },
  {
   "cell_type": "code",
   "execution_count": 49,
   "id": "30d24926-8bea-492a-bc0c-b118d55424e8",
   "metadata": {
    "tags": []
   },
   "outputs": [
    {
     "name": "stdout",
     "output_type": "stream",
     "text": [
      "Model R-squared: 0.9509899535473012\n",
      "Training Error: 2705.126983598168\n",
      "Testing Error: 15556.097639825803\n"
     ]
    }
   ],
   "source": [
    "#Print scores\n",
    "print('Model R-squared:', r2_score(y_train, rfr.predict(X_train)))\n",
    "print('Training Error:', mean_squared_error(y_train, rfr.predict(X_train)))\n",
    "print('Testing Error:', mean_squared_error(y_test, rfr.predict(X_test)))"
   ]
  },
  {
   "cell_type": "markdown",
   "id": "f4be79bc-f5bd-4cb2-9796-1d16654e0eef",
   "metadata": {},
   "source": [
    "<BR>"
   ]
  },
  {
   "cell_type": "markdown",
   "id": "f63d1383-b9e1-410f-8dcc-82df030fe980",
   "metadata": {},
   "source": [
    "### Limitations and Results"
   ]
  },
  {
   "cell_type": "markdown",
   "id": "17003f18-2869-4a96-a88f-ba84f2af7b41",
   "metadata": {},
   "source": [
    "**Limitations**\n",
    "* A lack of a data dictionary makes it difficult to understand the underlying data.\n",
    "\n",
    "**Results**\n",
    "* Multiple models were trained to select for the best model, which included multiple linear regression, ridge regression, decision tree regression, and random forest regression, with hyperparameter tuning.\n",
    "* During training, recursive feature elimination with cross-validation was used to select for the best features for each model.\n",
    "* Of all models tested, random forest regression yielded the best model with the righest R-squared and lowest training and testing error, although some form of overfitting does exist."
   ]
  }
 ],
 "metadata": {
  "kernelspec": {
   "display_name": "Python 3 (ipykernel)",
   "language": "python",
   "name": "python3"
  },
  "language_info": {
   "codemirror_mode": {
    "name": "ipython",
    "version": 3
   },
   "file_extension": ".py",
   "mimetype": "text/x-python",
   "name": "python",
   "nbconvert_exporter": "python",
   "pygments_lexer": "ipython3",
   "version": "3.11.9"
  }
 },
 "nbformat": 4,
 "nbformat_minor": 5
}
