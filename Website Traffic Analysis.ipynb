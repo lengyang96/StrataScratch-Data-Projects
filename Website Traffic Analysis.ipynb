{
 "cells": [
  {
   "cell_type": "markdown",
   "id": "5f6580b9-99ac-4f0f-a131-b88ca9c9ef99",
   "metadata": {
    "tags": []
   },
   "source": [
    "# Linkfire: Website Traffic Analysis"
   ]
  },
  {
   "cell_type": "markdown",
   "id": "cdfbb854-9918-4f8e-8920-c359a56172b4",
   "metadata": {},
   "source": [
    "**Leng Yang**\n",
    "\n",
    "**Last Updated: 1/27/25**"
   ]
  },
  {
   "cell_type": "markdown",
   "id": "6801ec6e-5837-4132-bb74-8b15f135609c",
   "metadata": {
    "tags": []
   },
   "source": [
    "## Assignment\n",
    "\n",
    "Project Source: https://platform.stratascratch.com/data-projects/website-traffic-analysis\n",
    "\n",
    "The goal of this project is to understand this traffic better, in particular the volume and distribution of events, and to develop ideas how to increase the links' clickrates. With that in mind, please analyze the data using the Python libraries Pandas and SciPy where indicated, providing answers to the presented questions:\n",
    "\n",
    "1. [Pandas] How many total pageview events did the links in the provided dataset receive in the full period, how many per day?\n",
    "2. [Pandas] What about the other recorded events?\n",
    "3. [Pandas] Which countries did the pageviews come from?\n",
    "4. [Pandas] What was the overall click rate (clicks/pageviews)?\n",
    "5. [Pandas] How does the clickrate distribute across different links?\n",
    "6. [Pandas & SciPy] Is there any correlation between clicks and previews on a link? Is it significant? How large is the effect? Make sure to at least test for potential linear as well as categorical (think binary) relationships between both variables."
   ]
  },
  {
   "cell_type": "markdown",
   "id": "cbe25ae6-e4a2-4cc5-87e4-0754065be96c",
   "metadata": {
    "tags": []
   },
   "source": [
    "## Data Description\n",
    "\n",
    "The data set provided (`traffic.csv`) contains web traffic data (`\"events\"`) from a few different pages (`\"links\"`) over a period of 7 days including various categorical dimensions about the geographic origin of that traffic as well as a page's content: `isrc`."
   ]
  },
  {
   "cell_type": "markdown",
   "id": "47690da7-cc05-4a97-93d4-78b0d0507894",
   "metadata": {},
   "source": [
    "<BR><BR>"
   ]
  },
  {
   "cell_type": "markdown",
   "id": "efad30e9-57ed-462d-bbc4-7e074015f9a8",
   "metadata": {},
   "source": [
    "### 1. How many total pageview events did the links in the provided dataset receive in the full period, how many per day?"
   ]
  },
  {
   "cell_type": "code",
   "execution_count": 7,
   "id": "cda31a23-60da-4332-abb8-d6dfbdf1455f",
   "metadata": {
    "tags": []
   },
   "outputs": [],
   "source": [
    "#Import necessary libraries\n",
    "import numpy as np\n",
    "import pandas as pd\n",
    "from scipy import stats"
   ]
  },
  {
   "cell_type": "code",
   "execution_count": 8,
   "id": "d891821d-a651-499e-88b5-2a4df78b1fc2",
   "metadata": {
    "tags": []
   },
   "outputs": [
    {
     "data": {
      "text/html": [
       "<div>\n",
       "<style scoped>\n",
       "    .dataframe tbody tr th:only-of-type {\n",
       "        vertical-align: middle;\n",
       "    }\n",
       "\n",
       "    .dataframe tbody tr th {\n",
       "        vertical-align: top;\n",
       "    }\n",
       "\n",
       "    .dataframe thead th {\n",
       "        text-align: right;\n",
       "    }\n",
       "</style>\n",
       "<table border=\"1\" class=\"dataframe\">\n",
       "  <thead>\n",
       "    <tr style=\"text-align: right;\">\n",
       "      <th></th>\n",
       "      <th>event</th>\n",
       "      <th>date</th>\n",
       "      <th>country</th>\n",
       "      <th>city</th>\n",
       "      <th>artist</th>\n",
       "      <th>album</th>\n",
       "      <th>track</th>\n",
       "      <th>isrc</th>\n",
       "      <th>linkid</th>\n",
       "    </tr>\n",
       "  </thead>\n",
       "  <tbody>\n",
       "    <tr>\n",
       "      <th>0</th>\n",
       "      <td>click</td>\n",
       "      <td>2021-08-21</td>\n",
       "      <td>Saudi Arabia</td>\n",
       "      <td>Jeddah</td>\n",
       "      <td>Tesher</td>\n",
       "      <td>Jalebi Baby</td>\n",
       "      <td>Jalebi Baby</td>\n",
       "      <td>QZNWQ2070741</td>\n",
       "      <td>2d896d31-97b6-4869-967b-1c5fb9cd4bb8</td>\n",
       "    </tr>\n",
       "    <tr>\n",
       "      <th>1</th>\n",
       "      <td>click</td>\n",
       "      <td>2021-08-21</td>\n",
       "      <td>Saudi Arabia</td>\n",
       "      <td>Jeddah</td>\n",
       "      <td>Tesher</td>\n",
       "      <td>Jalebi Baby</td>\n",
       "      <td>Jalebi Baby</td>\n",
       "      <td>QZNWQ2070741</td>\n",
       "      <td>2d896d31-97b6-4869-967b-1c5fb9cd4bb8</td>\n",
       "    </tr>\n",
       "    <tr>\n",
       "      <th>2</th>\n",
       "      <td>click</td>\n",
       "      <td>2021-08-21</td>\n",
       "      <td>India</td>\n",
       "      <td>Ludhiana</td>\n",
       "      <td>Reyanna Maria</td>\n",
       "      <td>So Pretty</td>\n",
       "      <td>So Pretty</td>\n",
       "      <td>USUM72100871</td>\n",
       "      <td>23199824-9cf5-4b98-942a-34965c3b0cc2</td>\n",
       "    </tr>\n",
       "    <tr>\n",
       "      <th>3</th>\n",
       "      <td>click</td>\n",
       "      <td>2021-08-21</td>\n",
       "      <td>France</td>\n",
       "      <td>Unknown</td>\n",
       "      <td>Simone &amp; Simaria, Sebastian Yatra</td>\n",
       "      <td>No Llores Más</td>\n",
       "      <td>No Llores Más</td>\n",
       "      <td>BRUM72003904</td>\n",
       "      <td>35573248-4e49-47c7-af80-08a960fa74cd</td>\n",
       "    </tr>\n",
       "    <tr>\n",
       "      <th>4</th>\n",
       "      <td>click</td>\n",
       "      <td>2021-08-21</td>\n",
       "      <td>Maldives</td>\n",
       "      <td>Malé</td>\n",
       "      <td>Tesher</td>\n",
       "      <td>Jalebi Baby</td>\n",
       "      <td>Jalebi Baby</td>\n",
       "      <td>QZNWQ2070741</td>\n",
       "      <td>2d896d31-97b6-4869-967b-1c5fb9cd4bb8</td>\n",
       "    </tr>\n",
       "  </tbody>\n",
       "</table>\n",
       "</div>"
      ],
      "text/plain": [
       "   event        date       country      city  \\\n",
       "0  click  2021-08-21  Saudi Arabia    Jeddah   \n",
       "1  click  2021-08-21  Saudi Arabia    Jeddah   \n",
       "2  click  2021-08-21         India  Ludhiana   \n",
       "3  click  2021-08-21        France   Unknown   \n",
       "4  click  2021-08-21      Maldives      Malé   \n",
       "\n",
       "                              artist          album          track  \\\n",
       "0                             Tesher    Jalebi Baby    Jalebi Baby   \n",
       "1                             Tesher    Jalebi Baby    Jalebi Baby   \n",
       "2                      Reyanna Maria      So Pretty      So Pretty   \n",
       "3  Simone & Simaria, Sebastian Yatra  No Llores Más  No Llores Más   \n",
       "4                             Tesher    Jalebi Baby    Jalebi Baby   \n",
       "\n",
       "           isrc                                linkid  \n",
       "0  QZNWQ2070741  2d896d31-97b6-4869-967b-1c5fb9cd4bb8  \n",
       "1  QZNWQ2070741  2d896d31-97b6-4869-967b-1c5fb9cd4bb8  \n",
       "2  USUM72100871  23199824-9cf5-4b98-942a-34965c3b0cc2  \n",
       "3  BRUM72003904  35573248-4e49-47c7-af80-08a960fa74cd  \n",
       "4  QZNWQ2070741  2d896d31-97b6-4869-967b-1c5fb9cd4bb8  "
      ]
     },
     "execution_count": 8,
     "metadata": {},
     "output_type": "execute_result"
    }
   ],
   "source": [
    "#Load in and preview data\n",
    "df = pd.read_csv('./datasets/traffic.csv')\n",
    "df.head()"
   ]
  },
  {
   "cell_type": "code",
   "execution_count": 9,
   "id": "f8be224c-3da2-4a9e-adf8-0b694ead6df3",
   "metadata": {
    "tags": []
   },
   "outputs": [
    {
     "data": {
      "text/plain": [
       "event\n",
       "pageview    142015\n",
       "click        55732\n",
       "preview      28531\n",
       "Name: count, dtype: int64"
      ]
     },
     "execution_count": 9,
     "metadata": {},
     "output_type": "execute_result"
    }
   ],
   "source": [
    "#Total number of events for each event type\n",
    "df.event.value_counts()"
   ]
  },
  {
   "cell_type": "code",
   "execution_count": 10,
   "id": "a4807516-296e-4e05-929c-27424180005e",
   "metadata": {
    "tags": []
   },
   "outputs": [
    {
     "data": {
      "text/html": [
       "<div>\n",
       "<style scoped>\n",
       "    .dataframe tbody tr th:only-of-type {\n",
       "        vertical-align: middle;\n",
       "    }\n",
       "\n",
       "    .dataframe tbody tr th {\n",
       "        vertical-align: top;\n",
       "    }\n",
       "\n",
       "    .dataframe thead th {\n",
       "        text-align: right;\n",
       "    }\n",
       "</style>\n",
       "<table border=\"1\" class=\"dataframe\">\n",
       "  <thead>\n",
       "    <tr style=\"text-align: right;\">\n",
       "      <th>event</th>\n",
       "      <th>click</th>\n",
       "      <th>pageview</th>\n",
       "      <th>preview</th>\n",
       "    </tr>\n",
       "    <tr>\n",
       "      <th>date</th>\n",
       "      <th></th>\n",
       "      <th></th>\n",
       "      <th></th>\n",
       "    </tr>\n",
       "  </thead>\n",
       "  <tbody>\n",
       "    <tr>\n",
       "      <th>2021-08-19</th>\n",
       "      <td>9207</td>\n",
       "      <td>22366</td>\n",
       "      <td>3788</td>\n",
       "    </tr>\n",
       "    <tr>\n",
       "      <th>2021-08-20</th>\n",
       "      <td>8508</td>\n",
       "      <td>21382</td>\n",
       "      <td>4222</td>\n",
       "    </tr>\n",
       "    <tr>\n",
       "      <th>2021-08-21</th>\n",
       "      <td>8071</td>\n",
       "      <td>21349</td>\n",
       "      <td>4663</td>\n",
       "    </tr>\n",
       "    <tr>\n",
       "      <th>2021-08-22</th>\n",
       "      <td>7854</td>\n",
       "      <td>20430</td>\n",
       "      <td>4349</td>\n",
       "    </tr>\n",
       "    <tr>\n",
       "      <th>2021-08-23</th>\n",
       "      <td>7315</td>\n",
       "      <td>18646</td>\n",
       "      <td>3847</td>\n",
       "    </tr>\n",
       "    <tr>\n",
       "      <th>2021-08-24</th>\n",
       "      <td>7301</td>\n",
       "      <td>18693</td>\n",
       "      <td>3840</td>\n",
       "    </tr>\n",
       "    <tr>\n",
       "      <th>2021-08-25</th>\n",
       "      <td>7476</td>\n",
       "      <td>19149</td>\n",
       "      <td>3822</td>\n",
       "    </tr>\n",
       "  </tbody>\n",
       "</table>\n",
       "</div>"
      ],
      "text/plain": [
       "event       click  pageview  preview\n",
       "date                                \n",
       "2021-08-19   9207     22366     3788\n",
       "2021-08-20   8508     21382     4222\n",
       "2021-08-21   8071     21349     4663\n",
       "2021-08-22   7854     20430     4349\n",
       "2021-08-23   7315     18646     3847\n",
       "2021-08-24   7301     18693     3840\n",
       "2021-08-25   7476     19149     3822"
      ]
     },
     "execution_count": 10,
     "metadata": {},
     "output_type": "execute_result"
    }
   ],
   "source": [
    "#Number of events per day for each event type\n",
    "df.groupby('date')['event'].value_counts().unstack()"
   ]
  },
  {
   "cell_type": "markdown",
   "id": "93f75fa4-d8e5-43f1-b735-ab565040662a",
   "metadata": {},
   "source": [
    "<BR>"
   ]
  },
  {
   "cell_type": "markdown",
   "id": "2c0d79ad-d5b1-4a03-9b00-9fbbba7fcce9",
   "metadata": {},
   "source": [
    "### 2. What about the other recorded events?"
   ]
  },
  {
   "cell_type": "markdown",
   "id": "5c156f97-408f-4ecf-9b94-7424daad2f0c",
   "metadata": {},
   "source": [
    "The total and number of events per day can be found in the above section for each event type."
   ]
  },
  {
   "cell_type": "markdown",
   "id": "8bc9b1a7-1066-4067-865c-dc828466c9d8",
   "metadata": {},
   "source": [
    "<BR>"
   ]
  },
  {
   "cell_type": "markdown",
   "id": "b9bda345-1d7f-4538-921e-29cc22791e9b",
   "metadata": {},
   "source": [
    "### 3. Which countries did the pageviews come from?"
   ]
  },
  {
   "cell_type": "code",
   "execution_count": 16,
   "id": "7f871374-49d0-4970-8e3d-8440e3101f5a",
   "metadata": {
    "tags": []
   },
   "outputs": [
    {
     "data": {
      "text/plain": [
       "array(['Saudi Arabia', 'United States', 'Ireland', 'United Kingdom',\n",
       "       'France', 'Guatemala', 'Jordan', 'Kuwait', 'Pakistan', 'Italy',\n",
       "       'Germany', 'Iraq', 'Peru', 'India', 'Nicaragua', 'Rwanda',\n",
       "       'Tanzania', 'United Arab Emirates', 'Norway', 'Oman', 'Bahamas',\n",
       "       'Algeria', 'Czechia', 'Mexico', 'Jamaica', 'Netherlands',\n",
       "       'Colombia', 'Morocco', 'Australia', 'Myanmar', 'Uzbekistan',\n",
       "       'Austria', 'Latvia', 'Turkey', 'Mauritania', 'Sri Lanka',\n",
       "       'Bosnia and Herzegovina', 'Estonia', 'Nigeria', 'Bulgaria',\n",
       "       'Greece', 'El Salvador', 'Philippines', 'Denmark', 'Serbia',\n",
       "       'Canada', 'Spain', 'Libya', 'Palestine', 'Chad', 'Ecuador', 'Mali',\n",
       "       'Romania', 'Switzerland', 'Portugal', 'Slovenia', 'Iceland',\n",
       "       'Sweden', 'Bahrain', 'Egypt', 'Lithuania', 'Liberia', 'Israel',\n",
       "       'Ukraine', 'Puerto Rico', 'South Africa', 'Ghana', 'Kenya',\n",
       "       'Armenia', 'Nepal', 'Barbados', 'Azerbaijan', 'Qatar', 'Uganda',\n",
       "       'Poland', 'Brazil', 'Guyana', 'Fiji', 'Bangladesh', 'Belgium',\n",
       "       'Hong Kong', 'Haiti', 'Botswana', 'Ivory Coast', 'Bhutan',\n",
       "       'Indonesia', 'Réunion', 'Cameroon', 'Singapore', 'Yemen',\n",
       "       'French Guiana', 'Slovakia', 'Dominican Republic', 'Russia',\n",
       "       'Cabo Verde', 'Kyrgyzstan', 'New Zealand', 'U.S. Virgin Islands',\n",
       "       'Albania', 'Venezuela', 'Burkina Faso', 'Montenegro', 'Paraguay',\n",
       "       'Bolivia', 'Cyprus', 'Mayotte', 'Thailand', 'Maldives', 'Tunisia',\n",
       "       'Namibia', 'Costa Rica', 'Croatia', 'Trinidad and Tobago',\n",
       "       'Senegal', 'Suriname', 'Malaysia', 'Honduras', 'DR Congo',\n",
       "       'South Korea', 'Finland', 'Mozambique', 'Hungary', 'Kazakhstan',\n",
       "       'Zambia', 'Somalia', 'Moldova', 'Cayman Islands',\n",
       "       'Saint Vincent and the Grenadines', 'Martinique', 'Guadeloupe',\n",
       "       'Kosovo', 'Sudan', 'Saint Lucia', 'Uruguay', nan, 'Mauritius',\n",
       "       'Aruba', 'Curaçao', 'British Virgin Islands', 'Vietnam', 'Laos',\n",
       "       'Sierra Leone', 'Seychelles', 'Guinea', 'Lebanon', 'Angola',\n",
       "       'Belize', 'Togo', 'Turks and Caicos Islands', 'Georgia', 'Gabon',\n",
       "       'Argentina', 'North Macedonia', 'Benin', 'Ethiopia', 'Niger',\n",
       "       'Zimbabwe', 'St Kitts and Nevis', 'Malawi', 'Chile', 'Madagascar',\n",
       "       'Panama', 'Luxembourg', 'Grenada', 'Greenland', 'Mongolia',\n",
       "       'Taiwan', 'Liechtenstein', 'Anguilla', 'Principality of Monaco',\n",
       "       'Djibouti', 'Samoa', 'Åland', 'Eswatini', 'Faroe Islands',\n",
       "       'Cambodia', 'China', 'French Polynesia', 'Papua New Guinea',\n",
       "       'Japan', 'Lesotho', 'Eritrea', 'Iran', 'Antigua and Barbuda',\n",
       "       'Burundi', 'Belarus', 'Guinea-Bissau', 'Bermuda', 'Gambia',\n",
       "       'Isle of Man', 'American Samoa', 'Tajikistan', 'Comoros', 'Jersey',\n",
       "       'Andorra', 'Brunei', 'Congo Republic', 'Syria', 'Dominica',\n",
       "       'New Caledonia', 'Marshall Islands', 'Macao', 'Gibraltar', 'Palau',\n",
       "       'Solomon Islands', 'Malta', 'Wallis and Futuna', 'Afghanistan',\n",
       "       'Central African Republic', 'Guernsey', 'Sint Maarten',\n",
       "       'Saint Martin'], dtype=object)"
      ]
     },
     "execution_count": 16,
     "metadata": {},
     "output_type": "execute_result"
    }
   ],
   "source": [
    "#All countries with a 'pageview' event\n",
    "df.loc[df.event == 'pageview', 'country'].unique()"
   ]
  },
  {
   "cell_type": "markdown",
   "id": "94421fc5-afbf-4f6a-a2bf-fae2a0b7d1d5",
   "metadata": {},
   "source": [
    "<BR>"
   ]
  },
  {
   "cell_type": "markdown",
   "id": "9688c6d9-f623-40bc-b4d3-dc9ab8e8e272",
   "metadata": {},
   "source": [
    "### 4. What was the overall click rate (clicks/pageviews)?"
   ]
  },
  {
   "cell_type": "code",
   "execution_count": 19,
   "id": "47d46fc1-f2a2-4eb4-8e33-388133aae6de",
   "metadata": {
    "tags": []
   },
   "outputs": [],
   "source": [
    "#Count the number of clicks and pageviews per linkid, dropping NA values where there are no clicks to the pageview\n",
    "clickrate = df.groupby('linkid')['event'].value_counts().unstack()[['click','pageview']].dropna()"
   ]
  },
  {
   "cell_type": "code",
   "execution_count": 20,
   "id": "23b2c02b-0e7d-486d-853b-3c6bafa508d5",
   "metadata": {
    "tags": []
   },
   "outputs": [],
   "source": [
    "#Calculate clickrate for each linkid\n",
    "clickrate['clickrate'] = clickrate.click / clickrate.pageview"
   ]
  },
  {
   "cell_type": "code",
   "execution_count": 21,
   "id": "b2be4551-4a5e-4f00-b8ca-e219cf1c8c51",
   "metadata": {
    "tags": []
   },
   "outputs": [
    {
     "data": {
      "text/html": [
       "<div>\n",
       "<style scoped>\n",
       "    .dataframe tbody tr th:only-of-type {\n",
       "        vertical-align: middle;\n",
       "    }\n",
       "\n",
       "    .dataframe tbody tr th {\n",
       "        vertical-align: top;\n",
       "    }\n",
       "\n",
       "    .dataframe thead th {\n",
       "        text-align: right;\n",
       "    }\n",
       "</style>\n",
       "<table border=\"1\" class=\"dataframe\">\n",
       "  <thead>\n",
       "    <tr style=\"text-align: right;\">\n",
       "      <th>event</th>\n",
       "      <th>click</th>\n",
       "      <th>pageview</th>\n",
       "      <th>clickrate</th>\n",
       "    </tr>\n",
       "    <tr>\n",
       "      <th>linkid</th>\n",
       "      <th></th>\n",
       "      <th></th>\n",
       "      <th></th>\n",
       "    </tr>\n",
       "  </thead>\n",
       "  <tbody>\n",
       "    <tr>\n",
       "      <th>00126b32-0c35-507b-981c-02c80d2aa8e7</th>\n",
       "      <td>2.0</td>\n",
       "      <td>2.0</td>\n",
       "      <td>1.000000</td>\n",
       "    </tr>\n",
       "    <tr>\n",
       "      <th>004b9724-abca-5481-b6e9-6148a7ca00a5</th>\n",
       "      <td>1.0</td>\n",
       "      <td>1.0</td>\n",
       "      <td>1.000000</td>\n",
       "    </tr>\n",
       "    <tr>\n",
       "      <th>0063a982-41cd-5629-96d0-e1c4dd72ea11</th>\n",
       "      <td>2.0</td>\n",
       "      <td>3.0</td>\n",
       "      <td>0.666667</td>\n",
       "    </tr>\n",
       "    <tr>\n",
       "      <th>006af6a0-1f0d-4b0c-93bf-756af9071c06</th>\n",
       "      <td>8.0</td>\n",
       "      <td>36.0</td>\n",
       "      <td>0.222222</td>\n",
       "    </tr>\n",
       "    <tr>\n",
       "      <th>00759b81-3f04-4a61-b934-f8fb3185f4a0</th>\n",
       "      <td>3.0</td>\n",
       "      <td>4.0</td>\n",
       "      <td>0.750000</td>\n",
       "    </tr>\n",
       "    <tr>\n",
       "      <th>...</th>\n",
       "      <td>...</td>\n",
       "      <td>...</td>\n",
       "      <td>...</td>\n",
       "    </tr>\n",
       "    <tr>\n",
       "      <th>ffd8d5a7-91bc-48e1-a692-c26fca8a8ead</th>\n",
       "      <td>29.0</td>\n",
       "      <td>84.0</td>\n",
       "      <td>0.345238</td>\n",
       "    </tr>\n",
       "    <tr>\n",
       "      <th>fff38ca0-8043-50cd-a5f1-f65ebb7105c5</th>\n",
       "      <td>1.0</td>\n",
       "      <td>1.0</td>\n",
       "      <td>1.000000</td>\n",
       "    </tr>\n",
       "    <tr>\n",
       "      <th>fff84c0e-90a1-59d8-9997-adc909d50e16</th>\n",
       "      <td>1.0</td>\n",
       "      <td>1.0</td>\n",
       "      <td>1.000000</td>\n",
       "    </tr>\n",
       "    <tr>\n",
       "      <th>fffc17a7-f935-5d3e-bd3e-d761fd80d479</th>\n",
       "      <td>1.0</td>\n",
       "      <td>2.0</td>\n",
       "      <td>0.500000</td>\n",
       "    </tr>\n",
       "    <tr>\n",
       "      <th>fffd0045-29de-522b-b5d8-35786363bf07</th>\n",
       "      <td>1.0</td>\n",
       "      <td>2.0</td>\n",
       "      <td>0.500000</td>\n",
       "    </tr>\n",
       "  </tbody>\n",
       "</table>\n",
       "<p>2253 rows × 3 columns</p>\n",
       "</div>"
      ],
      "text/plain": [
       "event                                 click  pageview  clickrate\n",
       "linkid                                                          \n",
       "00126b32-0c35-507b-981c-02c80d2aa8e7    2.0       2.0   1.000000\n",
       "004b9724-abca-5481-b6e9-6148a7ca00a5    1.0       1.0   1.000000\n",
       "0063a982-41cd-5629-96d0-e1c4dd72ea11    2.0       3.0   0.666667\n",
       "006af6a0-1f0d-4b0c-93bf-756af9071c06    8.0      36.0   0.222222\n",
       "00759b81-3f04-4a61-b934-f8fb3185f4a0    3.0       4.0   0.750000\n",
       "...                                     ...       ...        ...\n",
       "ffd8d5a7-91bc-48e1-a692-c26fca8a8ead   29.0      84.0   0.345238\n",
       "fff38ca0-8043-50cd-a5f1-f65ebb7105c5    1.0       1.0   1.000000\n",
       "fff84c0e-90a1-59d8-9997-adc909d50e16    1.0       1.0   1.000000\n",
       "fffc17a7-f935-5d3e-bd3e-d761fd80d479    1.0       2.0   0.500000\n",
       "fffd0045-29de-522b-b5d8-35786363bf07    1.0       2.0   0.500000\n",
       "\n",
       "[2253 rows x 3 columns]"
      ]
     },
     "execution_count": 21,
     "metadata": {},
     "output_type": "execute_result"
    }
   ],
   "source": [
    "#View of the clickrates across each linkid\n",
    "clickrate"
   ]
  },
  {
   "cell_type": "markdown",
   "id": "764cc06f-c6e9-4e27-9af6-16b916f7dfc4",
   "metadata": {},
   "source": [
    "<BR>"
   ]
  },
  {
   "cell_type": "markdown",
   "id": "502babea-6728-4436-8f70-b3c64794fccb",
   "metadata": {},
   "source": [
    "### 5. How does the clickrate distribute across different links?"
   ]
  },
  {
   "cell_type": "code",
   "execution_count": 24,
   "id": "0e007e1a-c17a-42f9-9fe5-adfd8ae20b75",
   "metadata": {
    "tags": []
   },
   "outputs": [
    {
     "data": {
      "text/plain": [
       "count    2253.000000\n",
       "mean        0.809920\n",
       "std         1.958030\n",
       "min         0.090909\n",
       "25%         0.500000\n",
       "50%         1.000000\n",
       "75%         1.000000\n",
       "max        92.300000\n",
       "Name: clickrate, dtype: float64"
      ]
     },
     "execution_count": 24,
     "metadata": {},
     "output_type": "execute_result"
    }
   ],
   "source": [
    "#Distribution of clickrate\n",
    "clickrate.clickrate.describe()"
   ]
  },
  {
   "cell_type": "markdown",
   "id": "89ef57e2-57c5-49b7-b2eb-555f299f492c",
   "metadata": {},
   "source": [
    "<BR>"
   ]
  },
  {
   "cell_type": "markdown",
   "id": "6eaaeb85-5f3a-49b7-9911-b3ea2821b7da",
   "metadata": {},
   "source": [
    "### 6. Is there any correlation between clicks and previews on a link? Is it significant? How large is the effect? Make sure to at least test for potential linear as well as categorical (think binary) relationships between both variables."
   ]
  },
  {
   "cell_type": "code",
   "execution_count": 27,
   "id": "018eab16-bb95-48e2-8339-2f8dd199f744",
   "metadata": {
    "tags": []
   },
   "outputs": [],
   "source": [
    "#Count the number of clicks and previews per linkid\n",
    "click_preview = df.groupby('linkid')['event'].value_counts().unstack()[['click','preview']]"
   ]
  },
  {
   "cell_type": "code",
   "execution_count": 28,
   "id": "4c374ca1-12e5-4827-936b-4d0f6ccc00e1",
   "metadata": {
    "tags": []
   },
   "outputs": [
    {
     "data": {
      "text/html": [
       "<div>\n",
       "<style scoped>\n",
       "    .dataframe tbody tr th:only-of-type {\n",
       "        vertical-align: middle;\n",
       "    }\n",
       "\n",
       "    .dataframe tbody tr th {\n",
       "        vertical-align: top;\n",
       "    }\n",
       "\n",
       "    .dataframe thead th {\n",
       "        text-align: right;\n",
       "    }\n",
       "</style>\n",
       "<table border=\"1\" class=\"dataframe\">\n",
       "  <thead>\n",
       "    <tr style=\"text-align: right;\">\n",
       "      <th>event</th>\n",
       "      <th>click</th>\n",
       "      <th>preview</th>\n",
       "    </tr>\n",
       "    <tr>\n",
       "      <th>event</th>\n",
       "      <th></th>\n",
       "      <th></th>\n",
       "    </tr>\n",
       "  </thead>\n",
       "  <tbody>\n",
       "    <tr>\n",
       "      <th>click</th>\n",
       "      <td>1.000000</td>\n",
       "      <td>0.993422</td>\n",
       "    </tr>\n",
       "    <tr>\n",
       "      <th>preview</th>\n",
       "      <td>0.993422</td>\n",
       "      <td>1.000000</td>\n",
       "    </tr>\n",
       "  </tbody>\n",
       "</table>\n",
       "</div>"
      ],
      "text/plain": [
       "event       click   preview\n",
       "event                      \n",
       "click    1.000000  0.993422\n",
       "preview  0.993422  1.000000"
      ]
     },
     "execution_count": 28,
     "metadata": {},
     "output_type": "execute_result"
    }
   ],
   "source": [
    "#There is a strong correlation between clicks and previews as one is dependent on the other (can't have clicks without previews)\n",
    "click_preview.corr()"
   ]
  },
  {
   "cell_type": "code",
   "execution_count": 46,
   "id": "56433ebf-692d-4264-9a90-bd93d810477e",
   "metadata": {
    "tags": []
   },
   "outputs": [
    {
     "data": {
      "text/html": [
       "<div>\n",
       "<style scoped>\n",
       "    .dataframe tbody tr th:only-of-type {\n",
       "        vertical-align: middle;\n",
       "    }\n",
       "\n",
       "    .dataframe tbody tr th {\n",
       "        vertical-align: top;\n",
       "    }\n",
       "\n",
       "    .dataframe thead th {\n",
       "        text-align: right;\n",
       "    }\n",
       "</style>\n",
       "<table border=\"1\" class=\"dataframe\">\n",
       "  <thead>\n",
       "    <tr style=\"text-align: right;\">\n",
       "      <th></th>\n",
       "      <th>country</th>\n",
       "      <th>city</th>\n",
       "      <th>artist</th>\n",
       "      <th>album</th>\n",
       "      <th>track</th>\n",
       "    </tr>\n",
       "  </thead>\n",
       "  <tbody>\n",
       "    <tr>\n",
       "      <th>country</th>\n",
       "      <td>1.000000</td>\n",
       "      <td>0.188101</td>\n",
       "      <td>0.010852</td>\n",
       "      <td>0.006472</td>\n",
       "      <td>0.005394</td>\n",
       "    </tr>\n",
       "    <tr>\n",
       "      <th>city</th>\n",
       "      <td>0.188101</td>\n",
       "      <td>1.000000</td>\n",
       "      <td>0.088732</td>\n",
       "      <td>0.095431</td>\n",
       "      <td>0.097308</td>\n",
       "    </tr>\n",
       "    <tr>\n",
       "      <th>artist</th>\n",
       "      <td>0.010852</td>\n",
       "      <td>0.088732</td>\n",
       "      <td>1.000000</td>\n",
       "      <td>0.901881</td>\n",
       "      <td>0.875746</td>\n",
       "    </tr>\n",
       "    <tr>\n",
       "      <th>album</th>\n",
       "      <td>0.006472</td>\n",
       "      <td>0.095431</td>\n",
       "      <td>0.901881</td>\n",
       "      <td>1.000000</td>\n",
       "      <td>0.963166</td>\n",
       "    </tr>\n",
       "    <tr>\n",
       "      <th>track</th>\n",
       "      <td>0.005394</td>\n",
       "      <td>0.097308</td>\n",
       "      <td>0.875746</td>\n",
       "      <td>0.963166</td>\n",
       "      <td>1.000000</td>\n",
       "    </tr>\n",
       "  </tbody>\n",
       "</table>\n",
       "</div>"
      ],
      "text/plain": [
       "          country      city    artist     album     track\n",
       "country  1.000000  0.188101  0.010852  0.006472  0.005394\n",
       "city     0.188101  1.000000  0.088732  0.095431  0.097308\n",
       "artist   0.010852  0.088732  1.000000  0.901881  0.875746\n",
       "album    0.006472  0.095431  0.901881  1.000000  0.963166\n",
       "track    0.005394  0.097308  0.875746  0.963166  1.000000"
      ]
     },
     "execution_count": 46,
     "metadata": {},
     "output_type": "execute_result"
    }
   ],
   "source": [
    "#Define categorical variables\n",
    "cats = ['country','city','artist','album','track']\n",
    "#Encode categorical values into numericals in order to determin correlation -- artist, album, and track are highly correlated as they are dependent upon one another\n",
    "df[cats].apply(lambda x: pd.factorize(x)[0]).corr()"
   ]
  }
 ],
 "metadata": {
  "kernelspec": {
   "display_name": "Python 3 (ipykernel)",
   "language": "python",
   "name": "python3"
  },
  "language_info": {
   "codemirror_mode": {
    "name": "ipython",
    "version": 3
   },
   "file_extension": ".py",
   "mimetype": "text/x-python",
   "name": "python",
   "nbconvert_exporter": "python",
   "pygments_lexer": "ipython3",
   "version": "3.11.9"
  }
 },
 "nbformat": 4,
 "nbformat_minor": 5
}
